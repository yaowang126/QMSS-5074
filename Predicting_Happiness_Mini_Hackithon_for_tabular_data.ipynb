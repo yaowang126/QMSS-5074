{
  "nbformat": 4,
  "nbformat_minor": 0,
  "metadata": {
    "kernelspec": {
      "display_name": "Python 3",
      "language": "python",
      "name": "python3"
    },
    "language_info": {
      "codemirror_mode": {
        "name": "ipython",
        "version": 3
      },
      "file_extension": ".py",
      "mimetype": "text/x-python",
      "name": "python",
      "nbconvert_exporter": "python",
      "pygments_lexer": "ipython3",
      "version": "3.7.0"
    },
    "colab": {
      "name": "Predicting_Happiness_Mini_Hackithon_for_tabular_data.ipynb",
      "provenance": [],
      "collapsed_sections": [],
      "toc_visible": true
    }
  },
  "cells": [
    {
      "cell_type": "markdown",
      "metadata": {
        "id": "459kukMTW_NS",
        "colab_type": "text"
      },
      "source": [
        "# Objective: Predict World Happiness Rankings \n",
        "\n",
        "What makes the citizens of one country more happy than the citizens of other countries?  Do variables measuing perceptions of corruption, GDP, maintaining a healthy lifestyle, or social support associate with a country's happiness ranking?  \n",
        "\n",
        "Let's use the United Nation's World Happiness Rankings country level data to experiment with models that predict happiness rankings well.\n",
        "\n",
        "\n",
        "---\n",
        "\n",
        "**Data**: 2019 World Happiness Survey Rankings\n",
        "*(Data can be found on Advanced Projects in ML courseworks site)*\n",
        "\n",
        "**Features**\n",
        "*   Country or region\n",
        "*   GDP per capita\n",
        "*   Social support\n",
        "*   Healthy life expectancy\n",
        "*   Freedom to make life choices\n",
        "*   Generosity\n",
        "*   Perceptions of corruption\n",
        "\n",
        "**Target**\n",
        "*   Happiness_level (Very High = Top 20% and Very Low = Bottom 20%)\n",
        "\n",
        "Source: https://worldhappiness.report/\n",
        "\n",
        "\n"
      ]
    },
    {
      "cell_type": "markdown",
      "metadata": {
        "id": "csU39ojAgt-Q",
        "colab_type": "text"
      },
      "source": [
        "# Mini-Hackathon In Class Tasks\n",
        "\n",
        "\n",
        "\n",
        "1.   Build, save, and submit at least one Keras model.\n",
        "2.   Build, save, and submit at least one Scikit-learn model.\n",
        "3.   Seek advice through collaboration via Github:\n",
        "\n",
        "*      Save notebook w/ best model to private repo\n",
        "*      Invite a collaborator\n",
        "*      Collaborator should submit at least two issues w/ suggestions for model improvement\n",
        "\n",
        "4.   If time, improve model further!\n",
        "\n",
        "\n",
        "\n",
        "\n",
        "\n",
        "\n",
        "\n",
        "\n",
        "\n"
      ]
    },
    {
      "cell_type": "markdown",
      "metadata": {
        "id": "1Mhp-auHW_NT",
        "colab_type": "text"
      },
      "source": [
        "# Import the data\n",
        "\n",
        "\n"
      ]
    },
    {
      "cell_type": "code",
      "metadata": {
        "id": "rjS1JhdVohXG",
        "colab_type": "code",
        "outputId": "95044116-2337-4cb5-c1ac-edce4506f43b",
        "colab": {
          "base_uri": "https://localhost:8080/",
          "height": 91
        }
      },
      "source": [
        "! pip install scikit-learn --upgrade # load newest version of sklearn"
      ],
      "execution_count": 0,
      "outputs": [
        {
          "output_type": "stream",
          "text": [
            "Requirement already up-to-date: scikit-learn in /usr/local/lib/python3.6/dist-packages (0.22.1)\n",
            "Requirement already satisfied, skipping upgrade: numpy>=1.11.0 in /usr/local/lib/python3.6/dist-packages (from scikit-learn) (1.17.5)\n",
            "Requirement already satisfied, skipping upgrade: scipy>=0.17.0 in /usr/local/lib/python3.6/dist-packages (from scikit-learn) (1.4.1)\n",
            "Requirement already satisfied, skipping upgrade: joblib>=0.11 in /usr/local/lib/python3.6/dist-packages (from scikit-learn) (0.14.1)\n"
          ],
          "name": "stdout"
        }
      ]
    },
    {
      "cell_type": "code",
      "metadata": {
        "id": "VfTZoC1t7gVO",
        "colab_type": "code",
        "outputId": "bfb1f4b6-06c9-4655-e4ae-6066ff6fd450",
        "colab": {
          "base_uri": "https://localhost:8080/",
          "height": 206
        }
      },
      "source": [
        "import matplotlib.pyplot as plt\n",
        "import numpy as np\n",
        "import pandas as pd\n",
        "\n",
        "data=pd.read_csv(\"worldhappiness2019.csv\")\n",
        "\n",
        "data.head()"
      ],
      "execution_count": 0,
      "outputs": [
        {
          "output_type": "execute_result",
          "data": {
            "text/html": [
              "<div>\n",
              "<style scoped>\n",
              "    .dataframe tbody tr th:only-of-type {\n",
              "        vertical-align: middle;\n",
              "    }\n",
              "\n",
              "    .dataframe tbody tr th {\n",
              "        vertical-align: top;\n",
              "    }\n",
              "\n",
              "    .dataframe thead th {\n",
              "        text-align: right;\n",
              "    }\n",
              "</style>\n",
              "<table border=\"1\" class=\"dataframe\">\n",
              "  <thead>\n",
              "    <tr style=\"text-align: right;\">\n",
              "      <th></th>\n",
              "      <th>Happiness_level</th>\n",
              "      <th>Country or region</th>\n",
              "      <th>GDP per capita</th>\n",
              "      <th>Social support</th>\n",
              "      <th>Healthy life expectancy</th>\n",
              "      <th>Freedom to make life choices</th>\n",
              "      <th>Generosity</th>\n",
              "      <th>Perceptions of corruption</th>\n",
              "    </tr>\n",
              "  </thead>\n",
              "  <tbody>\n",
              "    <tr>\n",
              "      <th>0</th>\n",
              "      <td>Very High</td>\n",
              "      <td>Finland</td>\n",
              "      <td>1.340</td>\n",
              "      <td>1.587</td>\n",
              "      <td>0.986</td>\n",
              "      <td>0.596</td>\n",
              "      <td>0.153</td>\n",
              "      <td>0.393</td>\n",
              "    </tr>\n",
              "    <tr>\n",
              "      <th>1</th>\n",
              "      <td>Very High</td>\n",
              "      <td>Denmark</td>\n",
              "      <td>1.383</td>\n",
              "      <td>1.573</td>\n",
              "      <td>0.996</td>\n",
              "      <td>0.592</td>\n",
              "      <td>0.252</td>\n",
              "      <td>0.410</td>\n",
              "    </tr>\n",
              "    <tr>\n",
              "      <th>2</th>\n",
              "      <td>Very High</td>\n",
              "      <td>Norway</td>\n",
              "      <td>1.488</td>\n",
              "      <td>1.582</td>\n",
              "      <td>1.028</td>\n",
              "      <td>0.603</td>\n",
              "      <td>0.271</td>\n",
              "      <td>0.341</td>\n",
              "    </tr>\n",
              "    <tr>\n",
              "      <th>3</th>\n",
              "      <td>Very High</td>\n",
              "      <td>Iceland</td>\n",
              "      <td>1.380</td>\n",
              "      <td>1.624</td>\n",
              "      <td>1.026</td>\n",
              "      <td>0.591</td>\n",
              "      <td>0.354</td>\n",
              "      <td>0.118</td>\n",
              "    </tr>\n",
              "    <tr>\n",
              "      <th>4</th>\n",
              "      <td>Very High</td>\n",
              "      <td>Netherlands</td>\n",
              "      <td>1.396</td>\n",
              "      <td>1.522</td>\n",
              "      <td>0.999</td>\n",
              "      <td>0.557</td>\n",
              "      <td>0.322</td>\n",
              "      <td>0.298</td>\n",
              "    </tr>\n",
              "  </tbody>\n",
              "</table>\n",
              "</div>"
            ],
            "text/plain": [
              "  Happiness_level Country or region  ...  Generosity  Perceptions of corruption\n",
              "0       Very High           Finland  ...       0.153                      0.393\n",
              "1       Very High           Denmark  ...       0.252                      0.410\n",
              "2       Very High            Norway  ...       0.271                      0.341\n",
              "3       Very High           Iceland  ...       0.354                      0.118\n",
              "4       Very High       Netherlands  ...       0.322                      0.298\n",
              "\n",
              "[5 rows x 8 columns]"
            ]
          },
          "metadata": {
            "tags": []
          },
          "execution_count": 162
        }
      ]
    },
    {
      "cell_type": "markdown",
      "metadata": {
        "id": "x3KEaRaZW_N1",
        "colab_type": "text"
      },
      "source": [
        "# Build a model to predict happiness rankings"
      ]
    },
    {
      "cell_type": "code",
      "metadata": {
        "id": "YsW2O6OUW_N4",
        "colab_type": "code",
        "outputId": "51851d4c-2245-4d45-b72d-2f5c00ab5dd7",
        "colab": {
          "base_uri": "https://localhost:8080/",
          "height": 72
        }
      },
      "source": [
        "# Set up training and test data\n",
        "from sklearn.model_selection import train_test_split\n",
        "\n",
        "y=data['Happiness_level']\n",
        "X=data.drop(['Happiness_level'],axis=1)\n",
        "X_train, X_test, y_train, y_test = train_test_split(X, y, random_state=42)\n",
        "\n",
        "print(X_train.shape)\n",
        "print(y_train.shape)\n",
        "print(X_train.columns.tolist())"
      ],
      "execution_count": 0,
      "outputs": [
        {
          "output_type": "stream",
          "text": [
            "(117, 7)\n",
            "(117,)\n",
            "['Country or region', 'GDP per capita', 'Social support', 'Healthy life expectancy', 'Freedom to make life choices', 'Generosity', 'Perceptions of corruption']\n"
          ],
          "name": "stdout"
        }
      ]
    },
    {
      "cell_type": "markdown",
      "metadata": {
        "id": "c9RYSaMuh3E9",
        "colab_type": "text"
      },
      "source": [
        "## Preprocess data using Column Transformer and save fit preprocessor to \".pkl\" file"
      ]
    },
    {
      "cell_type": "code",
      "metadata": {
        "id": "-6RBNdinfApF",
        "colab_type": "code",
        "colab": {}
      },
      "source": [
        "from sklearn.preprocessing import StandardScaler, OneHotEncoder\n",
        "from sklearn.compose import ColumnTransformer, make_column_transformer\n",
        "from sklearn.pipeline import Pipeline\n",
        "from sklearn.impute import SimpleImputer\n",
        "from sklearn.preprocessing import StandardScaler, OneHotEncoder\n",
        "\n",
        "# We create the preprocessing pipelines for both numeric and categorical data.\n",
        "\n",
        "numeric_features=X.columns.tolist()\n",
        "numeric_features.remove('Country or region')\n",
        "\n",
        "numeric_transformer = Pipeline(steps=[\n",
        "    ('imputer', SimpleImputer(strategy='median')),\n",
        "    ('scaler', StandardScaler())])\n",
        "\n",
        "categorical_features = ['Country or region']\n",
        "\n",
        "#Replacing missing values with Modal value and then one hot encoding.\n",
        "categorical_transformer = Pipeline(steps=[\n",
        "    ('imputer', SimpleImputer(strategy='most_frequent')),\n",
        "    ('onehot', OneHotEncoder(handle_unknown='ignore'))])\n",
        "\n",
        "# final preprocessor object set up with ColumnTransformer\n",
        "\n",
        "preprocessor = ColumnTransformer(\n",
        "    transformers=[\n",
        "        ('num', numeric_transformer, numeric_features),\n",
        "        ('cat', categorical_transformer, categorical_features)])\n",
        "\n",
        "\n",
        "#Fit your preprocessor object\n",
        "prediction_input_preprocessor=preprocessor.fit(X_train) \n",
        "\n",
        "import pickle\n",
        "pickle.dump(prediction_input_preprocessor, open( \"preprocessor.pkl\", \"wb\" ) )"
      ],
      "execution_count": 0,
      "outputs": []
    },
    {
      "cell_type": "code",
      "metadata": {
        "id": "UuUkjnO8BbMR",
        "colab_type": "code",
        "outputId": "941bc095-e27b-4490-e676-9e5568ac3e20",
        "colab": {
          "base_uri": "https://localhost:8080/",
          "height": 35
        }
      },
      "source": [
        "# Check shape for keras input:\n",
        "prediction_input_preprocessor.transform(X_train).shape # pretty small dataset"
      ],
      "execution_count": 0,
      "outputs": [
        {
          "output_type": "execute_result",
          "data": {
            "text/plain": [
              "(117, 123)"
            ]
          },
          "metadata": {
            "tags": []
          },
          "execution_count": 165
        }
      ]
    },
    {
      "cell_type": "code",
      "metadata": {
        "id": "IeMz4SNyvKDz",
        "colab_type": "code",
        "outputId": "625efcc6-bd50-4f14-cd5b-9a9c29dcbf96",
        "colab": {
          "base_uri": "https://localhost:8080/",
          "height": 35
        }
      },
      "source": [
        "# Check shape for keras output:\n",
        "pd.get_dummies(y_train).shape"
      ],
      "execution_count": 0,
      "outputs": [
        {
          "output_type": "execute_result",
          "data": {
            "text/plain": [
              "(117, 5)"
            ]
          },
          "metadata": {
            "tags": []
          },
          "execution_count": 166
        }
      ]
    },
    {
      "cell_type": "markdown",
      "metadata": {
        "colab_type": "text",
        "id": "GEDHaXLEiZ28"
      },
      "source": [
        "## Fit a neural network with Keras"
      ]
    },
    {
      "cell_type": "code",
      "metadata": {
        "colab_type": "code",
        "outputId": "2adc09ac-c245-4a48-ff13-0837d0b82d40",
        "id": "NL_9niDpTIcC",
        "colab": {
          "base_uri": "https://localhost:8080/",
          "height": 1000
        }
      },
      "source": [
        "from keras.models import Sequential\n",
        "from keras.layers import Dense, Activation, Dropout\n",
        "import keras\n",
        "from keras.optimizers import SGD\n",
        "model = Sequential()\n",
        "model.add(Dense(124, input_dim=123, activation='relu'))\n",
        "model.add(Dense(124, activation='relu'))\n",
        "model.add(Dense(124, activation='relu'))\n",
        "\n",
        "model.add(Dense(5, activation='softmax')) \n",
        "                                            \n",
        "# Compile model\n",
        "model.compile(loss='categorical_crossentropy', optimizer='sgd', metrics=['accuracy'])\n",
        "\n",
        "# Fitting the NN to the Training set\n",
        "model.fit(prediction_input_preprocessor.transform(X_train), pd.get_dummies(y_train), \n",
        "               batch_size = 60, \n",
        "               epochs = 300, validation_split=0.2)  \n",
        "\n"
      ],
      "execution_count": 0,
      "outputs": [
        {
          "output_type": "stream",
          "text": [
            "Train on 93 samples, validate on 24 samples\n",
            "Epoch 1/300\n",
            "93/93 [==============================] - 0s 4ms/step - loss: 1.5969 - acc: 0.2043 - val_loss: 1.5591 - val_acc: 0.4167\n",
            "Epoch 2/300\n",
            "93/93 [==============================] - 0s 119us/step - loss: 1.5917 - acc: 0.2151 - val_loss: 1.5559 - val_acc: 0.4167\n",
            "Epoch 3/300\n",
            "93/93 [==============================] - 0s 99us/step - loss: 1.5870 - acc: 0.2258 - val_loss: 1.5523 - val_acc: 0.4167\n",
            "Epoch 4/300\n",
            "93/93 [==============================] - 0s 139us/step - loss: 1.5819 - acc: 0.2258 - val_loss: 1.5487 - val_acc: 0.4167\n",
            "Epoch 5/300\n",
            "93/93 [==============================] - 0s 130us/step - loss: 1.5768 - acc: 0.2258 - val_loss: 1.5454 - val_acc: 0.4583\n",
            "Epoch 6/300\n",
            "93/93 [==============================] - 0s 115us/step - loss: 1.5720 - acc: 0.2366 - val_loss: 1.5420 - val_acc: 0.4583\n",
            "Epoch 7/300\n",
            "93/93 [==============================] - 0s 113us/step - loss: 1.5671 - acc: 0.2581 - val_loss: 1.5387 - val_acc: 0.5000\n",
            "Epoch 8/300\n",
            "93/93 [==============================] - 0s 116us/step - loss: 1.5625 - acc: 0.3011 - val_loss: 1.5355 - val_acc: 0.5000\n",
            "Epoch 9/300\n",
            "93/93 [==============================] - 0s 102us/step - loss: 1.5579 - acc: 0.3441 - val_loss: 1.5324 - val_acc: 0.5417\n",
            "Epoch 10/300\n",
            "93/93 [==============================] - 0s 139us/step - loss: 1.5534 - acc: 0.3656 - val_loss: 1.5292 - val_acc: 0.5417\n",
            "Epoch 11/300\n",
            "93/93 [==============================] - 0s 155us/step - loss: 1.5490 - acc: 0.3978 - val_loss: 1.5262 - val_acc: 0.5417\n",
            "Epoch 12/300\n",
            "93/93 [==============================] - 0s 135us/step - loss: 1.5446 - acc: 0.3978 - val_loss: 1.5232 - val_acc: 0.5417\n",
            "Epoch 13/300\n",
            "93/93 [==============================] - 0s 100us/step - loss: 1.5404 - acc: 0.3978 - val_loss: 1.5202 - val_acc: 0.5417\n",
            "Epoch 14/300\n",
            "93/93 [==============================] - 0s 125us/step - loss: 1.5359 - acc: 0.3978 - val_loss: 1.5170 - val_acc: 0.5000\n",
            "Epoch 15/300\n",
            "93/93 [==============================] - 0s 153us/step - loss: 1.5316 - acc: 0.4194 - val_loss: 1.5137 - val_acc: 0.5417\n",
            "Epoch 16/300\n",
            "93/93 [==============================] - 0s 175us/step - loss: 1.5279 - acc: 0.4086 - val_loss: 1.5110 - val_acc: 0.5417\n",
            "Epoch 17/300\n",
            "93/93 [==============================] - 0s 163us/step - loss: 1.5237 - acc: 0.4301 - val_loss: 1.5080 - val_acc: 0.5417\n",
            "Epoch 18/300\n",
            "93/93 [==============================] - 0s 136us/step - loss: 1.5200 - acc: 0.4409 - val_loss: 1.5051 - val_acc: 0.5000\n",
            "Epoch 19/300\n",
            "93/93 [==============================] - 0s 149us/step - loss: 1.5159 - acc: 0.4624 - val_loss: 1.5018 - val_acc: 0.5000\n",
            "Epoch 20/300\n",
            "93/93 [==============================] - 0s 137us/step - loss: 1.5117 - acc: 0.4731 - val_loss: 1.4984 - val_acc: 0.5417\n",
            "Epoch 21/300\n",
            "93/93 [==============================] - 0s 156us/step - loss: 1.5074 - acc: 0.4731 - val_loss: 1.4952 - val_acc: 0.5417\n",
            "Epoch 22/300\n",
            "93/93 [==============================] - 0s 174us/step - loss: 1.5034 - acc: 0.4731 - val_loss: 1.4921 - val_acc: 0.5000\n",
            "Epoch 23/300\n",
            "93/93 [==============================] - 0s 151us/step - loss: 1.4992 - acc: 0.5161 - val_loss: 1.4890 - val_acc: 0.5000\n",
            "Epoch 24/300\n",
            "93/93 [==============================] - 0s 139us/step - loss: 1.4954 - acc: 0.5161 - val_loss: 1.4860 - val_acc: 0.5000\n",
            "Epoch 25/300\n",
            "93/93 [==============================] - 0s 164us/step - loss: 1.4914 - acc: 0.5484 - val_loss: 1.4829 - val_acc: 0.5000\n",
            "Epoch 26/300\n",
            "93/93 [==============================] - 0s 146us/step - loss: 1.4874 - acc: 0.5269 - val_loss: 1.4798 - val_acc: 0.5000\n",
            "Epoch 27/300\n",
            "93/93 [==============================] - 0s 180us/step - loss: 1.4833 - acc: 0.5376 - val_loss: 1.4765 - val_acc: 0.5000\n",
            "Epoch 28/300\n",
            "93/93 [==============================] - 0s 174us/step - loss: 1.4791 - acc: 0.5269 - val_loss: 1.4733 - val_acc: 0.5000\n",
            "Epoch 29/300\n",
            "93/93 [==============================] - 0s 147us/step - loss: 1.4750 - acc: 0.5376 - val_loss: 1.4701 - val_acc: 0.5000\n",
            "Epoch 30/300\n",
            "93/93 [==============================] - 0s 178us/step - loss: 1.4708 - acc: 0.5484 - val_loss: 1.4668 - val_acc: 0.5000\n",
            "Epoch 31/300\n",
            "93/93 [==============================] - 0s 164us/step - loss: 1.4665 - acc: 0.5591 - val_loss: 1.4633 - val_acc: 0.5000\n",
            "Epoch 32/300\n",
            "93/93 [==============================] - 0s 121us/step - loss: 1.4624 - acc: 0.5591 - val_loss: 1.4602 - val_acc: 0.5000\n",
            "Epoch 33/300\n",
            "93/93 [==============================] - 0s 122us/step - loss: 1.4583 - acc: 0.5699 - val_loss: 1.4568 - val_acc: 0.5417\n",
            "Epoch 34/300\n",
            "93/93 [==============================] - 0s 114us/step - loss: 1.4539 - acc: 0.5699 - val_loss: 1.4537 - val_acc: 0.5417\n",
            "Epoch 35/300\n",
            "93/93 [==============================] - 0s 120us/step - loss: 1.4497 - acc: 0.5591 - val_loss: 1.4503 - val_acc: 0.5417\n",
            "Epoch 36/300\n",
            "93/93 [==============================] - 0s 112us/step - loss: 1.4454 - acc: 0.5699 - val_loss: 1.4467 - val_acc: 0.5000\n",
            "Epoch 37/300\n",
            "93/93 [==============================] - 0s 113us/step - loss: 1.4409 - acc: 0.5699 - val_loss: 1.4433 - val_acc: 0.5000\n",
            "Epoch 38/300\n",
            "93/93 [==============================] - 0s 114us/step - loss: 1.4366 - acc: 0.5699 - val_loss: 1.4400 - val_acc: 0.5000\n",
            "Epoch 39/300\n",
            "93/93 [==============================] - 0s 114us/step - loss: 1.4325 - acc: 0.5699 - val_loss: 1.4364 - val_acc: 0.5000\n",
            "Epoch 40/300\n",
            "93/93 [==============================] - 0s 120us/step - loss: 1.4281 - acc: 0.5699 - val_loss: 1.4330 - val_acc: 0.5000\n",
            "Epoch 41/300\n",
            "93/93 [==============================] - 0s 193us/step - loss: 1.4237 - acc: 0.5699 - val_loss: 1.4296 - val_acc: 0.5000\n",
            "Epoch 42/300\n",
            "93/93 [==============================] - 0s 143us/step - loss: 1.4196 - acc: 0.5699 - val_loss: 1.4262 - val_acc: 0.5000\n",
            "Epoch 43/300\n",
            "93/93 [==============================] - 0s 149us/step - loss: 1.4152 - acc: 0.5699 - val_loss: 1.4226 - val_acc: 0.5000\n",
            "Epoch 44/300\n",
            "93/93 [==============================] - 0s 138us/step - loss: 1.4108 - acc: 0.5699 - val_loss: 1.4190 - val_acc: 0.5000\n",
            "Epoch 45/300\n",
            "93/93 [==============================] - 0s 130us/step - loss: 1.4063 - acc: 0.5699 - val_loss: 1.4152 - val_acc: 0.5000\n",
            "Epoch 46/300\n",
            "93/93 [==============================] - 0s 188us/step - loss: 1.4018 - acc: 0.5699 - val_loss: 1.4118 - val_acc: 0.5000\n",
            "Epoch 47/300\n",
            "93/93 [==============================] - 0s 151us/step - loss: 1.3976 - acc: 0.5699 - val_loss: 1.4085 - val_acc: 0.5000\n",
            "Epoch 48/300\n",
            "93/93 [==============================] - 0s 128us/step - loss: 1.3932 - acc: 0.5806 - val_loss: 1.4048 - val_acc: 0.5000\n",
            "Epoch 49/300\n",
            "93/93 [==============================] - 0s 133us/step - loss: 1.3889 - acc: 0.5806 - val_loss: 1.4014 - val_acc: 0.5000\n",
            "Epoch 50/300\n",
            "93/93 [==============================] - 0s 126us/step - loss: 1.3847 - acc: 0.5806 - val_loss: 1.3981 - val_acc: 0.5000\n",
            "Epoch 51/300\n",
            "93/93 [==============================] - 0s 118us/step - loss: 1.3807 - acc: 0.5914 - val_loss: 1.3950 - val_acc: 0.5000\n",
            "Epoch 52/300\n",
            "93/93 [==============================] - 0s 111us/step - loss: 1.3762 - acc: 0.6022 - val_loss: 1.3913 - val_acc: 0.5000\n",
            "Epoch 53/300\n",
            "93/93 [==============================] - 0s 172us/step - loss: 1.3718 - acc: 0.6022 - val_loss: 1.3878 - val_acc: 0.5000\n",
            "Epoch 54/300\n",
            "93/93 [==============================] - 0s 151us/step - loss: 1.3676 - acc: 0.5806 - val_loss: 1.3842 - val_acc: 0.5000\n",
            "Epoch 55/300\n",
            "93/93 [==============================] - 0s 122us/step - loss: 1.3634 - acc: 0.5806 - val_loss: 1.3807 - val_acc: 0.5000\n",
            "Epoch 56/300\n",
            "93/93 [==============================] - 0s 127us/step - loss: 1.3590 - acc: 0.5806 - val_loss: 1.3772 - val_acc: 0.5000\n",
            "Epoch 57/300\n",
            "93/93 [==============================] - 0s 146us/step - loss: 1.3547 - acc: 0.5806 - val_loss: 1.3733 - val_acc: 0.5000\n",
            "Epoch 58/300\n",
            "93/93 [==============================] - 0s 142us/step - loss: 1.3502 - acc: 0.5806 - val_loss: 1.3697 - val_acc: 0.5000\n",
            "Epoch 59/300\n",
            "93/93 [==============================] - 0s 115us/step - loss: 1.3459 - acc: 0.5914 - val_loss: 1.3660 - val_acc: 0.5000\n",
            "Epoch 60/300\n",
            "93/93 [==============================] - 0s 148us/step - loss: 1.3414 - acc: 0.5806 - val_loss: 1.3621 - val_acc: 0.5000\n",
            "Epoch 61/300\n",
            "93/93 [==============================] - 0s 154us/step - loss: 1.3369 - acc: 0.5806 - val_loss: 1.3585 - val_acc: 0.5000\n",
            "Epoch 62/300\n",
            "93/93 [==============================] - 0s 130us/step - loss: 1.3327 - acc: 0.5806 - val_loss: 1.3551 - val_acc: 0.5000\n",
            "Epoch 63/300\n",
            "93/93 [==============================] - 0s 131us/step - loss: 1.3286 - acc: 0.5806 - val_loss: 1.3517 - val_acc: 0.5000\n",
            "Epoch 64/300\n",
            "93/93 [==============================] - 0s 108us/step - loss: 1.3244 - acc: 0.5806 - val_loss: 1.3481 - val_acc: 0.5000\n",
            "Epoch 65/300\n",
            "93/93 [==============================] - 0s 112us/step - loss: 1.3200 - acc: 0.5806 - val_loss: 1.3443 - val_acc: 0.5000\n",
            "Epoch 66/300\n",
            "93/93 [==============================] - 0s 116us/step - loss: 1.3156 - acc: 0.5806 - val_loss: 1.3406 - val_acc: 0.5000\n",
            "Epoch 67/300\n",
            "93/93 [==============================] - 0s 116us/step - loss: 1.3112 - acc: 0.5806 - val_loss: 1.3370 - val_acc: 0.5000\n",
            "Epoch 68/300\n",
            "93/93 [==============================] - 0s 105us/step - loss: 1.3068 - acc: 0.5914 - val_loss: 1.3335 - val_acc: 0.5000\n",
            "Epoch 69/300\n",
            "93/93 [==============================] - 0s 128us/step - loss: 1.3028 - acc: 0.5914 - val_loss: 1.3302 - val_acc: 0.5000\n",
            "Epoch 70/300\n",
            "93/93 [==============================] - 0s 122us/step - loss: 1.2985 - acc: 0.5914 - val_loss: 1.3266 - val_acc: 0.5000\n",
            "Epoch 71/300\n",
            "93/93 [==============================] - 0s 116us/step - loss: 1.2944 - acc: 0.5914 - val_loss: 1.3233 - val_acc: 0.5000\n",
            "Epoch 72/300\n",
            "93/93 [==============================] - 0s 116us/step - loss: 1.2901 - acc: 0.6022 - val_loss: 1.3201 - val_acc: 0.5000\n",
            "Epoch 73/300\n",
            "93/93 [==============================] - 0s 220us/step - loss: 1.2861 - acc: 0.5914 - val_loss: 1.3168 - val_acc: 0.5000\n",
            "Epoch 74/300\n",
            "93/93 [==============================] - 0s 131us/step - loss: 1.2817 - acc: 0.5914 - val_loss: 1.3130 - val_acc: 0.5000\n",
            "Epoch 75/300\n",
            "93/93 [==============================] - 0s 143us/step - loss: 1.2774 - acc: 0.5806 - val_loss: 1.3095 - val_acc: 0.5000\n",
            "Epoch 76/300\n",
            "93/93 [==============================] - 0s 166us/step - loss: 1.2733 - acc: 0.5806 - val_loss: 1.3061 - val_acc: 0.5000\n",
            "Epoch 77/300\n",
            "93/93 [==============================] - 0s 172us/step - loss: 1.2694 - acc: 0.5806 - val_loss: 1.3021 - val_acc: 0.5000\n",
            "Epoch 78/300\n",
            "93/93 [==============================] - 0s 172us/step - loss: 1.2651 - acc: 0.5806 - val_loss: 1.2988 - val_acc: 0.5000\n",
            "Epoch 79/300\n",
            "93/93 [==============================] - 0s 177us/step - loss: 1.2609 - acc: 0.5806 - val_loss: 1.2952 - val_acc: 0.5000\n",
            "Epoch 80/300\n",
            "93/93 [==============================] - 0s 105us/step - loss: 1.2571 - acc: 0.5806 - val_loss: 1.2921 - val_acc: 0.5000\n",
            "Epoch 81/300\n",
            "93/93 [==============================] - 0s 85us/step - loss: 1.2530 - acc: 0.5806 - val_loss: 1.2890 - val_acc: 0.5000\n",
            "Epoch 82/300\n",
            "93/93 [==============================] - 0s 135us/step - loss: 1.2488 - acc: 0.5806 - val_loss: 1.2855 - val_acc: 0.5000\n",
            "Epoch 83/300\n",
            "93/93 [==============================] - 0s 135us/step - loss: 1.2448 - acc: 0.5699 - val_loss: 1.2820 - val_acc: 0.5000\n",
            "Epoch 84/300\n",
            "93/93 [==============================] - 0s 124us/step - loss: 1.2409 - acc: 0.5806 - val_loss: 1.2785 - val_acc: 0.5000\n",
            "Epoch 85/300\n",
            "93/93 [==============================] - 0s 114us/step - loss: 1.2372 - acc: 0.5806 - val_loss: 1.2751 - val_acc: 0.5000\n",
            "Epoch 86/300\n",
            "93/93 [==============================] - 0s 132us/step - loss: 1.2330 - acc: 0.5699 - val_loss: 1.2720 - val_acc: 0.5000\n",
            "Epoch 87/300\n",
            "93/93 [==============================] - 0s 113us/step - loss: 1.2294 - acc: 0.5591 - val_loss: 1.2689 - val_acc: 0.5000\n",
            "Epoch 88/300\n",
            "93/93 [==============================] - 0s 177us/step - loss: 1.2253 - acc: 0.5699 - val_loss: 1.2659 - val_acc: 0.5000\n",
            "Epoch 89/300\n",
            "93/93 [==============================] - 0s 157us/step - loss: 1.2216 - acc: 0.5591 - val_loss: 1.2629 - val_acc: 0.5417\n",
            "Epoch 90/300\n",
            "93/93 [==============================] - 0s 125us/step - loss: 1.2188 - acc: 0.5376 - val_loss: 1.2595 - val_acc: 0.5417\n",
            "Epoch 91/300\n",
            "93/93 [==============================] - 0s 113us/step - loss: 1.2143 - acc: 0.5591 - val_loss: 1.2566 - val_acc: 0.5417\n",
            "Epoch 92/300\n",
            "93/93 [==============================] - 0s 157us/step - loss: 1.2108 - acc: 0.5591 - val_loss: 1.2537 - val_acc: 0.5417\n",
            "Epoch 93/300\n",
            "93/93 [==============================] - 0s 134us/step - loss: 1.2072 - acc: 0.5484 - val_loss: 1.2503 - val_acc: 0.5417\n",
            "Epoch 94/300\n",
            "93/93 [==============================] - 0s 163us/step - loss: 1.2035 - acc: 0.5484 - val_loss: 1.2472 - val_acc: 0.5417\n",
            "Epoch 95/300\n",
            "93/93 [==============================] - 0s 138us/step - loss: 1.1996 - acc: 0.5484 - val_loss: 1.2440 - val_acc: 0.5417\n",
            "Epoch 96/300\n",
            "93/93 [==============================] - 0s 112us/step - loss: 1.1964 - acc: 0.5484 - val_loss: 1.2413 - val_acc: 0.5417\n",
            "Epoch 97/300\n",
            "93/93 [==============================] - 0s 128us/step - loss: 1.1927 - acc: 0.5484 - val_loss: 1.2383 - val_acc: 0.5417\n",
            "Epoch 98/300\n",
            "93/93 [==============================] - 0s 142us/step - loss: 1.1893 - acc: 0.5484 - val_loss: 1.2356 - val_acc: 0.5417\n",
            "Epoch 99/300\n",
            "93/93 [==============================] - 0s 117us/step - loss: 1.1857 - acc: 0.5484 - val_loss: 1.2326 - val_acc: 0.5417\n",
            "Epoch 100/300\n",
            "93/93 [==============================] - 0s 105us/step - loss: 1.1821 - acc: 0.5484 - val_loss: 1.2298 - val_acc: 0.5417\n",
            "Epoch 101/300\n",
            "93/93 [==============================] - 0s 141us/step - loss: 1.1789 - acc: 0.5484 - val_loss: 1.2266 - val_acc: 0.5417\n",
            "Epoch 102/300\n",
            "93/93 [==============================] - 0s 169us/step - loss: 1.1753 - acc: 0.5484 - val_loss: 1.2241 - val_acc: 0.5417\n",
            "Epoch 103/300\n",
            "93/93 [==============================] - 0s 122us/step - loss: 1.1717 - acc: 0.5484 - val_loss: 1.2211 - val_acc: 0.5417\n",
            "Epoch 104/300\n",
            "93/93 [==============================] - 0s 138us/step - loss: 1.1686 - acc: 0.5484 - val_loss: 1.2180 - val_acc: 0.5417\n",
            "Epoch 105/300\n",
            "93/93 [==============================] - 0s 155us/step - loss: 1.1654 - acc: 0.5484 - val_loss: 1.2157 - val_acc: 0.5417\n",
            "Epoch 106/300\n",
            "93/93 [==============================] - 0s 152us/step - loss: 1.1616 - acc: 0.5591 - val_loss: 1.2131 - val_acc: 0.5417\n",
            "Epoch 107/300\n",
            "93/93 [==============================] - 0s 174us/step - loss: 1.1584 - acc: 0.5591 - val_loss: 1.2103 - val_acc: 0.5417\n",
            "Epoch 108/300\n",
            "93/93 [==============================] - 0s 128us/step - loss: 1.1550 - acc: 0.5591 - val_loss: 1.2076 - val_acc: 0.5417\n",
            "Epoch 109/300\n",
            "93/93 [==============================] - 0s 172us/step - loss: 1.1518 - acc: 0.5591 - val_loss: 1.2052 - val_acc: 0.5417\n",
            "Epoch 110/300\n",
            "93/93 [==============================] - 0s 112us/step - loss: 1.1487 - acc: 0.5591 - val_loss: 1.2025 - val_acc: 0.5417\n",
            "Epoch 111/300\n",
            "93/93 [==============================] - 0s 183us/step - loss: 1.1458 - acc: 0.5591 - val_loss: 1.2005 - val_acc: 0.5417\n",
            "Epoch 112/300\n",
            "93/93 [==============================] - 0s 144us/step - loss: 1.1428 - acc: 0.5591 - val_loss: 1.1980 - val_acc: 0.5417\n",
            "Epoch 113/300\n",
            "93/93 [==============================] - 0s 129us/step - loss: 1.1400 - acc: 0.5699 - val_loss: 1.1959 - val_acc: 0.5417\n",
            "Epoch 114/300\n",
            "93/93 [==============================] - 0s 126us/step - loss: 1.1362 - acc: 0.5699 - val_loss: 1.1934 - val_acc: 0.5417\n",
            "Epoch 115/300\n",
            "93/93 [==============================] - 0s 195us/step - loss: 1.1333 - acc: 0.5699 - val_loss: 1.1913 - val_acc: 0.5417\n",
            "Epoch 116/300\n",
            "93/93 [==============================] - 0s 142us/step - loss: 1.1304 - acc: 0.5699 - val_loss: 1.1888 - val_acc: 0.5417\n",
            "Epoch 117/300\n",
            "93/93 [==============================] - 0s 122us/step - loss: 1.1274 - acc: 0.5699 - val_loss: 1.1865 - val_acc: 0.5417\n",
            "Epoch 118/300\n",
            "93/93 [==============================] - 0s 150us/step - loss: 1.1241 - acc: 0.5699 - val_loss: 1.1841 - val_acc: 0.5417\n",
            "Epoch 119/300\n",
            "93/93 [==============================] - 0s 140us/step - loss: 1.1213 - acc: 0.5699 - val_loss: 1.1815 - val_acc: 0.5417\n",
            "Epoch 120/300\n",
            "93/93 [==============================] - 0s 166us/step - loss: 1.1182 - acc: 0.5699 - val_loss: 1.1790 - val_acc: 0.5417\n",
            "Epoch 121/300\n",
            "93/93 [==============================] - 0s 136us/step - loss: 1.1150 - acc: 0.5591 - val_loss: 1.1765 - val_acc: 0.5417\n",
            "Epoch 122/300\n",
            "93/93 [==============================] - 0s 117us/step - loss: 1.1123 - acc: 0.5806 - val_loss: 1.1743 - val_acc: 0.5417\n",
            "Epoch 123/300\n",
            "93/93 [==============================] - 0s 159us/step - loss: 1.1092 - acc: 0.5699 - val_loss: 1.1721 - val_acc: 0.5417\n",
            "Epoch 124/300\n",
            "93/93 [==============================] - 0s 193us/step - loss: 1.1064 - acc: 0.5806 - val_loss: 1.1699 - val_acc: 0.5417\n",
            "Epoch 125/300\n",
            "93/93 [==============================] - 0s 151us/step - loss: 1.1036 - acc: 0.5806 - val_loss: 1.1677 - val_acc: 0.5417\n",
            "Epoch 126/300\n",
            "93/93 [==============================] - 0s 152us/step - loss: 1.1012 - acc: 0.5806 - val_loss: 1.1658 - val_acc: 0.5417\n",
            "Epoch 127/300\n",
            "93/93 [==============================] - 0s 145us/step - loss: 1.0980 - acc: 0.5914 - val_loss: 1.1638 - val_acc: 0.5417\n",
            "Epoch 128/300\n",
            "93/93 [==============================] - 0s 127us/step - loss: 1.0951 - acc: 0.5806 - val_loss: 1.1614 - val_acc: 0.5417\n",
            "Epoch 129/300\n",
            "93/93 [==============================] - 0s 153us/step - loss: 1.0923 - acc: 0.5914 - val_loss: 1.1594 - val_acc: 0.5417\n",
            "Epoch 130/300\n",
            "93/93 [==============================] - 0s 191us/step - loss: 1.0897 - acc: 0.5914 - val_loss: 1.1572 - val_acc: 0.5417\n",
            "Epoch 131/300\n",
            "93/93 [==============================] - 0s 144us/step - loss: 1.0869 - acc: 0.5914 - val_loss: 1.1550 - val_acc: 0.5417\n",
            "Epoch 132/300\n",
            "93/93 [==============================] - 0s 155us/step - loss: 1.0841 - acc: 0.5914 - val_loss: 1.1528 - val_acc: 0.5417\n",
            "Epoch 133/300\n",
            "93/93 [==============================] - 0s 150us/step - loss: 1.0814 - acc: 0.5914 - val_loss: 1.1506 - val_acc: 0.5417\n",
            "Epoch 134/300\n",
            "93/93 [==============================] - 0s 284us/step - loss: 1.0786 - acc: 0.5914 - val_loss: 1.1485 - val_acc: 0.5417\n",
            "Epoch 135/300\n",
            "93/93 [==============================] - 0s 174us/step - loss: 1.0759 - acc: 0.6022 - val_loss: 1.1464 - val_acc: 0.5417\n",
            "Epoch 136/300\n",
            "93/93 [==============================] - 0s 200us/step - loss: 1.0733 - acc: 0.6022 - val_loss: 1.1443 - val_acc: 0.5417\n",
            "Epoch 137/300\n",
            "93/93 [==============================] - 0s 157us/step - loss: 1.0708 - acc: 0.6022 - val_loss: 1.1422 - val_acc: 0.5417\n",
            "Epoch 138/300\n",
            "93/93 [==============================] - 0s 142us/step - loss: 1.0680 - acc: 0.6022 - val_loss: 1.1402 - val_acc: 0.5417\n",
            "Epoch 139/300\n",
            "93/93 [==============================] - 0s 148us/step - loss: 1.0655 - acc: 0.6022 - val_loss: 1.1384 - val_acc: 0.5417\n",
            "Epoch 140/300\n",
            "93/93 [==============================] - 0s 158us/step - loss: 1.0630 - acc: 0.6022 - val_loss: 1.1364 - val_acc: 0.5417\n",
            "Epoch 141/300\n",
            "93/93 [==============================] - 0s 153us/step - loss: 1.0606 - acc: 0.6022 - val_loss: 1.1345 - val_acc: 0.5417\n",
            "Epoch 142/300\n",
            "93/93 [==============================] - 0s 147us/step - loss: 1.0582 - acc: 0.6129 - val_loss: 1.1333 - val_acc: 0.5000\n",
            "Epoch 143/300\n",
            "93/93 [==============================] - 0s 120us/step - loss: 1.0557 - acc: 0.6129 - val_loss: 1.1312 - val_acc: 0.5000\n",
            "Epoch 144/300\n",
            "93/93 [==============================] - 0s 107us/step - loss: 1.0529 - acc: 0.6129 - val_loss: 1.1297 - val_acc: 0.5000\n",
            "Epoch 145/300\n",
            "93/93 [==============================] - 0s 105us/step - loss: 1.0504 - acc: 0.6129 - val_loss: 1.1279 - val_acc: 0.5000\n",
            "Epoch 146/300\n",
            "93/93 [==============================] - 0s 117us/step - loss: 1.0483 - acc: 0.6129 - val_loss: 1.1260 - val_acc: 0.5000\n",
            "Epoch 147/300\n",
            "93/93 [==============================] - 0s 129us/step - loss: 1.0459 - acc: 0.6129 - val_loss: 1.1240 - val_acc: 0.5000\n",
            "Epoch 148/300\n",
            "93/93 [==============================] - 0s 131us/step - loss: 1.0433 - acc: 0.6129 - val_loss: 1.1221 - val_acc: 0.5000\n",
            "Epoch 149/300\n",
            "93/93 [==============================] - 0s 115us/step - loss: 1.0410 - acc: 0.6237 - val_loss: 1.1203 - val_acc: 0.5000\n",
            "Epoch 150/300\n",
            "93/93 [==============================] - 0s 110us/step - loss: 1.0388 - acc: 0.6129 - val_loss: 1.1192 - val_acc: 0.5000\n",
            "Epoch 151/300\n",
            "93/93 [==============================] - 0s 117us/step - loss: 1.0362 - acc: 0.6237 - val_loss: 1.1178 - val_acc: 0.5000\n",
            "Epoch 152/300\n",
            "93/93 [==============================] - 0s 114us/step - loss: 1.0342 - acc: 0.6344 - val_loss: 1.1164 - val_acc: 0.5000\n",
            "Epoch 153/300\n",
            "93/93 [==============================] - 0s 129us/step - loss: 1.0318 - acc: 0.6344 - val_loss: 1.1146 - val_acc: 0.5000\n",
            "Epoch 154/300\n",
            "93/93 [==============================] - 0s 124us/step - loss: 1.0293 - acc: 0.6344 - val_loss: 1.1130 - val_acc: 0.5000\n",
            "Epoch 155/300\n",
            "93/93 [==============================] - 0s 152us/step - loss: 1.0271 - acc: 0.6452 - val_loss: 1.1116 - val_acc: 0.5000\n",
            "Epoch 156/300\n",
            "93/93 [==============================] - 0s 154us/step - loss: 1.0248 - acc: 0.6344 - val_loss: 1.1104 - val_acc: 0.5000\n",
            "Epoch 157/300\n",
            "93/93 [==============================] - 0s 142us/step - loss: 1.0225 - acc: 0.6452 - val_loss: 1.1088 - val_acc: 0.5000\n",
            "Epoch 158/300\n",
            "93/93 [==============================] - 0s 112us/step - loss: 1.0202 - acc: 0.6452 - val_loss: 1.1076 - val_acc: 0.5000\n",
            "Epoch 159/300\n",
            "93/93 [==============================] - 0s 140us/step - loss: 1.0179 - acc: 0.6452 - val_loss: 1.1058 - val_acc: 0.5000\n",
            "Epoch 160/300\n",
            "93/93 [==============================] - 0s 134us/step - loss: 1.0154 - acc: 0.6452 - val_loss: 1.1042 - val_acc: 0.5000\n",
            "Epoch 161/300\n",
            "93/93 [==============================] - 0s 146us/step - loss: 1.0139 - acc: 0.6452 - val_loss: 1.1021 - val_acc: 0.5000\n",
            "Epoch 162/300\n",
            "93/93 [==============================] - 0s 106us/step - loss: 1.0108 - acc: 0.6452 - val_loss: 1.1007 - val_acc: 0.5000\n",
            "Epoch 163/300\n",
            "93/93 [==============================] - 0s 106us/step - loss: 1.0097 - acc: 0.6452 - val_loss: 1.0999 - val_acc: 0.5000\n",
            "Epoch 164/300\n",
            "93/93 [==============================] - 0s 122us/step - loss: 1.0065 - acc: 0.6452 - val_loss: 1.0980 - val_acc: 0.5000\n",
            "Epoch 165/300\n",
            "93/93 [==============================] - 0s 119us/step - loss: 1.0047 - acc: 0.6452 - val_loss: 1.0960 - val_acc: 0.5000\n",
            "Epoch 166/300\n",
            "93/93 [==============================] - 0s 160us/step - loss: 1.0022 - acc: 0.6559 - val_loss: 1.0944 - val_acc: 0.5000\n",
            "Epoch 167/300\n",
            "93/93 [==============================] - 0s 182us/step - loss: 0.9998 - acc: 0.6667 - val_loss: 1.0929 - val_acc: 0.5000\n",
            "Epoch 168/300\n",
            "93/93 [==============================] - 0s 143us/step - loss: 0.9980 - acc: 0.6667 - val_loss: 1.0913 - val_acc: 0.5000\n",
            "Epoch 169/300\n",
            "93/93 [==============================] - 0s 156us/step - loss: 0.9959 - acc: 0.6774 - val_loss: 1.0896 - val_acc: 0.5000\n",
            "Epoch 170/300\n",
            "93/93 [==============================] - 0s 142us/step - loss: 0.9935 - acc: 0.6774 - val_loss: 1.0886 - val_acc: 0.5000\n",
            "Epoch 171/300\n",
            "93/93 [==============================] - 0s 152us/step - loss: 0.9916 - acc: 0.6774 - val_loss: 1.0870 - val_acc: 0.5000\n",
            "Epoch 172/300\n",
            "93/93 [==============================] - 0s 134us/step - loss: 0.9892 - acc: 0.6774 - val_loss: 1.0860 - val_acc: 0.5000\n",
            "Epoch 173/300\n",
            "93/93 [==============================] - 0s 134us/step - loss: 0.9871 - acc: 0.6774 - val_loss: 1.0843 - val_acc: 0.5000\n",
            "Epoch 174/300\n",
            "93/93 [==============================] - 0s 164us/step - loss: 0.9851 - acc: 0.6774 - val_loss: 1.0833 - val_acc: 0.5000\n",
            "Epoch 175/300\n",
            "93/93 [==============================] - 0s 146us/step - loss: 0.9831 - acc: 0.6774 - val_loss: 1.0823 - val_acc: 0.5000\n",
            "Epoch 176/300\n",
            "93/93 [==============================] - 0s 137us/step - loss: 0.9813 - acc: 0.6667 - val_loss: 1.0815 - val_acc: 0.5000\n",
            "Epoch 177/300\n",
            "93/93 [==============================] - 0s 174us/step - loss: 0.9789 - acc: 0.6667 - val_loss: 1.0802 - val_acc: 0.5000\n",
            "Epoch 178/300\n",
            "93/93 [==============================] - 0s 123us/step - loss: 0.9770 - acc: 0.6667 - val_loss: 1.0788 - val_acc: 0.5000\n",
            "Epoch 179/300\n",
            "93/93 [==============================] - 0s 116us/step - loss: 0.9750 - acc: 0.6667 - val_loss: 1.0775 - val_acc: 0.5000\n",
            "Epoch 180/300\n",
            "93/93 [==============================] - 0s 152us/step - loss: 0.9730 - acc: 0.6667 - val_loss: 1.0764 - val_acc: 0.5000\n",
            "Epoch 181/300\n",
            "93/93 [==============================] - 0s 129us/step - loss: 0.9710 - acc: 0.6667 - val_loss: 1.0753 - val_acc: 0.5000\n",
            "Epoch 182/300\n",
            "93/93 [==============================] - 0s 159us/step - loss: 0.9691 - acc: 0.6667 - val_loss: 1.0741 - val_acc: 0.5000\n",
            "Epoch 183/300\n",
            "93/93 [==============================] - 0s 138us/step - loss: 0.9668 - acc: 0.6774 - val_loss: 1.0730 - val_acc: 0.5000\n",
            "Epoch 184/300\n",
            "93/93 [==============================] - 0s 135us/step - loss: 0.9649 - acc: 0.6774 - val_loss: 1.0717 - val_acc: 0.5000\n",
            "Epoch 185/300\n",
            "93/93 [==============================] - 0s 139us/step - loss: 0.9633 - acc: 0.6774 - val_loss: 1.0703 - val_acc: 0.5000\n",
            "Epoch 186/300\n",
            "93/93 [==============================] - 0s 150us/step - loss: 0.9614 - acc: 0.6774 - val_loss: 1.0697 - val_acc: 0.5000\n",
            "Epoch 187/300\n",
            "93/93 [==============================] - 0s 143us/step - loss: 0.9596 - acc: 0.6882 - val_loss: 1.0690 - val_acc: 0.5000\n",
            "Epoch 188/300\n",
            "93/93 [==============================] - 0s 182us/step - loss: 0.9570 - acc: 0.6989 - val_loss: 1.0676 - val_acc: 0.5000\n",
            "Epoch 189/300\n",
            "93/93 [==============================] - 0s 148us/step - loss: 0.9551 - acc: 0.6989 - val_loss: 1.0667 - val_acc: 0.5000\n",
            "Epoch 190/300\n",
            "93/93 [==============================] - 0s 139us/step - loss: 0.9532 - acc: 0.6989 - val_loss: 1.0656 - val_acc: 0.5000\n",
            "Epoch 191/300\n",
            "93/93 [==============================] - 0s 136us/step - loss: 0.9511 - acc: 0.6989 - val_loss: 1.0643 - val_acc: 0.5000\n",
            "Epoch 192/300\n",
            "93/93 [==============================] - 0s 160us/step - loss: 0.9498 - acc: 0.6989 - val_loss: 1.0638 - val_acc: 0.5000\n",
            "Epoch 193/300\n",
            "93/93 [==============================] - 0s 117us/step - loss: 0.9479 - acc: 0.6989 - val_loss: 1.0624 - val_acc: 0.5000\n",
            "Epoch 194/300\n",
            "93/93 [==============================] - 0s 119us/step - loss: 0.9461 - acc: 0.6989 - val_loss: 1.0613 - val_acc: 0.5000\n",
            "Epoch 195/300\n",
            "93/93 [==============================] - 0s 112us/step - loss: 0.9441 - acc: 0.6989 - val_loss: 1.0604 - val_acc: 0.5000\n",
            "Epoch 196/300\n",
            "93/93 [==============================] - 0s 119us/step - loss: 0.9422 - acc: 0.6989 - val_loss: 1.0597 - val_acc: 0.5000\n",
            "Epoch 197/300\n",
            "93/93 [==============================] - 0s 117us/step - loss: 0.9400 - acc: 0.6989 - val_loss: 1.0587 - val_acc: 0.5000\n",
            "Epoch 198/300\n",
            "93/93 [==============================] - 0s 131us/step - loss: 0.9382 - acc: 0.6989 - val_loss: 1.0575 - val_acc: 0.5000\n",
            "Epoch 199/300\n",
            "93/93 [==============================] - 0s 127us/step - loss: 0.9369 - acc: 0.6989 - val_loss: 1.0562 - val_acc: 0.5000\n",
            "Epoch 200/300\n",
            "93/93 [==============================] - 0s 158us/step - loss: 0.9350 - acc: 0.6989 - val_loss: 1.0547 - val_acc: 0.5000\n",
            "Epoch 201/300\n",
            "93/93 [==============================] - 0s 254us/step - loss: 0.9331 - acc: 0.7097 - val_loss: 1.0538 - val_acc: 0.5000\n",
            "Epoch 202/300\n",
            "93/93 [==============================] - 0s 171us/step - loss: 0.9309 - acc: 0.7097 - val_loss: 1.0527 - val_acc: 0.5000\n",
            "Epoch 203/300\n",
            "93/93 [==============================] - 0s 228us/step - loss: 0.9293 - acc: 0.7097 - val_loss: 1.0520 - val_acc: 0.5000\n",
            "Epoch 204/300\n",
            "93/93 [==============================] - 0s 122us/step - loss: 0.9279 - acc: 0.7097 - val_loss: 1.0505 - val_acc: 0.5417\n",
            "Epoch 205/300\n",
            "93/93 [==============================] - 0s 207us/step - loss: 0.9259 - acc: 0.7097 - val_loss: 1.0494 - val_acc: 0.5417\n",
            "Epoch 206/300\n",
            "93/93 [==============================] - 0s 213us/step - loss: 0.9241 - acc: 0.7097 - val_loss: 1.0483 - val_acc: 0.5417\n",
            "Epoch 207/300\n",
            "93/93 [==============================] - 0s 140us/step - loss: 0.9226 - acc: 0.7097 - val_loss: 1.0477 - val_acc: 0.5417\n",
            "Epoch 208/300\n",
            "93/93 [==============================] - 0s 116us/step - loss: 0.9207 - acc: 0.7097 - val_loss: 1.0464 - val_acc: 0.5417\n",
            "Epoch 209/300\n",
            "93/93 [==============================] - 0s 112us/step - loss: 0.9191 - acc: 0.7097 - val_loss: 1.0449 - val_acc: 0.5417\n",
            "Epoch 210/300\n",
            "93/93 [==============================] - 0s 116us/step - loss: 0.9174 - acc: 0.7097 - val_loss: 1.0443 - val_acc: 0.5417\n",
            "Epoch 211/300\n",
            "93/93 [==============================] - 0s 137us/step - loss: 0.9156 - acc: 0.7097 - val_loss: 1.0432 - val_acc: 0.5417\n",
            "Epoch 212/300\n",
            "93/93 [==============================] - 0s 240us/step - loss: 0.9139 - acc: 0.7097 - val_loss: 1.0419 - val_acc: 0.5417\n",
            "Epoch 213/300\n",
            "93/93 [==============================] - 0s 128us/step - loss: 0.9129 - acc: 0.7097 - val_loss: 1.0413 - val_acc: 0.5417\n",
            "Epoch 214/300\n",
            "93/93 [==============================] - 0s 176us/step - loss: 0.9107 - acc: 0.7097 - val_loss: 1.0407 - val_acc: 0.5417\n",
            "Epoch 215/300\n",
            "93/93 [==============================] - 0s 167us/step - loss: 0.9091 - acc: 0.7097 - val_loss: 1.0400 - val_acc: 0.5417\n",
            "Epoch 216/300\n",
            "93/93 [==============================] - 0s 159us/step - loss: 0.9074 - acc: 0.7097 - val_loss: 1.0385 - val_acc: 0.5417\n",
            "Epoch 217/300\n",
            "93/93 [==============================] - 0s 141us/step - loss: 0.9064 - acc: 0.7097 - val_loss: 1.0374 - val_acc: 0.5417\n",
            "Epoch 218/300\n",
            "93/93 [==============================] - 0s 115us/step - loss: 0.9040 - acc: 0.7097 - val_loss: 1.0366 - val_acc: 0.5417\n",
            "Epoch 219/300\n",
            "93/93 [==============================] - 0s 104us/step - loss: 0.9028 - acc: 0.7097 - val_loss: 1.0364 - val_acc: 0.5417\n",
            "Epoch 220/300\n",
            "93/93 [==============================] - 0s 138us/step - loss: 0.9012 - acc: 0.7097 - val_loss: 1.0359 - val_acc: 0.5417\n",
            "Epoch 221/300\n",
            "93/93 [==============================] - 0s 214us/step - loss: 0.9005 - acc: 0.7097 - val_loss: 1.0344 - val_acc: 0.5417\n",
            "Epoch 222/300\n",
            "93/93 [==============================] - 0s 168us/step - loss: 0.8984 - acc: 0.6989 - val_loss: 1.0329 - val_acc: 0.5417\n",
            "Epoch 223/300\n",
            "93/93 [==============================] - 0s 176us/step - loss: 0.8964 - acc: 0.6989 - val_loss: 1.0328 - val_acc: 0.5417\n",
            "Epoch 224/300\n",
            "93/93 [==============================] - 0s 168us/step - loss: 0.8950 - acc: 0.6989 - val_loss: 1.0321 - val_acc: 0.5417\n",
            "Epoch 225/300\n",
            "93/93 [==============================] - 0s 157us/step - loss: 0.8931 - acc: 0.6989 - val_loss: 1.0315 - val_acc: 0.5417\n",
            "Epoch 226/300\n",
            "93/93 [==============================] - 0s 195us/step - loss: 0.8916 - acc: 0.6989 - val_loss: 1.0309 - val_acc: 0.5417\n",
            "Epoch 227/300\n",
            "93/93 [==============================] - 0s 158us/step - loss: 0.8901 - acc: 0.6989 - val_loss: 1.0302 - val_acc: 0.5417\n",
            "Epoch 228/300\n",
            "93/93 [==============================] - 0s 122us/step - loss: 0.8885 - acc: 0.6989 - val_loss: 1.0300 - val_acc: 0.5417\n",
            "Epoch 229/300\n",
            "93/93 [==============================] - 0s 148us/step - loss: 0.8877 - acc: 0.6989 - val_loss: 1.0285 - val_acc: 0.5417\n",
            "Epoch 230/300\n",
            "93/93 [==============================] - 0s 165us/step - loss: 0.8857 - acc: 0.6989 - val_loss: 1.0276 - val_acc: 0.5417\n",
            "Epoch 231/300\n",
            "93/93 [==============================] - 0s 191us/step - loss: 0.8843 - acc: 0.6989 - val_loss: 1.0272 - val_acc: 0.5417\n",
            "Epoch 232/300\n",
            "93/93 [==============================] - 0s 199us/step - loss: 0.8835 - acc: 0.7097 - val_loss: 1.0261 - val_acc: 0.5417\n",
            "Epoch 233/300\n",
            "93/93 [==============================] - 0s 180us/step - loss: 0.8814 - acc: 0.6989 - val_loss: 1.0254 - val_acc: 0.5417\n",
            "Epoch 234/300\n",
            "93/93 [==============================] - 0s 197us/step - loss: 0.8796 - acc: 0.6989 - val_loss: 1.0249 - val_acc: 0.5417\n",
            "Epoch 235/300\n",
            "93/93 [==============================] - 0s 139us/step - loss: 0.8785 - acc: 0.6989 - val_loss: 1.0245 - val_acc: 0.5417\n",
            "Epoch 236/300\n",
            "93/93 [==============================] - 0s 177us/step - loss: 0.8770 - acc: 0.6989 - val_loss: 1.0243 - val_acc: 0.5417\n",
            "Epoch 237/300\n",
            "93/93 [==============================] - 0s 231us/step - loss: 0.8753 - acc: 0.6989 - val_loss: 1.0240 - val_acc: 0.5417\n",
            "Epoch 238/300\n",
            "93/93 [==============================] - 0s 148us/step - loss: 0.8737 - acc: 0.6989 - val_loss: 1.0231 - val_acc: 0.5417\n",
            "Epoch 239/300\n",
            "93/93 [==============================] - 0s 122us/step - loss: 0.8723 - acc: 0.6989 - val_loss: 1.0226 - val_acc: 0.5417\n",
            "Epoch 240/300\n",
            "93/93 [==============================] - 0s 120us/step - loss: 0.8710 - acc: 0.6989 - val_loss: 1.0219 - val_acc: 0.5417\n",
            "Epoch 241/300\n",
            "93/93 [==============================] - 0s 119us/step - loss: 0.8709 - acc: 0.6989 - val_loss: 1.0215 - val_acc: 0.5417\n",
            "Epoch 242/300\n",
            "93/93 [==============================] - 0s 111us/step - loss: 0.8682 - acc: 0.6989 - val_loss: 1.0200 - val_acc: 0.5417\n",
            "Epoch 243/300\n",
            "93/93 [==============================] - 0s 168us/step - loss: 0.8665 - acc: 0.6989 - val_loss: 1.0193 - val_acc: 0.5417\n",
            "Epoch 244/300\n",
            "93/93 [==============================] - 0s 140us/step - loss: 0.8650 - acc: 0.6989 - val_loss: 1.0188 - val_acc: 0.5417\n",
            "Epoch 245/300\n",
            "93/93 [==============================] - 0s 152us/step - loss: 0.8639 - acc: 0.6989 - val_loss: 1.0177 - val_acc: 0.5417\n",
            "Epoch 246/300\n",
            "93/93 [==============================] - 0s 204us/step - loss: 0.8625 - acc: 0.7204 - val_loss: 1.0174 - val_acc: 0.5417\n",
            "Epoch 247/300\n",
            "93/93 [==============================] - 0s 129us/step - loss: 0.8613 - acc: 0.7097 - val_loss: 1.0163 - val_acc: 0.5417\n",
            "Epoch 248/300\n",
            "93/93 [==============================] - 0s 151us/step - loss: 0.8594 - acc: 0.7097 - val_loss: 1.0162 - val_acc: 0.5417\n",
            "Epoch 249/300\n",
            "93/93 [==============================] - 0s 208us/step - loss: 0.8579 - acc: 0.7097 - val_loss: 1.0155 - val_acc: 0.5417\n",
            "Epoch 250/300\n",
            "93/93 [==============================] - 0s 150us/step - loss: 0.8565 - acc: 0.6989 - val_loss: 1.0145 - val_acc: 0.5417\n",
            "Epoch 251/300\n",
            "93/93 [==============================] - 0s 175us/step - loss: 0.8552 - acc: 0.7097 - val_loss: 1.0145 - val_acc: 0.5417\n",
            "Epoch 252/300\n",
            "93/93 [==============================] - 0s 134us/step - loss: 0.8537 - acc: 0.7097 - val_loss: 1.0136 - val_acc: 0.5417\n",
            "Epoch 253/300\n",
            "93/93 [==============================] - 0s 172us/step - loss: 0.8525 - acc: 0.6989 - val_loss: 1.0129 - val_acc: 0.5417\n",
            "Epoch 254/300\n",
            "93/93 [==============================] - 0s 216us/step - loss: 0.8525 - acc: 0.7097 - val_loss: 1.0125 - val_acc: 0.5417\n",
            "Epoch 255/300\n",
            "93/93 [==============================] - 0s 160us/step - loss: 0.8500 - acc: 0.7097 - val_loss: 1.0125 - val_acc: 0.5417\n",
            "Epoch 256/300\n",
            "93/93 [==============================] - 0s 136us/step - loss: 0.8487 - acc: 0.7097 - val_loss: 1.0117 - val_acc: 0.5417\n",
            "Epoch 257/300\n",
            "93/93 [==============================] - 0s 170us/step - loss: 0.8473 - acc: 0.7097 - val_loss: 1.0116 - val_acc: 0.5417\n",
            "Epoch 258/300\n",
            "93/93 [==============================] - 0s 132us/step - loss: 0.8460 - acc: 0.7097 - val_loss: 1.0115 - val_acc: 0.5417\n",
            "Epoch 259/300\n",
            "93/93 [==============================] - 0s 175us/step - loss: 0.8452 - acc: 0.7097 - val_loss: 1.0119 - val_acc: 0.5417\n",
            "Epoch 260/300\n",
            "93/93 [==============================] - 0s 178us/step - loss: 0.8432 - acc: 0.7204 - val_loss: 1.0113 - val_acc: 0.5417\n",
            "Epoch 261/300\n",
            "93/93 [==============================] - 0s 178us/step - loss: 0.8418 - acc: 0.7204 - val_loss: 1.0110 - val_acc: 0.5417\n",
            "Epoch 262/300\n",
            "93/93 [==============================] - 0s 167us/step - loss: 0.8409 - acc: 0.7204 - val_loss: 1.0101 - val_acc: 0.5417\n",
            "Epoch 263/300\n",
            "93/93 [==============================] - 0s 163us/step - loss: 0.8393 - acc: 0.7097 - val_loss: 1.0095 - val_acc: 0.5417\n",
            "Epoch 264/300\n",
            "93/93 [==============================] - 0s 186us/step - loss: 0.8379 - acc: 0.7097 - val_loss: 1.0096 - val_acc: 0.5417\n",
            "Epoch 265/300\n",
            "93/93 [==============================] - 0s 109us/step - loss: 0.8366 - acc: 0.7204 - val_loss: 1.0084 - val_acc: 0.5417\n",
            "Epoch 266/300\n",
            "93/93 [==============================] - 0s 147us/step - loss: 0.8352 - acc: 0.7097 - val_loss: 1.0085 - val_acc: 0.5417\n",
            "Epoch 267/300\n",
            "93/93 [==============================] - 0s 108us/step - loss: 0.8338 - acc: 0.7312 - val_loss: 1.0082 - val_acc: 0.5417\n",
            "Epoch 268/300\n",
            "93/93 [==============================] - 0s 117us/step - loss: 0.8331 - acc: 0.7204 - val_loss: 1.0077 - val_acc: 0.5417\n",
            "Epoch 269/300\n",
            "93/93 [==============================] - 0s 133us/step - loss: 0.8313 - acc: 0.7312 - val_loss: 1.0070 - val_acc: 0.5417\n",
            "Epoch 270/300\n",
            "93/93 [==============================] - 0s 145us/step - loss: 0.8302 - acc: 0.7204 - val_loss: 1.0072 - val_acc: 0.5417\n",
            "Epoch 271/300\n",
            "93/93 [==============================] - 0s 169us/step - loss: 0.8292 - acc: 0.7312 - val_loss: 1.0078 - val_acc: 0.5417\n",
            "Epoch 272/300\n",
            "93/93 [==============================] - 0s 130us/step - loss: 0.8277 - acc: 0.7312 - val_loss: 1.0073 - val_acc: 0.5417\n",
            "Epoch 273/300\n",
            "93/93 [==============================] - 0s 181us/step - loss: 0.8266 - acc: 0.7312 - val_loss: 1.0067 - val_acc: 0.5417\n",
            "Epoch 274/300\n",
            "93/93 [==============================] - 0s 203us/step - loss: 0.8252 - acc: 0.7204 - val_loss: 1.0064 - val_acc: 0.5417\n",
            "Epoch 275/300\n",
            "93/93 [==============================] - 0s 156us/step - loss: 0.8237 - acc: 0.7204 - val_loss: 1.0059 - val_acc: 0.5417\n",
            "Epoch 276/300\n",
            "93/93 [==============================] - 0s 145us/step - loss: 0.8228 - acc: 0.7204 - val_loss: 1.0051 - val_acc: 0.5417\n",
            "Epoch 277/300\n",
            "93/93 [==============================] - 0s 145us/step - loss: 0.8212 - acc: 0.7204 - val_loss: 1.0046 - val_acc: 0.5417\n",
            "Epoch 278/300\n",
            "93/93 [==============================] - 0s 161us/step - loss: 0.8200 - acc: 0.7312 - val_loss: 1.0041 - val_acc: 0.5417\n",
            "Epoch 279/300\n",
            "93/93 [==============================] - 0s 149us/step - loss: 0.8189 - acc: 0.7204 - val_loss: 1.0036 - val_acc: 0.5417\n",
            "Epoch 280/300\n",
            "93/93 [==============================] - 0s 181us/step - loss: 0.8179 - acc: 0.7204 - val_loss: 1.0028 - val_acc: 0.5417\n",
            "Epoch 281/300\n",
            "93/93 [==============================] - 0s 160us/step - loss: 0.8172 - acc: 0.7312 - val_loss: 1.0027 - val_acc: 0.5417\n",
            "Epoch 282/300\n",
            "93/93 [==============================] - 0s 193us/step - loss: 0.8152 - acc: 0.7312 - val_loss: 1.0029 - val_acc: 0.5417\n",
            "Epoch 283/300\n",
            "93/93 [==============================] - 0s 148us/step - loss: 0.8140 - acc: 0.7312 - val_loss: 1.0026 - val_acc: 0.5417\n",
            "Epoch 284/300\n",
            "93/93 [==============================] - 0s 126us/step - loss: 0.8128 - acc: 0.7312 - val_loss: 1.0025 - val_acc: 0.5417\n",
            "Epoch 285/300\n",
            "93/93 [==============================] - 0s 116us/step - loss: 0.8128 - acc: 0.7312 - val_loss: 1.0020 - val_acc: 0.5417\n",
            "Epoch 286/300\n",
            "93/93 [==============================] - 0s 179us/step - loss: 0.8107 - acc: 0.7312 - val_loss: 1.0011 - val_acc: 0.5417\n",
            "Epoch 287/300\n",
            "93/93 [==============================] - 0s 158us/step - loss: 0.8092 - acc: 0.7312 - val_loss: 1.0013 - val_acc: 0.5417\n",
            "Epoch 288/300\n",
            "93/93 [==============================] - 0s 149us/step - loss: 0.8082 - acc: 0.7312 - val_loss: 1.0015 - val_acc: 0.5417\n",
            "Epoch 289/300\n",
            "93/93 [==============================] - 0s 137us/step - loss: 0.8074 - acc: 0.7419 - val_loss: 1.0018 - val_acc: 0.5417\n",
            "Epoch 290/300\n",
            "93/93 [==============================] - 0s 168us/step - loss: 0.8061 - acc: 0.7312 - val_loss: 1.0021 - val_acc: 0.5417\n",
            "Epoch 291/300\n",
            "93/93 [==============================] - 0s 117us/step - loss: 0.8052 - acc: 0.7419 - val_loss: 1.0025 - val_acc: 0.5000\n",
            "Epoch 292/300\n",
            "93/93 [==============================] - 0s 124us/step - loss: 0.8036 - acc: 0.7419 - val_loss: 1.0019 - val_acc: 0.5000\n",
            "Epoch 293/300\n",
            "93/93 [==============================] - 0s 193us/step - loss: 0.8036 - acc: 0.7312 - val_loss: 1.0031 - val_acc: 0.5000\n",
            "Epoch 294/300\n",
            "93/93 [==============================] - 0s 197us/step - loss: 0.8015 - acc: 0.7312 - val_loss: 1.0035 - val_acc: 0.5000\n",
            "Epoch 295/300\n",
            "93/93 [==============================] - 0s 159us/step - loss: 0.8002 - acc: 0.7419 - val_loss: 1.0026 - val_acc: 0.5000\n",
            "Epoch 296/300\n",
            "93/93 [==============================] - 0s 166us/step - loss: 0.7990 - acc: 0.7419 - val_loss: 1.0016 - val_acc: 0.5000\n",
            "Epoch 297/300\n",
            "93/93 [==============================] - 0s 156us/step - loss: 0.7978 - acc: 0.7419 - val_loss: 1.0017 - val_acc: 0.5000\n",
            "Epoch 298/300\n",
            "93/93 [==============================] - 0s 115us/step - loss: 0.7968 - acc: 0.7419 - val_loss: 1.0021 - val_acc: 0.5000\n",
            "Epoch 299/300\n",
            "93/93 [==============================] - 0s 158us/step - loss: 0.7954 - acc: 0.7419 - val_loss: 1.0022 - val_acc: 0.5000\n",
            "Epoch 300/300\n",
            "93/93 [==============================] - 0s 110us/step - loss: 0.7957 - acc: 0.7419 - val_loss: 1.0020 - val_acc: 0.5000\n"
          ],
          "name": "stdout"
        },
        {
          "output_type": "execute_result",
          "data": {
            "text/plain": [
              "<keras.callbacks.History at 0x7f4e9f4b1f60>"
            ]
          },
          "metadata": {
            "tags": []
          },
          "execution_count": 167
        }
      ]
    },
    {
      "cell_type": "markdown",
      "metadata": {
        "id": "744odEm9ilOg",
        "colab_type": "text"
      },
      "source": [
        "## An important aside for production ready Keras models: \n",
        "*Keras classification model objects return the predicted probabilities of each class for every prediction.  How do we return a target label instead?*"
      ]
    },
    {
      "cell_type": "code",
      "metadata": {
        "id": "RDlYvRxmqlw5",
        "colab_type": "code",
        "outputId": "2e3dbf37-38dc-4fc1-ea06-ddd47c2d4522",
        "colab": {
          "base_uri": "https://localhost:8080/",
          "height": 92
        }
      },
      "source": [
        "# using predict_classes() for multi-class data to return predicted class index.\n",
        "\n",
        "print(model.predict_classes(prediction_input_preprocessor.transform(X_test)))\n",
        "\n",
        "prediction_index=model.predict_classes(prediction_input_preprocessor.transform(X_test))\n",
        "\n",
        "#Now lets run some code to get keras to return the label rather than the index...\n",
        "\n",
        "# get labels from one hot encoded y_train data\n",
        "labels=pd.get_dummies(y_train).columns\n",
        "\n",
        "# Function to use to return label from column index location\n",
        "def index_to_label(labels,index_n): \n",
        "    return labels[index_n]\n",
        "    \n",
        "# Example: return label at predicted index location 1\n",
        "index_to_label(labels,1)\n",
        "\n",
        "# Iterate through all predicted indices using map method\n",
        "\n",
        "predicted_labels=list(map(lambda x: labels[x], prediction_index))\n",
        "print(predicted_labels)"
      ],
      "execution_count": 0,
      "outputs": [
        {
          "output_type": "stream",
          "text": [
            "[1 1 0 1 4 1 0 0 1 2 1 0 3 4 1 1 4 4 4 0 4 3 1 3 1 2 1 1 1 4 0 2 1 4 4 4 4\n",
            " 4 1]\n",
            "['High', 'High', 'Average', 'High', 'Very Low', 'High', 'Average', 'Average', 'High', 'Low', 'High', 'Average', 'Very High', 'Very Low', 'High', 'High', 'Very Low', 'Very Low', 'Very Low', 'Average', 'Very Low', 'Very High', 'High', 'Very High', 'High', 'Low', 'High', 'High', 'High', 'Very Low', 'Average', 'Low', 'High', 'Very Low', 'Very Low', 'Very Low', 'Very Low', 'Very Low', 'High']\n"
          ],
          "name": "stdout"
        }
      ]
    },
    {
      "cell_type": "markdown",
      "metadata": {
        "id": "6Incu4TOjPKj",
        "colab_type": "text"
      },
      "source": [
        "# Evaluate Keras Model using model_eval_metrics(), assign result to modelevalobject.  \n",
        "Will use this for leaderboard submission in a bit."
      ]
    },
    {
      "cell_type": "code",
      "metadata": {
        "id": "xcLaLnbnfI-a",
        "colab_type": "code",
        "outputId": "4d241281-861c-46e7-cdad-65e839bd832f",
        "colab": {
          "base_uri": "https://localhost:8080/",
          "height": 81
        }
      },
      "source": [
        "# Now we can extract some evaluative metrics to use for model submission\n",
        "\n",
        "import numpy as np\n",
        "from sklearn.metrics import accuracy_score\n",
        "from sklearn.metrics import f1_score\n",
        "from sklearn.metrics import precision_score\n",
        "from sklearn.metrics import recall_score\n",
        "from sklearn.metrics import roc_auc_score\n",
        "from sklearn.metrics import mean_squared_error\n",
        "from sklearn.metrics import r2_score\n",
        "from sklearn.metrics import mean_absolute_error\n",
        "import pandas as pd\n",
        "from math import sqrt\n",
        "\n",
        "def model_eval_metrics(y_true, y_pred,classification=\"TRUE\"):\n",
        "     if classification==\"TRUE\":\n",
        "        accuracy_eval = accuracy_score(y_true, y_pred)\n",
        "        f1_score_eval = f1_score(y_true, y_pred,average=\"macro\",zero_division=0)\n",
        "        precision_eval = precision_score(y_true, y_pred,average=\"macro\",zero_division=0)\n",
        "        recall_eval = recall_score(y_true, y_pred,average=\"macro\",zero_division=0)\n",
        "        mse_eval = 0\n",
        "        rmse_eval = 0\n",
        "        mae_eval = 0\n",
        "        r2_eval = 0\n",
        "        metricdata = {'accuracy': [accuracy_eval], 'f1_score': [f1_score_eval], 'precision': [precision_eval], 'recall': [recall_eval], 'mse': [mse_eval], 'rmse': [rmse_eval], 'mae': [mae_eval], 'r2': [r2_eval]}\n",
        "        finalmetricdata = pd.DataFrame.from_dict(metricdata)\n",
        "     else:\n",
        "        accuracy_eval = 0\n",
        "        f1_score_eval = 0\n",
        "        precision_eval = 0\n",
        "        recall_eval = 0\n",
        "        mse_eval = mean_squared_error(y_true, y_pred)\n",
        "        rmse_eval = sqrt(mean_squared_error(y_true, y_pred))\n",
        "        mae_eval = mean_absolute_error(y_true, y_pred)\n",
        "        r2_eval = r2_score(y_true, y_pred)\n",
        "        metricdata = {'accuracy': [accuracy_eval], 'f1_score': [f1_score_eval], 'precision': [precision_eval], 'recall': [recall_eval], 'mse': [mse_eval], 'rmse': [rmse_eval], 'mae': [mae_eval], 'r2': [r2_eval]}\n",
        "        finalmetricdata = pd.DataFrame.from_dict(metricdata)\n",
        "     return finalmetricdata\n",
        "\n",
        "model_eval_metrics( y_test,predicted_labels,classification=\"TRUE\")\n"
      ],
      "execution_count": 0,
      "outputs": [
        {
          "output_type": "execute_result",
          "data": {
            "text/html": [
              "<div>\n",
              "<style scoped>\n",
              "    .dataframe tbody tr th:only-of-type {\n",
              "        vertical-align: middle;\n",
              "    }\n",
              "\n",
              "    .dataframe tbody tr th {\n",
              "        vertical-align: top;\n",
              "    }\n",
              "\n",
              "    .dataframe thead th {\n",
              "        text-align: right;\n",
              "    }\n",
              "</style>\n",
              "<table border=\"1\" class=\"dataframe\">\n",
              "  <thead>\n",
              "    <tr style=\"text-align: right;\">\n",
              "      <th></th>\n",
              "      <th>accuracy</th>\n",
              "      <th>f1_score</th>\n",
              "      <th>precision</th>\n",
              "      <th>recall</th>\n",
              "      <th>mse</th>\n",
              "      <th>rmse</th>\n",
              "      <th>mae</th>\n",
              "      <th>r2</th>\n",
              "    </tr>\n",
              "  </thead>\n",
              "  <tbody>\n",
              "    <tr>\n",
              "      <th>0</th>\n",
              "      <td>0.435897</td>\n",
              "      <td>0.423377</td>\n",
              "      <td>0.516667</td>\n",
              "      <td>0.463889</td>\n",
              "      <td>0</td>\n",
              "      <td>0</td>\n",
              "      <td>0</td>\n",
              "      <td>0</td>\n",
              "    </tr>\n",
              "  </tbody>\n",
              "</table>\n",
              "</div>"
            ],
            "text/plain": [
              "   accuracy  f1_score  precision    recall  mse  rmse  mae  r2\n",
              "0  0.435897  0.423377   0.516667  0.463889    0     0    0   0"
            ]
          },
          "metadata": {
            "tags": []
          },
          "execution_count": 113
        }
      ]
    },
    {
      "cell_type": "code",
      "metadata": {
        "id": "J2WgpGhzP7ZX",
        "colab_type": "code",
        "colab": {}
      },
      "source": [
        ""
      ],
      "execution_count": 0,
      "outputs": []
    },
    {
      "cell_type": "code",
      "metadata": {
        "id": "ePNP06w9rwpG",
        "colab_type": "code",
        "outputId": "97c49fe6-55c4-4dc5-a95e-f9cde1478600",
        "colab": {
          "base_uri": "https://localhost:8080/",
          "height": 81
        }
      },
      "source": [
        "# add metrics to submittable object\n",
        "modelevalobject=model_eval_metrics( y_test,predicted_labels,classification=\"TRUE\")\n",
        "\n",
        "modelevalobject\n"
      ],
      "execution_count": 0,
      "outputs": [
        {
          "output_type": "execute_result",
          "data": {
            "text/html": [
              "<div>\n",
              "<style scoped>\n",
              "    .dataframe tbody tr th:only-of-type {\n",
              "        vertical-align: middle;\n",
              "    }\n",
              "\n",
              "    .dataframe tbody tr th {\n",
              "        vertical-align: top;\n",
              "    }\n",
              "\n",
              "    .dataframe thead th {\n",
              "        text-align: right;\n",
              "    }\n",
              "</style>\n",
              "<table border=\"1\" class=\"dataframe\">\n",
              "  <thead>\n",
              "    <tr style=\"text-align: right;\">\n",
              "      <th></th>\n",
              "      <th>accuracy</th>\n",
              "      <th>f1_score</th>\n",
              "      <th>precision</th>\n",
              "      <th>recall</th>\n",
              "      <th>mse</th>\n",
              "      <th>rmse</th>\n",
              "      <th>mae</th>\n",
              "      <th>r2</th>\n",
              "    </tr>\n",
              "  </thead>\n",
              "  <tbody>\n",
              "    <tr>\n",
              "      <th>0</th>\n",
              "      <td>0.435897</td>\n",
              "      <td>0.423377</td>\n",
              "      <td>0.516667</td>\n",
              "      <td>0.463889</td>\n",
              "      <td>0</td>\n",
              "      <td>0</td>\n",
              "      <td>0</td>\n",
              "      <td>0</td>\n",
              "    </tr>\n",
              "  </tbody>\n",
              "</table>\n",
              "</div>"
            ],
            "text/plain": [
              "   accuracy  f1_score  precision    recall  mse  rmse  mae  r2\n",
              "0  0.435897  0.423377   0.516667  0.463889    0     0    0   0"
            ]
          },
          "metadata": {
            "tags": []
          },
          "execution_count": 67
        }
      ]
    },
    {
      "cell_type": "markdown",
      "metadata": {
        "id": "f42CMuqHjqR9",
        "colab_type": "text"
      },
      "source": [
        "# Save keras model to onnx file.  We will use this file to make predictions within a production ready scalable REST API."
      ]
    },
    {
      "cell_type": "code",
      "metadata": {
        "id": "j741h11LvmYa",
        "colab_type": "code",
        "outputId": "d1dba683-fd93-4f3f-f89f-40b12ea6c75c",
        "colab": {
          "base_uri": "https://localhost:8080/",
          "height": 313
        }
      },
      "source": [
        "# Load libraries for onnx model conversion (keras to onnx)\n",
        "! pip3 install keras2onnx\n",
        "! pip3 install onnxruntime"
      ],
      "execution_count": 0,
      "outputs": [
        {
          "output_type": "stream",
          "text": [
            "Requirement already satisfied: keras2onnx in /usr/local/lib/python3.6/dist-packages (1.6.0)\n",
            "Requirement already satisfied: requests in /usr/local/lib/python3.6/dist-packages (from keras2onnx) (2.21.0)\n",
            "Requirement already satisfied: fire in /usr/local/lib/python3.6/dist-packages (from keras2onnx) (0.2.1)\n",
            "Requirement already satisfied: protobuf in /usr/local/lib/python3.6/dist-packages (from keras2onnx) (3.10.0)\n",
            "Requirement already satisfied: onnx in /usr/local/lib/python3.6/dist-packages (from keras2onnx) (1.6.0)\n",
            "Requirement already satisfied: numpy in /usr/local/lib/python3.6/dist-packages (from keras2onnx) (1.17.5)\n",
            "Requirement already satisfied: onnxconverter-common>=1.6.0 in /usr/local/lib/python3.6/dist-packages (from keras2onnx) (1.6.0)\n",
            "Requirement already satisfied: certifi>=2017.4.17 in /usr/local/lib/python3.6/dist-packages (from requests->keras2onnx) (2019.11.28)\n",
            "Requirement already satisfied: idna<2.9,>=2.5 in /usr/local/lib/python3.6/dist-packages (from requests->keras2onnx) (2.8)\n",
            "Requirement already satisfied: chardet<3.1.0,>=3.0.2 in /usr/local/lib/python3.6/dist-packages (from requests->keras2onnx) (3.0.4)\n",
            "Requirement already satisfied: urllib3<1.25,>=1.21.1 in /usr/local/lib/python3.6/dist-packages (from requests->keras2onnx) (1.24.3)\n",
            "Requirement already satisfied: six in /usr/local/lib/python3.6/dist-packages (from fire->keras2onnx) (1.12.0)\n",
            "Requirement already satisfied: termcolor in /usr/local/lib/python3.6/dist-packages (from fire->keras2onnx) (1.1.0)\n",
            "Requirement already satisfied: setuptools in /usr/local/lib/python3.6/dist-packages (from protobuf->keras2onnx) (45.1.0)\n",
            "Requirement already satisfied: typing-extensions>=3.6.2.1 in /usr/local/lib/python3.6/dist-packages (from onnx->keras2onnx) (3.6.6)\n",
            "Requirement already satisfied: onnxruntime in /usr/local/lib/python3.6/dist-packages (1.1.1)\n"
          ],
          "name": "stdout"
        }
      ]
    },
    {
      "cell_type": "code",
      "metadata": {
        "id": "p1382KctFaL8",
        "colab_type": "code",
        "outputId": "0339d563-b3a8-4e85-af65-a07c4b04a34f",
        "colab": {
          "base_uri": "https://localhost:8080/",
          "height": 35
        }
      },
      "source": [
        "#Convert keras model object to onnx and then save it to .onnx file\n",
        "import os\n",
        "\n",
        "if not os.path.exists('mymodel.onnx'):\n",
        "    from keras2onnx import convert_keras\n",
        "    onx = convert_keras(model, 'mymodel.onnx')\n",
        "    with open(\"mymodel.onnx\", \"wb\") as f:\n",
        "        f.write(onx.SerializeToString())"
      ],
      "execution_count": 0,
      "outputs": [
        {
          "output_type": "stream",
          "text": [
            "The maximum opset needed by this model is only 9.\n"
          ],
          "name": "stderr"
        }
      ]
    },
    {
      "cell_type": "markdown",
      "metadata": {
        "id": "2yJ5I7Z8kK6h",
        "colab_type": "text"
      },
      "source": [
        "## Aside: Example of code similar to what is run behind the scenes within our REST api:"
      ]
    },
    {
      "cell_type": "code",
      "metadata": {
        "id": "g_d-NJFz5pHM",
        "colab_type": "code",
        "outputId": "82563e30-4a51-4486-a625-8d55d3ae1448",
        "colab": {
          "base_uri": "https://localhost:8080/",
          "height": 479
        }
      },
      "source": [
        "# In onnx you can make predictions in the following manner.  This is what happens behinds the scenes in our live web-application.\n",
        "# the json input data is sent to a REST Api, transformed to a pandas dataframe, preprocessed, then predictions are generated from our onnx model.\n",
        "\n",
        "import onnxruntime as rt\n",
        "sess= rt.InferenceSession(\"mymodel.onnx\")\n",
        "input_name = sess.get_inputs()[0].name\n",
        "bodydict={'Country or region': 'United States', 'GDP per capita': [1], 'Social support': [1], 'Healthy life expectancy': [1], 'Freedom to make life choices': [1], 'Generosity': [1], 'Perceptions of corruption': [1]}\n",
        "bodynew = pd.DataFrame.from_dict(bodydict)\n",
        "\n",
        "input_data=preprocessor.transform(bodynew).astype(\"float32\").toarray()\n",
        "input_data"
      ],
      "execution_count": 0,
      "outputs": [
        {
          "output_type": "execute_result",
          "data": {
            "text/plain": [
              "array([[ 0.21686903, -0.6897203 ,  1.0740974 ,  4.0057316 ,  8.259227  ,\n",
              "         8.666142  ,  0.        ,  0.        ,  0.        ,  0.        ,\n",
              "         0.        ,  0.        ,  0.        ,  0.        ,  0.        ,\n",
              "         0.        ,  0.        ,  0.        ,  0.        ,  0.        ,\n",
              "         0.        ,  0.        ,  0.        ,  0.        ,  0.        ,\n",
              "         0.        ,  0.        ,  0.        ,  0.        ,  0.        ,\n",
              "         0.        ,  0.        ,  0.        ,  0.        ,  0.        ,\n",
              "         0.        ,  0.        ,  0.        ,  0.        ,  0.        ,\n",
              "         0.        ,  0.        ,  0.        ,  0.        ,  0.        ,\n",
              "         0.        ,  0.        ,  0.        ,  0.        ,  0.        ,\n",
              "         0.        ,  0.        ,  0.        ,  0.        ,  0.        ,\n",
              "         0.        ,  0.        ,  0.        ,  0.        ,  0.        ,\n",
              "         0.        ,  0.        ,  0.        ,  0.        ,  0.        ,\n",
              "         0.        ,  0.        ,  0.        ,  0.        ,  0.        ,\n",
              "         0.        ,  0.        ,  0.        ,  0.        ,  0.        ,\n",
              "         0.        ,  0.        ,  0.        ,  0.        ,  0.        ,\n",
              "         0.        ,  0.        ,  0.        ,  0.        ,  0.        ,\n",
              "         0.        ,  0.        ,  0.        ,  0.        ,  0.        ,\n",
              "         0.        ,  0.        ,  0.        ,  0.        ,  0.        ,\n",
              "         0.        ,  0.        ,  0.        ,  0.        ,  0.        ,\n",
              "         0.        ,  0.        ,  0.        ,  0.        ,  0.        ,\n",
              "         0.        ,  0.        ,  0.        ,  0.        ,  0.        ,\n",
              "         0.        ,  0.        ,  0.        ,  0.        ,  0.        ,\n",
              "         0.        ,  0.        ,  0.        ,  0.        ,  0.        ,\n",
              "         0.        ,  0.        ,  0.        ]], dtype=float32)"
            ]
          },
          "metadata": {
            "tags": []
          },
          "execution_count": 71
        }
      ]
    },
    {
      "cell_type": "code",
      "metadata": {
        "id": "E4QAv5oI7nLv",
        "colab_type": "code",
        "outputId": "3c718aab-744f-480e-deba-f36035deea4a",
        "colab": {
          "base_uri": "https://localhost:8080/",
          "height": 54
        }
      },
      "source": [
        "# Here is the resulting predicted probability for each of the five cats of our target variable\n",
        "res = sess.run(None,  {input_name: input_data})\n",
        "res[0]"
      ],
      "execution_count": 0,
      "outputs": [
        {
          "output_type": "execute_result",
          "data": {
            "text/plain": [
              "array([[3.7565005e-03, 1.0601852e-02, 1.2079081e-05, 9.8552990e-01,\n",
              "        9.9663353e-05]], dtype=float32)"
            ]
          },
          "metadata": {
            "tags": []
          },
          "execution_count": 72
        }
      ]
    },
    {
      "cell_type": "markdown",
      "metadata": {
        "id": "-BJy7dTAkXg1",
        "colab_type": "text"
      },
      "source": [
        "# Submit model to live REST API @ [World Happiness Prediction Model Detail Page](http://mlsitetest.com.s3-website-us-east-1.amazonaws.com/detail/World%20Happiness%20Prediction%20Model/c6f76d3649fe11ea9b520242ac1c0002)"
      ]
    },
    {
      "cell_type": "code",
      "metadata": {
        "id": "4iydSa-149TZ",
        "colab_type": "code",
        "outputId": "604a5c40-bf7c-4bd0-d226-83ef132a1d6f",
        "colab": {
          "base_uri": "https://localhost:8080/",
          "height": 185
        }
      },
      "source": [
        "#install aimodelshare library\n",
        "! pip3 install https://github.com/mikedparrott/aimodelshare/blob/master/aimodelshare-0.0.2.tar.gz?raw=true"
      ],
      "execution_count": 0,
      "outputs": [
        {
          "output_type": "stream",
          "text": [
            "Collecting https://github.com/mikedparrott/aimodelshare/blob/master/aimodelshare-0.0.2.tar.gz?raw=true\n",
            "  Using cached https://github.com/mikedparrott/aimodelshare/blob/master/aimodelshare-0.0.2.tar.gz?raw=true\n",
            "Requirement already satisfied (use --upgrade to upgrade): aimodelshare==0.0.2 from https://github.com/mikedparrott/aimodelshare/blob/master/aimodelshare-0.0.2.tar.gz?raw=true in /usr/local/lib/python3.6/dist-packages\n",
            "Building wheels for collected packages: aimodelshare\n",
            "  Building wheel for aimodelshare (setup.py) ... \u001b[?25l\u001b[?25hdone\n",
            "  Created wheel for aimodelshare: filename=aimodelshare-0.0.2-cp36-none-any.whl size=5375 sha256=c4d368fff803a451c1761f488e31dbe385e91713150c76e88b2c60bdb3ed8334\n",
            "  Stored in directory: /root/.cache/pip/wheels/31/8d/ac/09cb6ef7374ec79e02843c347195e5478144006b11def6799a\n",
            "Successfully built aimodelshare\n"
          ],
          "name": "stdout"
        }
      ]
    },
    {
      "cell_type": "markdown",
      "metadata": {
        "id": "yFIHih4PihkM",
        "colab_type": "text"
      },
      "source": [
        "### To submit a model you need to sign up for username and password at:\n",
        "[AI Model Share Initiative Site](http://mlsitetest.com.s3-website-us-east-1.amazonaws.com/login)"
      ]
    },
    {
      "cell_type": "markdown",
      "metadata": {
        "id": "V_BOEFlOkwMi",
        "colab_type": "text"
      },
      "source": [
        "# Set up necessary arguments for model submission using aimodelshare python library.\n",
        "\n",
        "## Required information for tabular models:\n",
        "* api_url ( the api url for whatever aimodelshare project you are submitting a model to)\n",
        "* aws key  and password (provided for you)\n",
        "* model file path\n",
        "* preprocessor file path\n",
        "* training data (a pandas data frame such as X_train)\n",
        "* model evaluation object (we created this using the model eval metrics function above)\n",
        "\n"
      ]
    },
    {
      "cell_type": "code",
      "metadata": {
        "id": "rV__MXj2mjd9",
        "colab_type": "code",
        "colab": {}
      },
      "source": [
        "import pickle\n",
        "\n",
        "# Loading AWS keys necessary to submit model.  Loading to object, so we don't print them out in our notebook\n",
        "\n",
        "aws_key_password_region = pickle.load( open( \"worldhappiness_modelsubmission_keys.pkl\", \"rb\" ) ) \n"
      ],
      "execution_count": 0,
      "outputs": []
    },
    {
      "cell_type": "code",
      "metadata": {
        "id": "LGGrdDoM69VC",
        "colab_type": "code",
        "colab": {}
      },
      "source": [
        "# Example Model Pre-launched into Model Share Site\n",
        "apiurl=\"https://btuvanmi55.execute-api.us-east-1.amazonaws.com/prod/m\"\n",
        "username = \"your aimodelshare username here\"\n",
        "password = \"your aimodelshare password here\"\n",
        "\n",
        "region='us-east-1'\n",
        "model_filepath=\"mymodel.onnx\"   \n",
        "preprocessor_filepath=\"preprocessor.pkl\"\n",
        "preprocessor=\"TRUE\"\n",
        "\n",
        "trainingdata=X_train\n",
        "\n",
        "# Set aws keys for this project (these keys give you access to collaborate on a single project)\n",
        "\n",
        "#Importing from object that stores keys so we do not print out keys for others to see.\n",
        "\n",
        "aws_key_password_region = pickle.load( open( \"worldhappiness_modelsubmission_keys.pkl\", \"rb\" ) )\n",
        "\n",
        "aws_key=aws_key_password_region[0]\n",
        "aws_password=aws_key_password_region[1]\n",
        "region=aws_key_password_region[2]"
      ],
      "execution_count": 0,
      "outputs": []
    },
    {
      "cell_type": "code",
      "metadata": {
        "id": "R69kq78l679l",
        "colab_type": "code",
        "outputId": "e3d08e2c-a0ec-4b73-d3f8-b7c5b762c837",
        "colab": {
          "base_uri": "https://localhost:8080/",
          "height": 72
        }
      },
      "source": [
        "# Submit your model using submit_model() function\n",
        "# Works with models and preprocessors. \n",
        "import aimodelshare as ai\n",
        "\n",
        "ai.submit_model(model_filepath=model_filepath, model_eval_metrics=modelevalobject,apiurl=apiurl, username=username, password=password, aws_key=aws_key,aws_password=aws_password, region=region, trainingdata=trainingdata,preprocessor_filepath=preprocessor_filepath,preprocessor=preprocessor)"
      ],
      "execution_count": 0,
      "outputs": [
        {
          "output_type": "stream",
          "text": [
            "\"mymodel.onnx\" has been loaded to version 5 of your prediction API.\n",
            "This version of the model will be used by your prediction api for all future predictions automatically.\n",
            "If you wish to use an older version of the model, please reference the getting started guide at aimodelshare.com.\n"
          ],
          "name": "stdout"
        }
      ]
    },
    {
      "cell_type": "markdown",
      "metadata": {
        "id": "MRj8Wy3GlAkx",
        "colab_type": "text"
      },
      "source": [
        "# Now you can check the leaderboard!"
      ]
    },
    {
      "cell_type": "code",
      "metadata": {
        "id": "ElNapf1o55AP",
        "colab_type": "code",
        "colab": {}
      },
      "source": [
        "# arguments required to get leaderboard below\n",
        "apiurl=\"https://btuvanmi55.execute-api.us-east-1.amazonaws.com/prod/m\"\n",
        "username = \"your aimodelshare username here\"\n",
        "password = \"your aimodelshare password here\"\n",
        "\n"
      ],
      "execution_count": 0,
      "outputs": []
    },
    {
      "cell_type": "code",
      "metadata": {
        "id": "ksupp8h26El9",
        "colab_type": "code",
        "outputId": "6f195458-0609-4d9e-e127-caaa7125cda8",
        "colab": {
          "base_uri": "https://localhost:8080/",
          "height": 413
        }
      },
      "source": [
        "import aimodelshare as ai\n",
        "\n",
        "leaderboard = ai.get_leaderboard(apiurl, username, password, aws_key, aws_password, region)\n"
      ],
      "execution_count": 0,
      "outputs": [
        {
          "output_type": "stream",
          "text": [
            "LEADERBOARD RANKINGS:\n"
          ],
          "name": "stdout"
        },
        {
          "output_type": "display_data",
          "data": {
            "text/html": [
              "<div>\n",
              "<style scoped>\n",
              "    .dataframe tbody tr th:only-of-type {\n",
              "        vertical-align: middle;\n",
              "    }\n",
              "\n",
              "    .dataframe tbody tr th {\n",
              "        vertical-align: top;\n",
              "    }\n",
              "\n",
              "    .dataframe thead th {\n",
              "        text-align: right;\n",
              "    }\n",
              "</style>\n",
              "<table border=\"1\" class=\"dataframe\">\n",
              "  <thead>\n",
              "    <tr style=\"text-align: right;\">\n",
              "      <th></th>\n",
              "      <th>accuracy</th>\n",
              "      <th>f1_score</th>\n",
              "      <th>precision</th>\n",
              "      <th>recall</th>\n",
              "      <th>mse</th>\n",
              "      <th>rmse</th>\n",
              "      <th>mae</th>\n",
              "      <th>r2</th>\n",
              "      <th>username</th>\n",
              "      <th>model_version</th>\n",
              "      <th>avg_ranking_classification</th>\n",
              "      <th>avg_ranking_regression</th>\n",
              "    </tr>\n",
              "  </thead>\n",
              "  <tbody>\n",
              "    <tr>\n",
              "      <th>3</th>\n",
              "      <td>0.435897</td>\n",
              "      <td>0.423377</td>\n",
              "      <td>0.516667</td>\n",
              "      <td>0.463889</td>\n",
              "      <td>0</td>\n",
              "      <td>0</td>\n",
              "      <td>0</td>\n",
              "      <td>0</td>\n",
              "      <td>username1</td>\n",
              "      <td>4</td>\n",
              "      <td>1.0</td>\n",
              "      <td>1.0</td>\n",
              "    </tr>\n",
              "    <tr>\n",
              "      <th>4</th>\n",
              "      <td>0.435897</td>\n",
              "      <td>0.423377</td>\n",
              "      <td>0.516667</td>\n",
              "      <td>0.463889</td>\n",
              "      <td>0</td>\n",
              "      <td>0</td>\n",
              "      <td>0</td>\n",
              "      <td>0</td>\n",
              "      <td>username1</td>\n",
              "      <td>5</td>\n",
              "      <td>1.0</td>\n",
              "      <td>1.0</td>\n",
              "    </tr>\n",
              "    <tr>\n",
              "      <th>0</th>\n",
              "      <td>0.384615</td>\n",
              "      <td>0.397653</td>\n",
              "      <td>0.482937</td>\n",
              "      <td>0.383333</td>\n",
              "      <td>0</td>\n",
              "      <td>0</td>\n",
              "      <td>0</td>\n",
              "      <td>0</td>\n",
              "      <td>username2</td>\n",
              "      <td>8</td>\n",
              "      <td>2.0</td>\n",
              "      <td>1.0</td>\n",
              "    </tr>\n",
              "    <tr>\n",
              "      <th>1</th>\n",
              "      <td>0.384615</td>\n",
              "      <td>0.397653</td>\n",
              "      <td>0.482937</td>\n",
              "      <td>0.383333</td>\n",
              "      <td>0</td>\n",
              "      <td>0</td>\n",
              "      <td>0</td>\n",
              "      <td>0</td>\n",
              "      <td>username2</td>\n",
              "      <td>11</td>\n",
              "      <td>2.0</td>\n",
              "      <td>1.0</td>\n",
              "    </tr>\n",
              "    <tr>\n",
              "      <th>7</th>\n",
              "      <td>0.384615</td>\n",
              "      <td>0.397653</td>\n",
              "      <td>0.482937</td>\n",
              "      <td>0.383333</td>\n",
              "      <td>0</td>\n",
              "      <td>0</td>\n",
              "      <td>0</td>\n",
              "      <td>0</td>\n",
              "      <td>username2</td>\n",
              "      <td>7</td>\n",
              "      <td>2.0</td>\n",
              "      <td>1.0</td>\n",
              "    </tr>\n",
              "    <tr>\n",
              "      <th>8</th>\n",
              "      <td>0.384615</td>\n",
              "      <td>0.397653</td>\n",
              "      <td>0.482937</td>\n",
              "      <td>0.383333</td>\n",
              "      <td>0</td>\n",
              "      <td>0</td>\n",
              "      <td>0</td>\n",
              "      <td>0</td>\n",
              "      <td>username2</td>\n",
              "      <td>9</td>\n",
              "      <td>2.0</td>\n",
              "      <td>1.0</td>\n",
              "    </tr>\n",
              "    <tr>\n",
              "      <th>9</th>\n",
              "      <td>0.384615</td>\n",
              "      <td>0.397653</td>\n",
              "      <td>0.482937</td>\n",
              "      <td>0.383333</td>\n",
              "      <td>0</td>\n",
              "      <td>0</td>\n",
              "      <td>0</td>\n",
              "      <td>0</td>\n",
              "      <td>username2</td>\n",
              "      <td>10</td>\n",
              "      <td>2.0</td>\n",
              "      <td>1.0</td>\n",
              "    </tr>\n",
              "    <tr>\n",
              "      <th>10</th>\n",
              "      <td>0.384615</td>\n",
              "      <td>0.397653</td>\n",
              "      <td>0.482937</td>\n",
              "      <td>0.383333</td>\n",
              "      <td>0</td>\n",
              "      <td>0</td>\n",
              "      <td>0</td>\n",
              "      <td>0</td>\n",
              "      <td>username2</td>\n",
              "      <td>12</td>\n",
              "      <td>2.0</td>\n",
              "      <td>1.0</td>\n",
              "    </tr>\n",
              "    <tr>\n",
              "      <th>2</th>\n",
              "      <td>0.333333</td>\n",
              "      <td>0.337698</td>\n",
              "      <td>0.385556</td>\n",
              "      <td>0.322222</td>\n",
              "      <td>0</td>\n",
              "      <td>0</td>\n",
              "      <td>0</td>\n",
              "      <td>0</td>\n",
              "      <td>username2</td>\n",
              "      <td>6</td>\n",
              "      <td>3.0</td>\n",
              "      <td>1.0</td>\n",
              "    </tr>\n",
              "    <tr>\n",
              "      <th>5</th>\n",
              "      <td>0.333333</td>\n",
              "      <td>0.337698</td>\n",
              "      <td>0.385556</td>\n",
              "      <td>0.322222</td>\n",
              "      <td>0</td>\n",
              "      <td>0</td>\n",
              "      <td>0</td>\n",
              "      <td>0</td>\n",
              "      <td>username2</td>\n",
              "      <td>3</td>\n",
              "      <td>3.0</td>\n",
              "      <td>1.0</td>\n",
              "    </tr>\n",
              "    <tr>\n",
              "      <th>6</th>\n",
              "      <td>0.333333</td>\n",
              "      <td>0.337698</td>\n",
              "      <td>0.385556</td>\n",
              "      <td>0.322222</td>\n",
              "      <td>0</td>\n",
              "      <td>0</td>\n",
              "      <td>0</td>\n",
              "      <td>0</td>\n",
              "      <td>username2</td>\n",
              "      <td>2</td>\n",
              "      <td>3.0</td>\n",
              "      <td>1.0</td>\n",
              "    </tr>\n",
              "  </tbody>\n",
              "</table>\n",
              "</div>"
            ],
            "text/plain": [
              "    accuracy  f1_score  ...  avg_ranking_classification  avg_ranking_regression\n",
              "3   0.435897  0.423377  ...                         1.0                     1.0\n",
              "4   0.435897  0.423377  ...                         1.0                     1.0\n",
              "0   0.384615  0.397653  ...                         2.0                     1.0\n",
              "1   0.384615  0.397653  ...                         2.0                     1.0\n",
              "7   0.384615  0.397653  ...                         2.0                     1.0\n",
              "8   0.384615  0.397653  ...                         2.0                     1.0\n",
              "9   0.384615  0.397653  ...                         2.0                     1.0\n",
              "10  0.384615  0.397653  ...                         2.0                     1.0\n",
              "2   0.333333  0.337698  ...                         3.0                     1.0\n",
              "5   0.333333  0.337698  ...                         3.0                     1.0\n",
              "6   0.333333  0.337698  ...                         3.0                     1.0\n",
              "\n",
              "[11 rows x 12 columns]"
            ]
          },
          "metadata": {
            "tags": []
          }
        }
      ]
    },
    {
      "cell_type": "code",
      "metadata": {
        "id": "PL36CTAGgx6x",
        "colab_type": "code",
        "outputId": "72d5e969-ec72-412b-b3ac-65133caf07b5",
        "colab": {
          "base_uri": "https://localhost:8080/",
          "height": 54
        }
      },
      "source": [
        "# Build, save, and submit a sklearn model\n",
        "\n",
        "from numpy import loadtxt\n",
        "from sklearn.ensemble import RandomForestClassifier\n",
        "from sklearn.model_selection import train_test_split\n",
        "from sklearn.metrics import accuracy_score\n",
        "from sklearn.model_selection import cross_val_score\n",
        "\n",
        "#Import Random Forest Model\n",
        "from sklearn.ensemble import RandomForestClassifier\n",
        "#Create a Gaussian Classifier\n",
        "model=RandomForestClassifier(n_estimators=1000, random_state = 0)\n",
        "#Train the model using the training sets y_pred=clf.predict(X_test)\n",
        "model.fit(prediction_input_preprocessor.transform(X_train), y_train)\n",
        "y_pred=model.predict(prediction_input_preprocessor.transform(X_test))\n",
        "\n",
        "#Import scikit-learn metrics module for accuracy calculation\n",
        "from sklearn import metrics\n",
        "# Model Accuracy, how often is the classifier correct?\n",
        "#print(\"Accuracy on Test Data:\",metrics.accuracy_score(y_test, y_pred))\n",
        "\n",
        "print(\"Random Forest Classifier's cross validation accuracy:\", np.mean(cross_val_score(model, prediction_input_preprocessor.transform(X_train), y_train, cv=10)))\n",
        "print(\"Random Forest Classifier's Test-Data prediction accuracy: {:.5f}\".format(model.score(prediction_input_preprocessor.transform(X_test), y_test)))\n"
      ],
      "execution_count": 0,
      "outputs": [
        {
          "output_type": "stream",
          "text": [
            "Random Forest Classifier's cross validation accuracy: 0.5909090909090908\n",
            "Random Forest Classifier's Test-Data prediction accuracy: 0.38462\n"
          ],
          "name": "stdout"
        }
      ]
    },
    {
      "cell_type": "code",
      "metadata": {
        "id": "cOwFOzjHigTc",
        "colab_type": "code",
        "colab": {}
      },
      "source": [
        "# Save sklearn modle to pkl file\n",
        "import pickle\n",
        "pickle.dump(model, open( \"rff_model.pkl\", \"wb\" ) )"
      ],
      "execution_count": 0,
      "outputs": []
    },
    {
      "cell_type": "code",
      "metadata": {
        "id": "FekS8FB-jE4l",
        "colab_type": "code",
        "outputId": "51f6318b-6e10-4ad3-9026-d5899a4c4e30",
        "colab": {
          "base_uri": "https://localhost:8080/",
          "height": 81
        }
      },
      "source": [
        "# Simply update model evaluation metric object, then change the filepaths for your preprocessor file(if new) and sklearn model to submit a sklearn model\n",
        "# add metrics to submittable object\n",
        "modelevalobject=model_eval_metrics(y_test,y_pred,classification=\"TRUE\")\n",
        "modelevalobject"
      ],
      "execution_count": 0,
      "outputs": [
        {
          "output_type": "execute_result",
          "data": {
            "text/html": [
              "<div>\n",
              "<style scoped>\n",
              "    .dataframe tbody tr th:only-of-type {\n",
              "        vertical-align: middle;\n",
              "    }\n",
              "\n",
              "    .dataframe tbody tr th {\n",
              "        vertical-align: top;\n",
              "    }\n",
              "\n",
              "    .dataframe thead th {\n",
              "        text-align: right;\n",
              "    }\n",
              "</style>\n",
              "<table border=\"1\" class=\"dataframe\">\n",
              "  <thead>\n",
              "    <tr style=\"text-align: right;\">\n",
              "      <th></th>\n",
              "      <th>accuracy</th>\n",
              "      <th>f1_score</th>\n",
              "      <th>precision</th>\n",
              "      <th>recall</th>\n",
              "      <th>mse</th>\n",
              "      <th>rmse</th>\n",
              "      <th>mae</th>\n",
              "      <th>r2</th>\n",
              "    </tr>\n",
              "  </thead>\n",
              "  <tbody>\n",
              "    <tr>\n",
              "      <th>0</th>\n",
              "      <td>0.384615</td>\n",
              "      <td>0.397653</td>\n",
              "      <td>0.482937</td>\n",
              "      <td>0.383333</td>\n",
              "      <td>0</td>\n",
              "      <td>0</td>\n",
              "      <td>0</td>\n",
              "      <td>0</td>\n",
              "    </tr>\n",
              "  </tbody>\n",
              "</table>\n",
              "</div>"
            ],
            "text/plain": [
              "   accuracy  f1_score  precision    recall  mse  rmse  mae  r2\n",
              "0  0.384615  0.397653   0.482937  0.383333    0     0    0   0"
            ]
          },
          "metadata": {
            "tags": []
          },
          "execution_count": 152
        }
      ]
    },
    {
      "cell_type": "code",
      "metadata": {
        "id": "3tAVNGdujFF8",
        "colab_type": "code",
        "colab": {}
      },
      "source": [
        "# Example Model Pre-launched into Model Share Site\n",
        "apiurl=\"https://btuvanmi55.execute-api.us-east-1.amazonaws.com/prod/m\"\n",
        "username = \"your aimodelshare username here\"\n",
        "password = \"your aimodelshare password here\"\n",
        "\n",
        "region='us-east-1'\n",
        "model_filepath=\"rff_model.pkl\"   \n",
        "preprocessor_filepath=\"preprocessor.pkl\"\n",
        "preprocessor=\"TRUE\"\n",
        "\n",
        "trainingdata=X_train\n",
        "\n",
        "# Set aws keys for this project (these keys give you access to collaborate on a single project)\n",
        "\n",
        "#Importing from object that stores keys so we do not print out keys for others to see.\n",
        "aws_key_password_region = pickle.load( open( \"worldhappiness_modelsubmission_keys.pkl\", \"rb\" ) )\n",
        "\n",
        "aws_key=aws_key_password_region[0]\n",
        "aws_password=aws_key_password_region[1]\n",
        "region=aws_key_password_region[2]"
      ],
      "execution_count": 0,
      "outputs": []
    },
    {
      "cell_type": "code",
      "metadata": {
        "id": "Z86A-5gKj6Nx",
        "colab_type": "code",
        "outputId": "fb7681a2-406c-419d-b58c-5afac8734a25",
        "colab": {
          "base_uri": "https://localhost:8080/",
          "height": 72
        }
      },
      "source": [
        "# Submit new model\n",
        "import aimodelshare as ai\n",
        "\n",
        "ai.submit_model(model_filepath=model_filepath, model_eval_metrics=modelevalobject,apiurl=apiurl, username=username, password=password, aws_key=aws_key,aws_password=aws_password, region=region, trainingdata=trainingdata,preprocessor_filepath=preprocessor_filepath,preprocessor=preprocessor)"
      ],
      "execution_count": 0,
      "outputs": [
        {
          "output_type": "stream",
          "text": [
            "\"rff_model.pkl\" has been loaded to version 12 of your prediction API.\n",
            "This version of the model will be used by your prediction api for all future predictions automatically.\n",
            "If you wish to use an older version of the model, please reference the getting started guide at aimodelshare.com.\n"
          ],
          "name": "stdout"
        }
      ]
    },
    {
      "cell_type": "code",
      "metadata": {
        "id": "fXfLm79UkCO5",
        "colab_type": "code",
        "outputId": "2aa47ae7-d76b-44e8-caa5-c23f6055b6d2",
        "colab": {
          "base_uri": "https://localhost:8080/",
          "height": 413
        }
      },
      "source": [
        "# Check leaderboard\n",
        "import aimodelshare as ai\n",
        "\n",
        "leaderboard = ai.get_leaderboard(apiurl, username, password, aws_key, aws_password, region)"
      ],
      "execution_count": 0,
      "outputs": [
        {
          "output_type": "stream",
          "text": [
            "LEADERBOARD RANKINGS:\n"
          ],
          "name": "stdout"
        },
        {
          "output_type": "display_data",
          "data": {
            "text/html": [
              "<div>\n",
              "<style scoped>\n",
              "    .dataframe tbody tr th:only-of-type {\n",
              "        vertical-align: middle;\n",
              "    }\n",
              "\n",
              "    .dataframe tbody tr th {\n",
              "        vertical-align: top;\n",
              "    }\n",
              "\n",
              "    .dataframe thead th {\n",
              "        text-align: right;\n",
              "    }\n",
              "</style>\n",
              "<table border=\"1\" class=\"dataframe\">\n",
              "  <thead>\n",
              "    <tr style=\"text-align: right;\">\n",
              "      <th></th>\n",
              "      <th>accuracy</th>\n",
              "      <th>f1_score</th>\n",
              "      <th>precision</th>\n",
              "      <th>recall</th>\n",
              "      <th>mse</th>\n",
              "      <th>rmse</th>\n",
              "      <th>mae</th>\n",
              "      <th>r2</th>\n",
              "      <th>username</th>\n",
              "      <th>model_version</th>\n",
              "      <th>avg_ranking_classification</th>\n",
              "      <th>avg_ranking_regression</th>\n",
              "    </tr>\n",
              "  </thead>\n",
              "  <tbody>\n",
              "    <tr>\n",
              "      <th>3</th>\n",
              "      <td>0.435897</td>\n",
              "      <td>0.423377</td>\n",
              "      <td>0.516667</td>\n",
              "      <td>0.463889</td>\n",
              "      <td>0</td>\n",
              "      <td>0</td>\n",
              "      <td>0</td>\n",
              "      <td>0</td>\n",
              "      <td>username1</td>\n",
              "      <td>4</td>\n",
              "      <td>1.0</td>\n",
              "      <td>1.0</td>\n",
              "    </tr>\n",
              "    <tr>\n",
              "      <th>4</th>\n",
              "      <td>0.435897</td>\n",
              "      <td>0.423377</td>\n",
              "      <td>0.516667</td>\n",
              "      <td>0.463889</td>\n",
              "      <td>0</td>\n",
              "      <td>0</td>\n",
              "      <td>0</td>\n",
              "      <td>0</td>\n",
              "      <td>username1</td>\n",
              "      <td>5</td>\n",
              "      <td>1.0</td>\n",
              "      <td>1.0</td>\n",
              "    </tr>\n",
              "    <tr>\n",
              "      <th>0</th>\n",
              "      <td>0.384615</td>\n",
              "      <td>0.397653</td>\n",
              "      <td>0.482937</td>\n",
              "      <td>0.383333</td>\n",
              "      <td>0</td>\n",
              "      <td>0</td>\n",
              "      <td>0</td>\n",
              "      <td>0</td>\n",
              "      <td>username2</td>\n",
              "      <td>8</td>\n",
              "      <td>2.0</td>\n",
              "      <td>1.0</td>\n",
              "    </tr>\n",
              "    <tr>\n",
              "      <th>1</th>\n",
              "      <td>0.384615</td>\n",
              "      <td>0.397653</td>\n",
              "      <td>0.482937</td>\n",
              "      <td>0.383333</td>\n",
              "      <td>0</td>\n",
              "      <td>0</td>\n",
              "      <td>0</td>\n",
              "      <td>0</td>\n",
              "      <td>username2</td>\n",
              "      <td>11</td>\n",
              "      <td>2.0</td>\n",
              "      <td>1.0</td>\n",
              "    </tr>\n",
              "    <tr>\n",
              "      <th>7</th>\n",
              "      <td>0.384615</td>\n",
              "      <td>0.397653</td>\n",
              "      <td>0.482937</td>\n",
              "      <td>0.383333</td>\n",
              "      <td>0</td>\n",
              "      <td>0</td>\n",
              "      <td>0</td>\n",
              "      <td>0</td>\n",
              "      <td>username2</td>\n",
              "      <td>7</td>\n",
              "      <td>2.0</td>\n",
              "      <td>1.0</td>\n",
              "    </tr>\n",
              "    <tr>\n",
              "      <th>8</th>\n",
              "      <td>0.384615</td>\n",
              "      <td>0.397653</td>\n",
              "      <td>0.482937</td>\n",
              "      <td>0.383333</td>\n",
              "      <td>0</td>\n",
              "      <td>0</td>\n",
              "      <td>0</td>\n",
              "      <td>0</td>\n",
              "      <td>username2</td>\n",
              "      <td>9</td>\n",
              "      <td>2.0</td>\n",
              "      <td>1.0</td>\n",
              "    </tr>\n",
              "    <tr>\n",
              "      <th>9</th>\n",
              "      <td>0.384615</td>\n",
              "      <td>0.397653</td>\n",
              "      <td>0.482937</td>\n",
              "      <td>0.383333</td>\n",
              "      <td>0</td>\n",
              "      <td>0</td>\n",
              "      <td>0</td>\n",
              "      <td>0</td>\n",
              "      <td>username2</td>\n",
              "      <td>10</td>\n",
              "      <td>2.0</td>\n",
              "      <td>1.0</td>\n",
              "    </tr>\n",
              "    <tr>\n",
              "      <th>10</th>\n",
              "      <td>0.384615</td>\n",
              "      <td>0.397653</td>\n",
              "      <td>0.482937</td>\n",
              "      <td>0.383333</td>\n",
              "      <td>0</td>\n",
              "      <td>0</td>\n",
              "      <td>0</td>\n",
              "      <td>0</td>\n",
              "      <td>username2</td>\n",
              "      <td>12</td>\n",
              "      <td>2.0</td>\n",
              "      <td>1.0</td>\n",
              "    </tr>\n",
              "    <tr>\n",
              "      <th>2</th>\n",
              "      <td>0.333333</td>\n",
              "      <td>0.337698</td>\n",
              "      <td>0.385556</td>\n",
              "      <td>0.322222</td>\n",
              "      <td>0</td>\n",
              "      <td>0</td>\n",
              "      <td>0</td>\n",
              "      <td>0</td>\n",
              "      <td>username2</td>\n",
              "      <td>6</td>\n",
              "      <td>3.0</td>\n",
              "      <td>1.0</td>\n",
              "    </tr>\n",
              "    <tr>\n",
              "      <th>5</th>\n",
              "      <td>0.333333</td>\n",
              "      <td>0.337698</td>\n",
              "      <td>0.385556</td>\n",
              "      <td>0.322222</td>\n",
              "      <td>0</td>\n",
              "      <td>0</td>\n",
              "      <td>0</td>\n",
              "      <td>0</td>\n",
              "      <td>username2</td>\n",
              "      <td>3</td>\n",
              "      <td>3.0</td>\n",
              "      <td>1.0</td>\n",
              "    </tr>\n",
              "    <tr>\n",
              "      <th>6</th>\n",
              "      <td>0.333333</td>\n",
              "      <td>0.337698</td>\n",
              "      <td>0.385556</td>\n",
              "      <td>0.322222</td>\n",
              "      <td>0</td>\n",
              "      <td>0</td>\n",
              "      <td>0</td>\n",
              "      <td>0</td>\n",
              "      <td>username2</td>\n",
              "      <td>2</td>\n",
              "      <td>3.0</td>\n",
              "      <td>1.0</td>\n",
              "    </tr>\n",
              "  </tbody>\n",
              "</table>\n",
              "</div>"
            ],
            "text/plain": [
              "    accuracy  f1_score  ...  avg_ranking_classification  avg_ranking_regression\n",
              "3   0.435897  0.423377  ...                         1.0                     1.0\n",
              "4   0.435897  0.423377  ...                         1.0                     1.0\n",
              "0   0.384615  0.397653  ...                         2.0                     1.0\n",
              "1   0.384615  0.397653  ...                         2.0                     1.0\n",
              "7   0.384615  0.397653  ...                         2.0                     1.0\n",
              "8   0.384615  0.397653  ...                         2.0                     1.0\n",
              "9   0.384615  0.397653  ...                         2.0                     1.0\n",
              "10  0.384615  0.397653  ...                         2.0                     1.0\n",
              "2   0.333333  0.337698  ...                         3.0                     1.0\n",
              "5   0.333333  0.337698  ...                         3.0                     1.0\n",
              "6   0.333333  0.337698  ...                         3.0                     1.0\n",
              "\n",
              "[11 rows x 12 columns]"
            ]
          },
          "metadata": {
            "tags": []
          }
        }
      ]
    },
    {
      "cell_type": "code",
      "metadata": {
        "id": "dCX8HYepO581",
        "colab_type": "code",
        "outputId": "8551d01f-767a-4d03-f242-ceab4d337a90",
        "colab": {
          "base_uri": "https://localhost:8080/",
          "height": 35
        }
      },
      "source": [
        "! # Live REST API example for tabular data!\n",
        "! curl -X POST -H \"Content-Type: application/json\" -d '{\"data\":{\"Country or region\": \"Mexico\", \"GDP per capita\": [-10000],\"Social support\": [1],\"Healthy life expectancy\": [1],\"Freedom to make life choices\": [-1000],\"Generosity\": [1], \"Perceptions of corruption\": [-1000]}}' \"https://btuvanmi55.execute-api.us-east-1.amazonaws.com/prod/m\""
      ],
      "execution_count": 0,
      "outputs": [
        {
          "output_type": "stream",
          "text": [
            "[\"Average\"]"
          ],
          "name": "stdout"
        }
      ]
    }
  ]
}