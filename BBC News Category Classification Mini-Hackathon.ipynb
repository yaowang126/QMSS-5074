{
 "cells": [
  {
   "cell_type": "markdown",
   "metadata": {
    "colab_type": "text",
    "id": "ftx3zZt8OHvd"
   },
   "source": [
    "## Can you use the following data to build....?\n",
    "1. A model with an embedding layer and dense layers (but w/ no layers meant for sequential data)\n",
    "2.  A model using Conv1d Layers\n",
    "3.  A model with one sequential layer (LSTM or GRU)\n",
    "4. A model with stacked sequential layers (LSTM or GRU)\n",
    "- A model with bidirectional sequential layers \n",
    "\n",
    "\n",
    "\n",
    "\n"
   ]
  },
  {
   "cell_type": "code",
   "execution_count": 17,
   "metadata": {
    "colab": {
     "base_uri": "https://localhost:8080/",
     "height": 424
    },
    "colab_type": "code",
    "executionInfo": {
     "elapsed": 944,
     "status": "ok",
     "timestamp": 1588537568418,
     "user": {
      "displayName": "Michael D. Parrott",
      "photoUrl": "",
      "userId": "13070067452828357902"
     },
     "user_tz": 240
    },
    "id": "YoqSwgStNzT4",
    "outputId": "54026bd0-c8b5-43b2-c910-fb4b43666452",
    "scrolled": true
   },
   "outputs": [
    {
     "data": {
      "text/html": [
       "<div>\n",
       "<style scoped>\n",
       "    .dataframe tbody tr th:only-of-type {\n",
       "        vertical-align: middle;\n",
       "    }\n",
       "\n",
       "    .dataframe tbody tr th {\n",
       "        vertical-align: top;\n",
       "    }\n",
       "\n",
       "    .dataframe thead th {\n",
       "        text-align: right;\n",
       "    }\n",
       "</style>\n",
       "<table border=\"1\" class=\"dataframe\">\n",
       "  <thead>\n",
       "    <tr style=\"text-align: right;\">\n",
       "      <th></th>\n",
       "      <th>category</th>\n",
       "      <th>text</th>\n",
       "    </tr>\n",
       "  </thead>\n",
       "  <tbody>\n",
       "    <tr>\n",
       "      <td>0</td>\n",
       "      <td>tech</td>\n",
       "      <td>tv future in the hands of viewers with home th...</td>\n",
       "    </tr>\n",
       "    <tr>\n",
       "      <td>1</td>\n",
       "      <td>business</td>\n",
       "      <td>worldcom boss  left books alone  former worldc...</td>\n",
       "    </tr>\n",
       "    <tr>\n",
       "      <td>2</td>\n",
       "      <td>sport</td>\n",
       "      <td>tigers wary of farrell  gamble  leicester say ...</td>\n",
       "    </tr>\n",
       "    <tr>\n",
       "      <td>3</td>\n",
       "      <td>sport</td>\n",
       "      <td>yeading face newcastle in fa cup premiership s...</td>\n",
       "    </tr>\n",
       "    <tr>\n",
       "      <td>4</td>\n",
       "      <td>entertainment</td>\n",
       "      <td>ocean s twelve raids box office ocean s twelve...</td>\n",
       "    </tr>\n",
       "  </tbody>\n",
       "</table>\n",
       "</div>"
      ],
      "text/plain": [
       "        category                                               text\n",
       "0           tech  tv future in the hands of viewers with home th...\n",
       "1       business  worldcom boss  left books alone  former worldc...\n",
       "2          sport  tigers wary of farrell  gamble  leicester say ...\n",
       "3          sport  yeading face newcastle in fa cup premiership s...\n",
       "4  entertainment  ocean s twelve raids box office ocean s twelve..."
      ]
     },
     "execution_count": 17,
     "metadata": {},
     "output_type": "execute_result"
    }
   ],
   "source": [
    "\n",
    "\n",
    "import pandas as pd\n",
    "bbc=pd.read_csv(\"https://storage.googleapis.com/dataset-uploader/bbc/bbc-text.csv\")\n",
    "bbc.head(5)"
   ]
  },
  {
   "cell_type": "code",
   "execution_count": 28,
   "metadata": {},
   "outputs": [
    {
     "data": {
      "text/plain": [
       "2225"
      ]
     },
     "execution_count": 28,
     "metadata": {},
     "output_type": "execute_result"
    }
   ],
   "source": [
    "len(bbc)"
   ]
  },
  {
   "cell_type": "code",
   "execution_count": 18,
   "metadata": {},
   "outputs": [
    {
     "data": {
      "text/plain": [
       "'tv future in the hands of viewers with home theatre systems  plasma high-definition tvs  and digital video recorders moving into the living room  the way people watch tv will be radically different in five years  time.  that is according to an expert panel which gathered at the annual consumer electronics show in las vegas to discuss how these new technologies will impact one of our favourite pastimes. with the us leading the trend  programmes and other content will be delivered to viewers via home networks  through cable  satellite  telecoms companies  and broadband service providers to front rooms and portable devices.  one of the most talked-about technologies of ces has been digital and personal video recorders (dvr and pvr). these set-top boxes  like the us s tivo and the uk s sky+ system  allow people to record  store  play  pause and forward wind tv programmes when they want.  essentially  the technology allows for much more personalised tv. they are also being built-in to high-definition tv sets  which are big business in japan and the us  but slower to take off in europe because of the lack of high-definition programming. not only can people forward wind through adverts  they can also forget about abiding by network and channel schedules  putting together their own a-la-carte entertainment. but some us networks and cable and satellite companies are worried about what it means for them in terms of advertising revenues as well as  brand identity  and viewer loyalty to channels. although the us leads in this technology at the moment  it is also a concern that is being raised in europe  particularly with the growing uptake of services like sky+.  what happens here today  we will see in nine months to a years  time in the uk   adam hume  the bbc broadcast s futurologist told the bbc news website. for the likes of the bbc  there are no issues of lost advertising revenue yet. it is a more pressing issue at the moment for commercial uk broadcasters  but brand loyalty is important for everyone.  we will be talking more about content brands rather than network brands   said tim hanlon  from brand communications firm starcom mediavest.  the reality is that with broadband connections  anybody can be the producer of content.  he added:  the challenge now is that it is hard to promote a programme with so much choice.   what this means  said stacey jolna  senior vice president of tv guide tv group  is that the way people find the content they want to watch has to be simplified for tv viewers. it means that networks  in us terms  or channels could take a leaf out of google s book and be the search engine of the future  instead of the scheduler to help people find what they want to watch. this kind of channel model might work for the younger ipod generation which is used to taking control of their gadgets and what they play on them. but it might not suit everyone  the panel recognised. older generations are more comfortable with familiar schedules and channel brands because they know what they are getting. they perhaps do not want so much of the choice put into their hands  mr hanlon suggested.  on the other end  you have the kids just out of diapers who are pushing buttons already - everything is possible and available to them   said mr hanlon.  ultimately  the consumer will tell the market they want.   of the 50 000 new gadgets and technologies being showcased at ces  many of them are about enhancing the tv-watching experience. high-definition tv sets are everywhere and many new models of lcd (liquid crystal display) tvs have been launched with dvr capability built into them  instead of being external boxes. one such example launched at the show is humax s 26-inch lcd tv with an 80-hour tivo dvr and dvd recorder. one of the us s biggest satellite tv companies  directtv  has even launched its own branded dvr at the show with 100-hours of recording capability  instant replay  and a search function. the set can pause and rewind tv for up to 90 hours. and microsoft chief bill gates announced in his pre-show keynote speech a partnership with tivo  called tivotogo  which means people can play recorded programmes on windows pcs and mobile devices. all these reflect the increasing trend of freeing up multimedia so that people can watch what they want  when they want.'"
      ]
     },
     "execution_count": 18,
     "metadata": {},
     "output_type": "execute_result"
    }
   ],
   "source": [
    "bbc.text[0]"
   ]
  },
  {
   "cell_type": "markdown",
   "metadata": {},
   "source": [
    "1)  Visualize the categories of your target variable and describe the dataset generally (the data includes news articles from the BBC news.)  A simple description is fine."
   ]
  },
  {
   "cell_type": "code",
   "execution_count": 130,
   "metadata": {},
   "outputs": [],
   "source": [
    "# This data set is composed by label and text data, we have 5 labels here, which are tech, business, sports, entertainment and politics. \n",
    "#The good thing is we dont have a lot punctuations here， we just have full stops here so it is easy to clear up."
   ]
  },
  {
   "cell_type": "code",
   "execution_count": 19,
   "metadata": {},
   "outputs": [],
   "source": [
    "cat=bbc.category.unique()\n",
    "sumcat=bbc.category.value_counts()"
   ]
  },
  {
   "cell_type": "code",
   "execution_count": 20,
   "metadata": {
    "scrolled": true
   },
   "outputs": [
    {
     "data": {
      "text/plain": [
       "<function matplotlib.pyplot.show(*args, **kw)>"
      ]
     },
     "execution_count": 20,
     "metadata": {},
     "output_type": "execute_result"
    },
    {
     "data": {
      "image/png": "[encoded data removed]",
      "text/plain": [
       "<Figure size 432x288 with 1 Axes>"
      ]
     },
     "metadata": {
      "needs_background": "light"
     },
     "output_type": "display_data"
    }
   ],
   "source": [
    "import numpy as np\n",
    "import matplotlib.pyplot as plt\n",
    "y_pos = np.arange(len(cat))\n",
    "plt.bar(cat, sumcat, align='center', alpha=0.5)\n",
    "plt.show"
   ]
  },
  {
   "cell_type": "code",
   "execution_count": 21,
   "metadata": {},
   "outputs": [],
   "source": [
    "text=bbc.text"
   ]
  },
  {
   "cell_type": "code",
   "execution_count": 22,
   "metadata": {},
   "outputs": [],
   "source": [
    "import re\n",
    "text_clean=[]\n",
    "for sentence in text:\n",
    "    tmp=re.sub('[^A-Za-z0-9 ]',' ',sentence)\n",
    "    text_clean.append(tmp)"
   ]
  },
  {
   "cell_type": "code",
   "execution_count": 23,
   "metadata": {},
   "outputs": [
    {
     "name": "stdout",
     "output_type": "stream",
     "text": [
      "91\n",
      "4491\n"
     ]
    }
   ],
   "source": [
    "text_len=[]\n",
    "for sentence in text_clean:\n",
    "    tmp=len(sentence.split())\n",
    "    text_len.append(tmp)\n",
    "#let's see the length of our text data\n",
    "print(min(text_len))\n",
    "print(max(text_len))"
   ]
  },
  {
   "cell_type": "code",
   "execution_count": 24,
   "metadata": {},
   "outputs": [],
   "source": [
    "from keras.preprocessing.text import Tokenizer\n",
    "from keras.preprocessing.sequence import pad_sequences \n",
    "tokenizer = Tokenizer()\n",
    "tokenizer.fit_on_texts(text)\n",
    "sequences = tokenizer.texts_to_sequences(text)\n",
    "word_index = tokenizer.word_index\n"
   ]
  },
  {
   "cell_type": "code",
   "execution_count": 25,
   "metadata": {},
   "outputs": [
    {
     "name": "stdout",
     "output_type": "stream",
     "text": [
      "Found 29726 unique tokens.\n"
     ]
    }
   ],
   "source": [
    "print('Found %s unique tokens.' % len(word_index))"
   ]
  },
  {
   "cell_type": "code",
   "execution_count": 26,
   "metadata": {},
   "outputs": [],
   "source": [
    "data = pad_sequences(sequences, maxlen=100)\n",
    "label=bbc.category"
   ]
  },
  {
   "cell_type": "code",
   "execution_count": 27,
   "metadata": {},
   "outputs": [],
   "source": [
    "#shuffle\n",
    "indices = np.arange(data.shape[0])\n",
    "np.random.shuffle(indices)\n",
    "data = data[indices]\n",
    "label = label[indices]\n",
    "label_dummy = pd.get_dummies(label)"
   ]
  },
  {
   "cell_type": "code",
   "execution_count": 37,
   "metadata": {},
   "outputs": [],
   "source": [
    "#Train test split\n",
    "x_train = data[:1500] \n",
    "y_train = label_dummy[:1500]\n",
    "x_test = data[1500:]\n",
    "y_test = label_dummy[1500:]"
   ]
  },
  {
   "cell_type": "markdown",
   "metadata": {},
   "source": [
    "3)  Use the data to fit separate models to each of the following architectures:len(x_val)"
   ]
  },
  {
   "cell_type": "markdown",
   "metadata": {},
   "source": [
    "A. A model with an embedding layer and dense layers (but w/ no layers meant for sequential data)"
   ]
  },
  {
   "cell_type": "code",
   "execution_count": 74,
   "metadata": {},
   "outputs": [
    {
     "name": "stdout",
     "output_type": "stream",
     "text": [
      "Model: \"sequential_16\"\n",
      "_________________________________________________________________\n",
      "Layer (type)                 Output Shape              Param #   \n",
      "=================================================================\n",
      "embedding_15 (Embedding)     (None, 100, 10)           297260    \n",
      "_________________________________________________________________\n",
      "flatten_4 (Flatten)          (None, 1000)              0         \n",
      "_________________________________________________________________\n",
      "dense_14 (Dense)             (None, 32)                32032     \n",
      "_________________________________________________________________\n",
      "dense_15 (Dense)             (None, 5)                 165       \n",
      "=================================================================\n",
      "Total params: 329,457\n",
      "Trainable params: 329,457\n",
      "Non-trainable params: 0\n",
      "_________________________________________________________________\n"
     ]
    },
    {
     "name": "stderr",
     "output_type": "stream",
     "text": [
      "D:\\Anaconda3\\lib\\site-packages\\tensorflow_core\\python\\framework\\indexed_slices.py:433: UserWarning: Converting sparse IndexedSlices to a dense Tensor of unknown shape. This may consume a large amount of memory.\n",
      "  \"Converting sparse IndexedSlices to a dense Tensor of unknown shape. \"\n"
     ]
    },
    {
     "name": "stdout",
     "output_type": "stream",
     "text": [
      "Train on 1200 samples, validate on 300 samples\n",
      "Epoch 1/10\n",
      "1200/1200 [==============================] - 0s 176us/step - loss: 1.6355 - acc: 0.1792 - val_loss: 1.6160 - val_acc: 0.1733\n",
      "Epoch 2/10\n",
      "1200/1200 [==============================] - 0s 99us/step - loss: 1.5922 - acc: 0.2825 - val_loss: 1.5987 - val_acc: 0.2133\n",
      "Epoch 3/10\n",
      "1200/1200 [==============================] - 0s 100us/step - loss: 1.5575 - acc: 0.2458 - val_loss: 1.5791 - val_acc: 0.2133\n",
      "Epoch 4/10\n",
      "1200/1200 [==============================] - 0s 98us/step - loss: 1.4999 - acc: 0.3992 - val_loss: 1.5408 - val_acc: 0.2967\n",
      "Epoch 5/10\n",
      "1200/1200 [==============================] - 0s 102us/step - loss: 1.3991 - acc: 0.7025 - val_loss: 1.4681 - val_acc: 0.5667\n",
      "Epoch 6/10\n",
      "1200/1200 [==============================] - 0s 102us/step - loss: 1.2450 - acc: 0.8983 - val_loss: 1.3540 - val_acc: 0.6800\n",
      "Epoch 7/10\n",
      "1200/1200 [==============================] - 0s 98us/step - loss: 1.0538 - acc: 0.9525 - val_loss: 1.2186 - val_acc: 0.7233\n",
      "Epoch 8/10\n",
      "1200/1200 [==============================] - 0s 102us/step - loss: 0.8592 - acc: 0.9767 - val_loss: 1.0843 - val_acc: 0.7400\n",
      "Epoch 9/10\n",
      "1200/1200 [==============================] - 0s 97us/step - loss: 0.6798 - acc: 0.9850 - val_loss: 0.9577 - val_acc: 0.7933\n",
      "Epoch 10/10\n",
      "1200/1200 [==============================] - 0s 118us/step - loss: 0.5224 - acc: 0.9942 - val_loss: 0.8484 - val_acc: 0.7967\n"
     ]
    }
   ],
   "source": [
    "from keras.layers import Dense, Embedding\n",
    "from keras.models import Sequential\n",
    "from keras.layers import Flatten, Dense\n",
    "\n",
    "model = Sequential()\n",
    "model.add(Embedding(29726, 10, input_length=100))\n",
    "model.add(Flatten())\n",
    "model.add(Dense(32, activation='sigmoid'))\n",
    "model.add(Dense(5, activation='sigmoid'))\n",
    "model.compile(optimizer='rmsprop', loss='categorical_crossentropy', metrics=['acc'])\n",
    "model.summary()\n",
    "\n",
    "history = model.fit(x_train, y_train,\n",
    "                    epochs=10,\n",
    "                    batch_size=32,\n",
    "                    validation_split=0.2)"
   ]
  },
  {
   "cell_type": "code",
   "execution_count": 75,
   "metadata": {},
   "outputs": [
    {
     "name": "stdout",
     "output_type": "stream",
     "text": [
      "725/725 [==============================] - 0s 12us/step\n",
      "Test score: 0.8656800363803732\n",
      "Test accuracy: 0.7848275899887085\n"
     ]
    }
   ],
   "source": [
    "score, acc = model.evaluate(x_test, y_test)\n",
    "print('Test score:', score)\n",
    "print('Test accuracy:', acc)"
   ]
  },
  {
   "cell_type": "code",
   "execution_count": 77,
   "metadata": {},
   "outputs": [
    {
     "data": {
      "text/html": [
       "<div>\n",
       "<style scoped>\n",
       "    .dataframe tbody tr th:only-of-type {\n",
       "        vertical-align: middle;\n",
       "    }\n",
       "\n",
       "    .dataframe tbody tr th {\n",
       "        vertical-align: top;\n",
       "    }\n",
       "\n",
       "    .dataframe thead th {\n",
       "        text-align: right;\n",
       "    }\n",
       "</style>\n",
       "<table border=\"1\" class=\"dataframe\">\n",
       "  <thead>\n",
       "    <tr style=\"text-align: right;\">\n",
       "      <th></th>\n",
       "      <th>model</th>\n",
       "      <th>test_score</th>\n",
       "      <th>test_acc</th>\n",
       "    </tr>\n",
       "  </thead>\n",
       "  <tbody>\n",
       "    <tr>\n",
       "      <td>0</td>\n",
       "      <td>dense</td>\n",
       "      <td>0.86568</td>\n",
       "      <td>0.784828</td>\n",
       "    </tr>\n",
       "  </tbody>\n",
       "</table>\n",
       "</div>"
      ],
      "text/plain": [
       "   model  test_score  test_acc\n",
       "0  dense     0.86568  0.784828"
      ]
     },
     "execution_count": 77,
     "metadata": {},
     "output_type": "execute_result"
    }
   ],
   "source": [
    "result=pd.DataFrame({'model':['dense'],'test_score':[score],'test_acc':[acc]})\n",
    "result"
   ]
  },
  {
   "cell_type": "markdown",
   "metadata": {},
   "source": [
    "B. A model using an Embedding layer with Conv1d Layers"
   ]
  },
  {
   "cell_type": "code",
   "execution_count": 78,
   "metadata": {},
   "outputs": [
    {
     "name": "stdout",
     "output_type": "stream",
     "text": [
      "Model: \"sequential_17\"\n",
      "_________________________________________________________________\n",
      "Layer (type)                 Output Shape              Param #   \n",
      "=================================================================\n",
      "embedding_16 (Embedding)     (None, 100, 10)           297260    \n",
      "_________________________________________________________________\n",
      "conv1d_17 (Conv1D)           (None, 98, 32)            992       \n",
      "_________________________________________________________________\n",
      "max_pooling1d_10 (MaxPooling (None, 49, 32)            0         \n",
      "_________________________________________________________________\n",
      "conv1d_18 (Conv1D)           (None, 47, 32)            3104      \n",
      "_________________________________________________________________\n",
      "global_max_pooling1d_8 (Glob (None, 32)                0         \n",
      "_________________________________________________________________\n",
      "dense_16 (Dense)             (None, 5)                 165       \n",
      "=================================================================\n",
      "Total params: 301,521\n",
      "Trainable params: 301,521\n",
      "Non-trainable params: 0\n",
      "_________________________________________________________________\n"
     ]
    },
    {
     "name": "stderr",
     "output_type": "stream",
     "text": [
      "D:\\Anaconda3\\lib\\site-packages\\tensorflow_core\\python\\framework\\indexed_slices.py:433: UserWarning: Converting sparse IndexedSlices to a dense Tensor of unknown shape. This may consume a large amount of memory.\n",
      "  \"Converting sparse IndexedSlices to a dense Tensor of unknown shape. \"\n"
     ]
    },
    {
     "name": "stdout",
     "output_type": "stream",
     "text": [
      "Train on 1200 samples, validate on 300 samples\n",
      "Epoch 1/10\n",
      "1200/1200 [==============================] - 0s 144us/step - loss: 7.2339 - acc: 0.2192 - val_loss: 7.6305 - val_acc: 0.2333\n",
      "Epoch 2/10\n",
      "1200/1200 [==============================] - 0s 76us/step - loss: 8.3411 - acc: 0.2175 - val_loss: 7.6305 - val_acc: 0.2333\n",
      "Epoch 3/10\n",
      "1200/1200 [==============================] - 0s 70us/step - loss: 8.3411 - acc: 0.2175 - val_loss: 7.6305 - val_acc: 0.2333\n",
      "Epoch 4/10\n",
      "1200/1200 [==============================] - 0s 64us/step - loss: 8.3411 - acc: 0.2175 - val_loss: 7.6305 - val_acc: 0.2333\n",
      "Epoch 5/10\n",
      "1200/1200 [==============================] - 0s 66us/step - loss: 8.3411 - acc: 0.2175 - val_loss: 7.6305 - val_acc: 0.2333\n",
      "Epoch 6/10\n",
      "1200/1200 [==============================] - 0s 66us/step - loss: 8.3411 - acc: 0.2175 - val_loss: 7.6305 - val_acc: 0.2333\n",
      "Epoch 7/10\n",
      "1200/1200 [==============================] - 0s 66us/step - loss: 8.3411 - acc: 0.2175 - val_loss: 7.6305 - val_acc: 0.2333\n",
      "Epoch 8/10\n",
      "1200/1200 [==============================] - 0s 71us/step - loss: 8.3411 - acc: 0.2175 - val_loss: 7.6305 - val_acc: 0.2333\n",
      "Epoch 9/10\n",
      "1200/1200 [==============================] - 0s 66us/step - loss: 8.3411 - acc: 0.2175 - val_loss: 7.6305 - val_acc: 0.2333\n",
      "Epoch 10/10\n",
      "1200/1200 [==============================] - 0s 65us/step - loss: 8.3411 - acc: 0.2175 - val_loss: 7.6305 - val_acc: 0.2333\n"
     ]
    }
   ],
   "source": [
    "from keras.layers import Conv1D, MaxPooling1D, GlobalMaxPooling1D\n",
    "model = Sequential()\n",
    "model.add(Embedding(29726, 10, input_length=100))\n",
    "model.add(Conv1D(32, 3, activation='relu')) \n",
    "model.add(MaxPooling1D()) \n",
    "model.add(Conv1D(32, 3, activation='relu'))\n",
    "model.add(GlobalMaxPooling1D())\n",
    "model.add(Dense(5))\n",
    "model.summary()\n",
    "\n",
    "model.compile(optimizer='rmsprop', loss='categorical_crossentropy', metrics=['acc'])\n",
    "history = model.fit(x_train, y_train,\n",
    "                    epochs=10,\n",
    "                    batch_size=128,\n",
    "                    validation_split=0.2)"
   ]
  },
  {
   "cell_type": "code",
   "execution_count": 79,
   "metadata": {},
   "outputs": [
    {
     "name": "stdout",
     "output_type": "stream",
     "text": [
      "725/725 [==============================] - 0s 22us/step\n",
      "Test score: 7.916678674632105\n",
      "Test accuracy: 0.24689655005931854\n"
     ]
    }
   ],
   "source": [
    "score, acc = model.evaluate(x_test, y_test)\n",
    "print('Test score:', score)\n",
    "print('Test accuracy:', acc)"
   ]
  },
  {
   "cell_type": "code",
   "execution_count": 80,
   "metadata": {},
   "outputs": [
    {
     "data": {
      "text/html": [
       "<div>\n",
       "<style scoped>\n",
       "    .dataframe tbody tr th:only-of-type {\n",
       "        vertical-align: middle;\n",
       "    }\n",
       "\n",
       "    .dataframe tbody tr th {\n",
       "        vertical-align: top;\n",
       "    }\n",
       "\n",
       "    .dataframe thead th {\n",
       "        text-align: right;\n",
       "    }\n",
       "</style>\n",
       "<table border=\"1\" class=\"dataframe\">\n",
       "  <thead>\n",
       "    <tr style=\"text-align: right;\">\n",
       "      <th></th>\n",
       "      <th>model</th>\n",
       "      <th>test_score</th>\n",
       "      <th>test_acc</th>\n",
       "    </tr>\n",
       "  </thead>\n",
       "  <tbody>\n",
       "    <tr>\n",
       "      <td>0</td>\n",
       "      <td>dense</td>\n",
       "      <td>0.865680</td>\n",
       "      <td>0.784828</td>\n",
       "    </tr>\n",
       "    <tr>\n",
       "      <td>1</td>\n",
       "      <td>conv</td>\n",
       "      <td>7.916679</td>\n",
       "      <td>0.246897</td>\n",
       "    </tr>\n",
       "  </tbody>\n",
       "</table>\n",
       "</div>"
      ],
      "text/plain": [
       "   model  test_score  test_acc\n",
       "0  dense    0.865680  0.784828\n",
       "1   conv    7.916679  0.246897"
      ]
     },
     "execution_count": 80,
     "metadata": {},
     "output_type": "execute_result"
    }
   ],
   "source": [
    "result=result.append({'model':'conv','test_score':score,'test_acc':acc},ignore_index=True)\n",
    "result"
   ]
  },
  {
   "cell_type": "markdown",
   "metadata": {},
   "source": [
    "C. A model using an Embedding layer with one sequential layer (LSTM or GRU)"
   ]
  },
  {
   "cell_type": "code",
   "execution_count": 81,
   "metadata": {},
   "outputs": [
    {
     "name": "stderr",
     "output_type": "stream",
     "text": [
      "D:\\Anaconda3\\lib\\site-packages\\tensorflow_core\\python\\framework\\indexed_slices.py:433: UserWarning: Converting sparse IndexedSlices to a dense Tensor of unknown shape. This may consume a large amount of memory.\n",
      "  \"Converting sparse IndexedSlices to a dense Tensor of unknown shape. \"\n"
     ]
    },
    {
     "name": "stdout",
     "output_type": "stream",
     "text": [
      "Train on 1200 samples, validate on 300 samples\n",
      "Epoch 1/10\n",
      "1200/1200 [==============================] - 1s 720us/step - loss: 1.6069 - acc: 0.2342 - val_loss: 1.6038 - val_acc: 0.2133\n",
      "Epoch 2/10\n",
      "1200/1200 [==============================] - 1s 546us/step - loss: 1.6007 - acc: 0.2433 - val_loss: 1.5820 - val_acc: 0.2133\n",
      "Epoch 3/10\n",
      "1200/1200 [==============================] - 1s 556us/step - loss: 1.4618 - acc: 0.3867 - val_loss: 1.3924 - val_acc: 0.4033\n",
      "Epoch 4/10\n",
      "1200/1200 [==============================] - 1s 566us/step - loss: 1.2448 - acc: 0.4500 - val_loss: 1.2758 - val_acc: 0.4000\n",
      "Epoch 5/10\n",
      "1200/1200 [==============================] - 1s 561us/step - loss: 1.1151 - acc: 0.4525 - val_loss: 1.2052 - val_acc: 0.4133\n",
      "Epoch 6/10\n",
      "1200/1200 [==============================] - 1s 596us/step - loss: 1.0248 - acc: 0.4592 - val_loss: 1.2497 - val_acc: 0.3933\n",
      "Epoch 7/10\n",
      "1200/1200 [==============================] - 1s 557us/step - loss: 0.9942 - acc: 0.4608 - val_loss: 1.1828 - val_acc: 0.4133\n",
      "Epoch 8/10\n",
      "1200/1200 [==============================] - 1s 563us/step - loss: 0.9639 - acc: 0.4625 - val_loss: 1.2436 - val_acc: 0.4100\n",
      "Epoch 9/10\n",
      "1200/1200 [==============================] - 1s 575us/step - loss: 0.9399 - acc: 0.4600 - val_loss: 1.3289 - val_acc: 0.4100\n",
      "Epoch 10/10\n",
      "1200/1200 [==============================] - 1s 580us/step - loss: 0.9559 - acc: 0.4583 - val_loss: 1.4537 - val_acc: 0.3967\n"
     ]
    }
   ],
   "source": [
    "from keras.layers import LSTM\n",
    "model = Sequential()\n",
    "model.add(Embedding(29726, 10, input_length=100))\n",
    "model.add(LSTM(32))\n",
    "model.add(Dense(5, activation='sigmoid'))\n",
    "\n",
    "model.compile(optimizer='rmsprop', loss='categorical_crossentropy', metrics=['acc'])\n",
    "history = model.fit(x_train, y_train,\n",
    "                    epochs=10,\n",
    "                    batch_size=32,\n",
    "                    validation_split=0.2)\n"
   ]
  },
  {
   "cell_type": "code",
   "execution_count": 82,
   "metadata": {},
   "outputs": [
    {
     "name": "stdout",
     "output_type": "stream",
     "text": [
      "725/725 [==============================] - 0s 123us/step\n",
      "Test score: 1.2838923301367924\n",
      "Test accuracy: 0.4386206865310669\n"
     ]
    }
   ],
   "source": [
    "score, acc = model.evaluate(x_test, y_test)\n",
    "print('Test score:', score)\n",
    "print('Test accuracy:', acc)"
   ]
  },
  {
   "cell_type": "code",
   "execution_count": 101,
   "metadata": {},
   "outputs": [
    {
     "data": {
      "text/html": [
       "<div>\n",
       "<style scoped>\n",
       "    .dataframe tbody tr th:only-of-type {\n",
       "        vertical-align: middle;\n",
       "    }\n",
       "\n",
       "    .dataframe tbody tr th {\n",
       "        vertical-align: top;\n",
       "    }\n",
       "\n",
       "    .dataframe thead th {\n",
       "        text-align: right;\n",
       "    }\n",
       "</style>\n",
       "<table border=\"1\" class=\"dataframe\">\n",
       "  <thead>\n",
       "    <tr style=\"text-align: right;\">\n",
       "      <th></th>\n",
       "      <th>model</th>\n",
       "      <th>test_score</th>\n",
       "      <th>test_acc</th>\n",
       "    </tr>\n",
       "  </thead>\n",
       "  <tbody>\n",
       "    <tr>\n",
       "      <td>0</td>\n",
       "      <td>dense</td>\n",
       "      <td>0.865680</td>\n",
       "      <td>0.784828</td>\n",
       "    </tr>\n",
       "    <tr>\n",
       "      <td>1</td>\n",
       "      <td>conv</td>\n",
       "      <td>7.916679</td>\n",
       "      <td>0.246897</td>\n",
       "    </tr>\n",
       "    <tr>\n",
       "      <td>2</td>\n",
       "      <td>lstm_1</td>\n",
       "      <td>1.283892</td>\n",
       "      <td>0.438621</td>\n",
       "    </tr>\n",
       "  </tbody>\n",
       "</table>\n",
       "</div>"
      ],
      "text/plain": [
       "    model  test_score  test_acc\n",
       "0   dense    0.865680  0.784828\n",
       "1    conv    7.916679  0.246897\n",
       "2  lstm_1    1.283892  0.438621"
      ]
     },
     "execution_count": 101,
     "metadata": {},
     "output_type": "execute_result"
    }
   ],
   "source": [
    "result=result.append({'model':'lstm_1','test_score':score,'test_acc':acc},ignore_index=True)\n",
    "result"
   ]
  },
  {
   "cell_type": "markdown",
   "metadata": {},
   "source": [
    "D. A model using an Embedding layer with stacked sequential layers (LSTM or GRU)"
   ]
  },
  {
   "cell_type": "code",
   "execution_count": 108,
   "metadata": {},
   "outputs": [
    {
     "name": "stderr",
     "output_type": "stream",
     "text": [
      "D:\\Anaconda3\\lib\\site-packages\\tensorflow_core\\python\\framework\\indexed_slices.py:433: UserWarning: Converting sparse IndexedSlices to a dense Tensor of unknown shape. This may consume a large amount of memory.\n",
      "  \"Converting sparse IndexedSlices to a dense Tensor of unknown shape. \"\n"
     ]
    },
    {
     "name": "stdout",
     "output_type": "stream",
     "text": [
      "Train on 1200 samples, validate on 300 samples\n",
      "Epoch 1/10\n",
      "1200/1200 [==============================] - 2s 1ms/step - loss: 1.6064 - acc: 0.2308 - val_loss: 1.5999 - val_acc: 0.2133\n",
      "Epoch 2/10\n",
      "1200/1200 [==============================] - 1s 1ms/step - loss: 1.4875 - acc: 0.3158 - val_loss: 1.4553 - val_acc: 0.3433\n",
      "Epoch 3/10\n",
      "1200/1200 [==============================] - 1s 1ms/step - loss: 1.2314 - acc: 0.4025 - val_loss: 1.2211 - val_acc: 0.3567\n",
      "Epoch 4/10\n",
      "1200/1200 [==============================] - 1s 1ms/step - loss: 1.0691 - acc: 0.4117 - val_loss: 1.1804 - val_acc: 0.3467\n",
      "Epoch 5/10\n",
      "1200/1200 [==============================] - 1s 1ms/step - loss: 1.0059 - acc: 0.4175 - val_loss: 1.3478 - val_acc: 0.3167\n",
      "Epoch 6/10\n",
      "1200/1200 [==============================] - 1s 1ms/step - loss: 0.9633 - acc: 0.4367 - val_loss: 1.1577 - val_acc: 0.4533\n",
      "Epoch 7/10\n",
      "1200/1200 [==============================] - 1s 999us/step - loss: 0.9597 - acc: 0.5483 - val_loss: 1.2966 - val_acc: 0.3800\n",
      "Epoch 8/10\n",
      "1200/1200 [==============================] - 1s 1ms/step - loss: 0.9075 - acc: 0.5758 - val_loss: 1.1602 - val_acc: 0.4233\n",
      "Epoch 9/10\n",
      "1200/1200 [==============================] - 1s 1ms/step - loss: 0.8643 - acc: 0.5692 - val_loss: 1.2110 - val_acc: 0.4500\n",
      "Epoch 10/10\n",
      "1200/1200 [==============================] - 1s 986us/step - loss: 0.7882 - acc: 0.5942 - val_loss: 1.4743 - val_acc: 0.3933\n"
     ]
    }
   ],
   "source": [
    "from keras.layers import LSTM\n",
    "model = Sequential()\n",
    "model.add(Embedding(29726, 10, input_length=100))\n",
    "model.add(LSTM(32, return_sequences=True))\n",
    "model.add(LSTM(32))\n",
    "model.add(Dense(5, activation='sigmoid'))\n",
    "\n",
    "model.compile(optimizer='rmsprop', loss='categorical_crossentropy', metrics=['acc'])\n",
    "history = model.fit(x_train, y_train,\n",
    "                    epochs=10,\n",
    "                    batch_size=32,\n",
    "                    validation_split=0.2)"
   ]
  },
  {
   "cell_type": "code",
   "execution_count": 109,
   "metadata": {},
   "outputs": [
    {
     "name": "stdout",
     "output_type": "stream",
     "text": [
      "725/725 [==============================] - 0s 239us/step\n",
      "Test score: 1.5074222331211484\n",
      "Test accuracy: 0.3572413921356201\n"
     ]
    }
   ],
   "source": [
    "score, acc = model.evaluate(x_test, y_test)\n",
    "print('Test score:', score)\n",
    "print('Test accuracy:', acc)"
   ]
  },
  {
   "cell_type": "code",
   "execution_count": 113,
   "metadata": {},
   "outputs": [
    {
     "data": {
      "text/html": [
       "<div>\n",
       "<style scoped>\n",
       "    .dataframe tbody tr th:only-of-type {\n",
       "        vertical-align: middle;\n",
       "    }\n",
       "\n",
       "    .dataframe tbody tr th {\n",
       "        vertical-align: top;\n",
       "    }\n",
       "\n",
       "    .dataframe thead th {\n",
       "        text-align: right;\n",
       "    }\n",
       "</style>\n",
       "<table border=\"1\" class=\"dataframe\">\n",
       "  <thead>\n",
       "    <tr style=\"text-align: right;\">\n",
       "      <th></th>\n",
       "      <th>model</th>\n",
       "      <th>test_score</th>\n",
       "      <th>test_acc</th>\n",
       "    </tr>\n",
       "  </thead>\n",
       "  <tbody>\n",
       "    <tr>\n",
       "      <td>0</td>\n",
       "      <td>dense</td>\n",
       "      <td>0.865680</td>\n",
       "      <td>0.784828</td>\n",
       "    </tr>\n",
       "    <tr>\n",
       "      <td>1</td>\n",
       "      <td>conv</td>\n",
       "      <td>7.916679</td>\n",
       "      <td>0.246897</td>\n",
       "    </tr>\n",
       "    <tr>\n",
       "      <td>2</td>\n",
       "      <td>lstm_1</td>\n",
       "      <td>1.283892</td>\n",
       "      <td>0.438621</td>\n",
       "    </tr>\n",
       "    <tr>\n",
       "      <td>3</td>\n",
       "      <td>lstm_stack</td>\n",
       "      <td>1.507422</td>\n",
       "      <td>0.357241</td>\n",
       "    </tr>\n",
       "  </tbody>\n",
       "</table>\n",
       "</div>"
      ],
      "text/plain": [
       "        model  test_score  test_acc\n",
       "0       dense    0.865680  0.784828\n",
       "1        conv    7.916679  0.246897\n",
       "2      lstm_1    1.283892  0.438621\n",
       "3  lstm_stack    1.507422  0.357241"
      ]
     },
     "execution_count": 113,
     "metadata": {},
     "output_type": "execute_result"
    }
   ],
   "source": [
    "result=result.append({'model':'lstm_stack','test_score':score,'test_acc':acc},ignore_index=True)\n",
    "result"
   ]
  },
  {
   "cell_type": "markdown",
   "metadata": {},
   "source": [
    "E. A model using an Embedding layer with bidirectional sequential layers"
   ]
  },
  {
   "cell_type": "code",
   "execution_count": 114,
   "metadata": {},
   "outputs": [
    {
     "name": "stderr",
     "output_type": "stream",
     "text": [
      "D:\\Anaconda3\\lib\\site-packages\\tensorflow_core\\python\\framework\\indexed_slices.py:433: UserWarning: Converting sparse IndexedSlices to a dense Tensor of unknown shape. This may consume a large amount of memory.\n",
      "  \"Converting sparse IndexedSlices to a dense Tensor of unknown shape. \"\n"
     ]
    },
    {
     "name": "stdout",
     "output_type": "stream",
     "text": [
      "Train on 1200 samples, validate on 300 samples\n",
      "Epoch 1/10\n",
      "1200/1200 [==============================] - 1s 683us/step - loss: 1.6076 - acc: 0.2283 - val_loss: 1.6053 - val_acc: 0.2133\n",
      "Epoch 2/10\n",
      "1200/1200 [==============================] - 0s 334us/step - loss: 1.5998 - acc: 0.2425 - val_loss: 1.5990 - val_acc: 0.2133\n",
      "Epoch 3/10\n",
      "1200/1200 [==============================] - 0s 338us/step - loss: 1.5865 - acc: 0.2425 - val_loss: 1.5736 - val_acc: 0.2133\n",
      "Epoch 4/10\n",
      "1200/1200 [==============================] - 0s 356us/step - loss: 1.4828 - acc: 0.2517 - val_loss: 1.4483 - val_acc: 0.2633\n",
      "Epoch 5/10\n",
      "1200/1200 [==============================] - 0s 346us/step - loss: 1.2610 - acc: 0.4492 - val_loss: 1.3011 - val_acc: 0.3833\n",
      "Epoch 6/10\n",
      "1200/1200 [==============================] - 0s 339us/step - loss: 1.1757 - acc: 0.4175 - val_loss: 1.2878 - val_acc: 0.3500\n",
      "Epoch 7/10\n",
      "1200/1200 [==============================] - 0s 339us/step - loss: 1.1164 - acc: 0.4150 - val_loss: 1.2425 - val_acc: 0.3567\n",
      "Epoch 8/10\n",
      "1200/1200 [==============================] - 0s 346us/step - loss: 1.0784 - acc: 0.4058 - val_loss: 1.2358 - val_acc: 0.3333\n",
      "Epoch 9/10\n",
      "1200/1200 [==============================] - 0s 350us/step - loss: 1.0206 - acc: 0.4200 - val_loss: 1.2036 - val_acc: 0.3567\n",
      "Epoch 10/10\n",
      "1200/1200 [==============================] - 0s 355us/step - loss: 0.9870 - acc: 0.4133 - val_loss: 1.1905 - val_acc: 0.3533\n"
     ]
    }
   ],
   "source": [
    "from keras.layers import Bidirectional\n",
    "model = Sequential()\n",
    "model.add(Embedding(29726, 10, input_length=100))\n",
    "model.add(Bidirectional(LSTM(32)))\n",
    "model.add(Dense(5, activation='sigmoid'))\n",
    "\n",
    "model.compile(optimizer='rmsprop', loss='categorical_crossentropy', metrics=['acc'])\n",
    "history = model.fit(x_train, y_train, epochs=10, batch_size=128, validation_split=0.2)"
   ]
  },
  {
   "cell_type": "code",
   "execution_count": 115,
   "metadata": {},
   "outputs": [
    {
     "name": "stdout",
     "output_type": "stream",
     "text": [
      "725/725 [==============================] - 0s 139us/step\n",
      "Test score: 1.175930090608268\n",
      "Test accuracy: 0.35862070322036743\n"
     ]
    }
   ],
   "source": [
    "score, acc = model.evaluate(x_test, y_test)\n",
    "print('Test score:', score)\n",
    "print('Test accuracy:', acc)"
   ]
  },
  {
   "cell_type": "code",
   "execution_count": 116,
   "metadata": {},
   "outputs": [
    {
     "data": {
      "text/html": [
       "<div>\n",
       "<style scoped>\n",
       "    .dataframe tbody tr th:only-of-type {\n",
       "        vertical-align: middle;\n",
       "    }\n",
       "\n",
       "    .dataframe tbody tr th {\n",
       "        vertical-align: top;\n",
       "    }\n",
       "\n",
       "    .dataframe thead th {\n",
       "        text-align: right;\n",
       "    }\n",
       "</style>\n",
       "<table border=\"1\" class=\"dataframe\">\n",
       "  <thead>\n",
       "    <tr style=\"text-align: right;\">\n",
       "      <th></th>\n",
       "      <th>model</th>\n",
       "      <th>test_score</th>\n",
       "      <th>test_acc</th>\n",
       "    </tr>\n",
       "  </thead>\n",
       "  <tbody>\n",
       "    <tr>\n",
       "      <td>0</td>\n",
       "      <td>dense</td>\n",
       "      <td>0.865680</td>\n",
       "      <td>0.784828</td>\n",
       "    </tr>\n",
       "    <tr>\n",
       "      <td>1</td>\n",
       "      <td>conv</td>\n",
       "      <td>7.916679</td>\n",
       "      <td>0.246897</td>\n",
       "    </tr>\n",
       "    <tr>\n",
       "      <td>2</td>\n",
       "      <td>lstm_1</td>\n",
       "      <td>1.283892</td>\n",
       "      <td>0.438621</td>\n",
       "    </tr>\n",
       "    <tr>\n",
       "      <td>3</td>\n",
       "      <td>lstm_stack</td>\n",
       "      <td>1.507422</td>\n",
       "      <td>0.357241</td>\n",
       "    </tr>\n",
       "    <tr>\n",
       "      <td>4</td>\n",
       "      <td>lstm_bidirectional</td>\n",
       "      <td>1.175930</td>\n",
       "      <td>0.358621</td>\n",
       "    </tr>\n",
       "  </tbody>\n",
       "</table>\n",
       "</div>"
      ],
      "text/plain": [
       "                model  test_score  test_acc\n",
       "0               dense    0.865680  0.784828\n",
       "1                conv    7.916679  0.246897\n",
       "2              lstm_1    1.283892  0.438621\n",
       "3          lstm_stack    1.507422  0.357241\n",
       "4  lstm_bidirectional    1.175930  0.358621"
      ]
     },
     "execution_count": 116,
     "metadata": {},
     "output_type": "execute_result"
    }
   ],
   "source": [
    "result=result.append({'model':'lstm_bidirectional','test_score':score,'test_acc':acc},ignore_index=True)\n",
    "result"
   ]
  },
  {
   "cell_type": "markdown",
   "metadata": {},
   "source": [
    "F. Now retrain your best model from C, D, and E using dropout (you may need to increase epochs!)."
   ]
  },
  {
   "cell_type": "code",
   "execution_count": 117,
   "metadata": {},
   "outputs": [
    {
     "name": "stderr",
     "output_type": "stream",
     "text": [
      "D:\\Anaconda3\\lib\\site-packages\\tensorflow_core\\python\\framework\\indexed_slices.py:433: UserWarning: Converting sparse IndexedSlices to a dense Tensor of unknown shape. This may consume a large amount of memory.\n",
      "  \"Converting sparse IndexedSlices to a dense Tensor of unknown shape. \"\n"
     ]
    },
    {
     "name": "stdout",
     "output_type": "stream",
     "text": [
      "Train on 1200 samples, validate on 300 samples\n",
      "Epoch 1/50\n",
      "1200/1200 [==============================] - 2s 2ms/step - loss: 1.6079 - acc: 0.2383 - val_loss: 1.6014 - val_acc: 0.2133\n",
      "Epoch 2/50\n",
      "1200/1200 [==============================] - 2s 1ms/step - loss: 1.5990 - acc: 0.2600 - val_loss: 1.4804 - val_acc: 0.3733\n",
      "Epoch 3/50\n",
      "1200/1200 [==============================] - 2s 1ms/step - loss: 1.4465 - acc: 0.3650 - val_loss: 1.4215 - val_acc: 0.3500\n",
      "Epoch 4/50\n",
      "1200/1200 [==============================] - 2s 1ms/step - loss: 1.3014 - acc: 0.4217 - val_loss: 1.3525 - val_acc: 0.4033\n",
      "Epoch 5/50\n",
      "1200/1200 [==============================] - 2s 1ms/step - loss: 1.2135 - acc: 0.4392 - val_loss: 1.3460 - val_acc: 0.4000\n",
      "Epoch 6/50\n",
      "1200/1200 [==============================] - 2s 1ms/step - loss: 1.1303 - acc: 0.4467 - val_loss: 1.4187 - val_acc: 0.3933\n",
      "Epoch 7/50\n",
      "1200/1200 [==============================] - 2s 1ms/step - loss: 1.1397 - acc: 0.4417 - val_loss: 1.3433 - val_acc: 0.4033\n",
      "Epoch 8/50\n",
      "1200/1200 [==============================] - 2s 1ms/step - loss: 1.1647 - acc: 0.4325 - val_loss: 1.3536 - val_acc: 0.3900\n",
      "Epoch 9/50\n",
      "1200/1200 [==============================] - 2s 1ms/step - loss: 1.2048 - acc: 0.4267 - val_loss: 1.3406 - val_acc: 0.3967\n",
      "Epoch 10/50\n",
      "1200/1200 [==============================] - 2s 1ms/step - loss: 1.1082 - acc: 0.4567 - val_loss: 1.2607 - val_acc: 0.4067\n",
      "Epoch 11/50\n",
      "1200/1200 [==============================] - 2s 1ms/step - loss: 1.0536 - acc: 0.4533 - val_loss: 1.1872 - val_acc: 0.4267\n",
      "Epoch 12/50\n",
      "1200/1200 [==============================] - 2s 1ms/step - loss: 1.0440 - acc: 0.4542 - val_loss: 1.4300 - val_acc: 0.3833\n",
      "Epoch 13/50\n",
      "1200/1200 [==============================] - 2s 1ms/step - loss: 1.1131 - acc: 0.4467 - val_loss: 1.2654 - val_acc: 0.4000\n",
      "Epoch 14/50\n",
      "1200/1200 [==============================] - 2s 1ms/step - loss: 0.9892 - acc: 0.4650 - val_loss: 1.4840 - val_acc: 0.3900\n",
      "Epoch 15/50\n",
      "1200/1200 [==============================] - 2s 1ms/step - loss: 1.0158 - acc: 0.4758 - val_loss: 1.3248 - val_acc: 0.3367\n",
      "Epoch 16/50\n",
      "1200/1200 [==============================] - 2s 1ms/step - loss: 0.9619 - acc: 0.5192 - val_loss: 1.3229 - val_acc: 0.4767\n",
      "Epoch 17/50\n",
      "1200/1200 [==============================] - 2s 1ms/step - loss: 0.9339 - acc: 0.5583 - val_loss: 1.6013 - val_acc: 0.3833\n",
      "Epoch 18/50\n",
      "1200/1200 [==============================] - 2s 1ms/step - loss: 0.8781 - acc: 0.5817 - val_loss: 1.2551 - val_acc: 0.4400\n",
      "Epoch 19/50\n",
      "1200/1200 [==============================] - 2s 1ms/step - loss: 0.8272 - acc: 0.6375 - val_loss: 1.2963 - val_acc: 0.5233\n",
      "Epoch 20/50\n",
      "1200/1200 [==============================] - 2s 1ms/step - loss: 0.7373 - acc: 0.7142 - val_loss: 1.1453 - val_acc: 0.5767\n",
      "Epoch 21/50\n",
      "1200/1200 [==============================] - 2s 1ms/step - loss: 0.6619 - acc: 0.7625 - val_loss: 1.1815 - val_acc: 0.5067\n",
      "Epoch 22/50\n",
      "1200/1200 [==============================] - 2s 1ms/step - loss: 0.6099 - acc: 0.7758 - val_loss: 1.0912 - val_acc: 0.5767\n",
      "Epoch 23/50\n",
      "1200/1200 [==============================] - 2s 1ms/step - loss: 0.6075 - acc: 0.7825 - val_loss: 1.2854 - val_acc: 0.5167\n",
      "Epoch 24/50\n",
      "1200/1200 [==============================] - 2s 1ms/step - loss: 0.5373 - acc: 0.8250 - val_loss: 1.1893 - val_acc: 0.5533\n",
      "Epoch 25/50\n",
      "1200/1200 [==============================] - 2s 1ms/step - loss: 0.4843 - acc: 0.8417 - val_loss: 1.2123 - val_acc: 0.5567\n",
      "Epoch 26/50\n",
      "1200/1200 [==============================] - 2s 1ms/step - loss: 0.4104 - acc: 0.8692 - val_loss: 1.2677 - val_acc: 0.5667\n",
      "Epoch 27/50\n",
      "1200/1200 [==============================] - 2s 1ms/step - loss: 0.3764 - acc: 0.8750 - val_loss: 1.3303 - val_acc: 0.5500\n",
      "Epoch 28/50\n",
      "1200/1200 [==============================] - 2s 1ms/step - loss: 0.3434 - acc: 0.9017 - val_loss: 1.4147 - val_acc: 0.5700\n",
      "Epoch 29/50\n",
      "1200/1200 [==============================] - 2s 1ms/step - loss: 0.3489 - acc: 0.8892 - val_loss: 1.5330 - val_acc: 0.5133\n",
      "Epoch 30/50\n",
      "1200/1200 [==============================] - 2s 1ms/step - loss: 0.3174 - acc: 0.9050 - val_loss: 1.3363 - val_acc: 0.5600\n",
      "Epoch 31/50\n",
      "1200/1200 [==============================] - 2s 1ms/step - loss: 0.2643 - acc: 0.9200 - val_loss: 1.3194 - val_acc: 0.5900\n",
      "Epoch 32/50\n",
      "1200/1200 [==============================] - 2s 1ms/step - loss: 0.2558 - acc: 0.9250 - val_loss: 1.5199 - val_acc: 0.5733\n",
      "Epoch 33/50\n",
      "1200/1200 [==============================] - 2s 1ms/step - loss: 0.2452 - acc: 0.9342 - val_loss: 1.4842 - val_acc: 0.5667\n",
      "Epoch 34/50\n",
      "1200/1200 [==============================] - 2s 1ms/step - loss: 0.2092 - acc: 0.9367 - val_loss: 1.3118 - val_acc: 0.6200\n",
      "Epoch 35/50\n",
      "1200/1200 [==============================] - 2s 1ms/step - loss: 0.2214 - acc: 0.9283 - val_loss: 1.4183 - val_acc: 0.5833\n",
      "Epoch 36/50\n",
      "1200/1200 [==============================] - 2s 1ms/step - loss: 0.1802 - acc: 0.9475 - val_loss: 1.5583 - val_acc: 0.5700\n",
      "Epoch 37/50\n",
      "1200/1200 [==============================] - 2s 1ms/step - loss: 0.1755 - acc: 0.9575 - val_loss: 1.5590 - val_acc: 0.5633\n",
      "Epoch 38/50\n",
      "1200/1200 [==============================] - 2s 1ms/step - loss: 0.1829 - acc: 0.9458 - val_loss: 1.4767 - val_acc: 0.5633\n",
      "Epoch 39/50\n",
      "1200/1200 [==============================] - 2s 1ms/step - loss: 0.1262 - acc: 0.9683 - val_loss: 1.5970 - val_acc: 0.5633\n",
      "Epoch 40/50\n",
      "1200/1200 [==============================] - 2s 1ms/step - loss: 0.1905 - acc: 0.9458 - val_loss: 1.5321 - val_acc: 0.5800\n",
      "Epoch 41/50\n",
      "1200/1200 [==============================] - 2s 1ms/step - loss: 0.1530 - acc: 0.9533 - val_loss: 1.7290 - val_acc: 0.5533\n",
      "Epoch 42/50\n",
      "1200/1200 [==============================] - 2s 1ms/step - loss: 0.1410 - acc: 0.9542 - val_loss: 1.5023 - val_acc: 0.5667\n",
      "Epoch 43/50\n",
      "1200/1200 [==============================] - 2s 1ms/step - loss: 0.0958 - acc: 0.9742 - val_loss: 1.6471 - val_acc: 0.5767\n",
      "Epoch 44/50\n",
      "1200/1200 [==============================] - 2s 1ms/step - loss: 0.1044 - acc: 0.9675 - val_loss: 1.5303 - val_acc: 0.5833\n",
      "Epoch 45/50\n",
      "1200/1200 [==============================] - 2s 1ms/step - loss: 0.0877 - acc: 0.9767 - val_loss: 1.5807 - val_acc: 0.5833\n",
      "Epoch 46/50\n",
      "1200/1200 [==============================] - 2s 1ms/step - loss: 0.0860 - acc: 0.9783 - val_loss: 1.7299 - val_acc: 0.5833\n",
      "Epoch 47/50\n",
      "1200/1200 [==============================] - 2s 1ms/step - loss: 0.0721 - acc: 0.9800 - val_loss: 1.7602 - val_acc: 0.5900\n",
      "Epoch 48/50\n",
      "1200/1200 [==============================] - 2s 1ms/step - loss: 0.0768 - acc: 0.9775 - val_loss: 1.7325 - val_acc: 0.5700\n",
      "Epoch 49/50\n",
      "1200/1200 [==============================] - 2s 1ms/step - loss: 0.0566 - acc: 0.9783 - val_loss: 1.8778 - val_acc: 0.5600\n",
      "Epoch 50/50\n",
      "1200/1200 [==============================] - 2s 1ms/step - loss: 0.0372 - acc: 0.9875 - val_loss: 1.9426 - val_acc: 0.5533\n"
     ]
    }
   ],
   "source": [
    "#The best from C D E is the C\n",
    "model = Sequential()\n",
    "model.add(Embedding(29726, 10, input_length=100))\n",
    "model.add(LSTM(128, dropout=0.2, recurrent_dropout=0.2)) \n",
    "model.add(Dense(5, activation='sigmoid'))\n",
    "\n",
    "# try using different optimizers and different optimizer configs\n",
    "\n",
    "model.compile(optimizer='rmsprop', loss='categorical_crossentropy', metrics=['acc'])\n",
    "history = model.fit(x_train, y_train,\n",
    "                    epochs=50,\n",
    "                    batch_size=32,\n",
    "                    validation_split=0.2)"
   ]
  },
  {
   "cell_type": "code",
   "execution_count": 118,
   "metadata": {},
   "outputs": [
    {
     "name": "stdout",
     "output_type": "stream",
     "text": [
      "725/725 [==============================] - 0s 356us/step\n",
      "Test score: 2.1368868114208355\n",
      "Test accuracy: 0.5448275804519653\n"
     ]
    }
   ],
   "source": [
    "score, acc = model.evaluate(x_test, y_test)\n",
    "print('Test score:', score)\n",
    "print('Test accuracy:', acc)"
   ]
  },
  {
   "cell_type": "code",
   "execution_count": 119,
   "metadata": {},
   "outputs": [
    {
     "data": {
      "text/html": [
       "<div>\n",
       "<style scoped>\n",
       "    .dataframe tbody tr th:only-of-type {\n",
       "        vertical-align: middle;\n",
       "    }\n",
       "\n",
       "    .dataframe tbody tr th {\n",
       "        vertical-align: top;\n",
       "    }\n",
       "\n",
       "    .dataframe thead th {\n",
       "        text-align: right;\n",
       "    }\n",
       "</style>\n",
       "<table border=\"1\" class=\"dataframe\">\n",
       "  <thead>\n",
       "    <tr style=\"text-align: right;\">\n",
       "      <th></th>\n",
       "      <th>model</th>\n",
       "      <th>test_score</th>\n",
       "      <th>test_acc</th>\n",
       "    </tr>\n",
       "  </thead>\n",
       "  <tbody>\n",
       "    <tr>\n",
       "      <td>0</td>\n",
       "      <td>dense</td>\n",
       "      <td>0.865680</td>\n",
       "      <td>0.784828</td>\n",
       "    </tr>\n",
       "    <tr>\n",
       "      <td>1</td>\n",
       "      <td>conv</td>\n",
       "      <td>7.916679</td>\n",
       "      <td>0.246897</td>\n",
       "    </tr>\n",
       "    <tr>\n",
       "      <td>2</td>\n",
       "      <td>lstm_1</td>\n",
       "      <td>1.283892</td>\n",
       "      <td>0.438621</td>\n",
       "    </tr>\n",
       "    <tr>\n",
       "      <td>3</td>\n",
       "      <td>lstm_stack</td>\n",
       "      <td>1.507422</td>\n",
       "      <td>0.357241</td>\n",
       "    </tr>\n",
       "    <tr>\n",
       "      <td>4</td>\n",
       "      <td>lstm_bidirectional</td>\n",
       "      <td>1.175930</td>\n",
       "      <td>0.358621</td>\n",
       "    </tr>\n",
       "    <tr>\n",
       "      <td>5</td>\n",
       "      <td>lstm_drop</td>\n",
       "      <td>2.136887</td>\n",
       "      <td>0.544828</td>\n",
       "    </tr>\n",
       "  </tbody>\n",
       "</table>\n",
       "</div>"
      ],
      "text/plain": [
       "                model  test_score  test_acc\n",
       "0               dense    0.865680  0.784828\n",
       "1                conv    7.916679  0.246897\n",
       "2              lstm_1    1.283892  0.438621\n",
       "3          lstm_stack    1.507422  0.357241\n",
       "4  lstm_bidirectional    1.175930  0.358621\n",
       "5           lstm_drop    2.136887  0.544828"
      ]
     },
     "execution_count": 119,
     "metadata": {},
     "output_type": "execute_result"
    }
   ],
   "source": [
    "result=result.append({'model':'lstm_drop','test_score':score,'test_acc':acc},ignore_index=True)\n",
    "result"
   ]
  },
  {
   "cell_type": "code",
   "execution_count": null,
   "metadata": {},
   "outputs": [],
   "source": [
    "#After drop and more epochs, the acc increased "
   ]
  },
  {
   "cell_type": "markdown",
   "metadata": {},
   "source": [
    "4) Discuss 1) which model(s) performed best and speculate about 2) how you might try to further improve the predictive power of your model (e.g. Glove embeddings? More layers? Combining Conv1D with LSTM layers? More LSTM hidden nodes?)"
   ]
  },
  {
   "cell_type": "code",
   "execution_count": null,
   "metadata": {},
   "outputs": [],
   "source": [
    "#The model in E performed the best, I will try Glove in the next step with model in E "
   ]
  },
  {
   "cell_type": "code",
   "execution_count": 123,
   "metadata": {},
   "outputs": [],
   "source": [
    "embeddings_index = {}\n",
    "f = open('F:/Adv_ML/glove.6B/glove.6B.100d.txt',encoding=\"utf8\")\n",
    "for line in f:\n",
    "    values = line.split()\n",
    "    word = values[0]\n",
    "    coefs = np.asarray(values[1:], dtype='float32')\n",
    "    embeddings_index[word] = coefs\n",
    "f.close()"
   ]
  },
  {
   "cell_type": "code",
   "execution_count": 125,
   "metadata": {},
   "outputs": [],
   "source": [
    "embedding_matrix = np.zeros((len(word_index) + 1, 100))\n",
    "for word, i in word_index.items():\n",
    "    embedding_vector = embeddings_index.get(word)\n",
    "    if embedding_vector is not None:\n",
    "        # words not found in embedding index will be all-zeros.\n",
    "        embedding_matrix[i] = embedding_vector"
   ]
  },
  {
   "cell_type": "code",
   "execution_count": 126,
   "metadata": {},
   "outputs": [
    {
     "name": "stdout",
     "output_type": "stream",
     "text": [
      "Train on 1200 samples, validate on 300 samples\n",
      "Epoch 1/50\n",
      "1200/1200 [==============================] - 2s 2ms/step - loss: 1.3312 - acc: 0.4408 - val_loss: 1.1492 - val_acc: 0.4733\n",
      "Epoch 2/50\n",
      "1200/1200 [==============================] - 2s 1ms/step - loss: 0.9879 - acc: 0.6633 - val_loss: 0.7165 - val_acc: 0.7800\n",
      "Epoch 3/50\n",
      "1200/1200 [==============================] - 2s 2ms/step - loss: 0.8473 - acc: 0.7242 - val_loss: 0.9218 - val_acc: 0.6733\n",
      "Epoch 4/50\n",
      "1200/1200 [==============================] - 2s 1ms/step - loss: 0.7678 - acc: 0.7367 - val_loss: 0.5295 - val_acc: 0.8333\n",
      "Epoch 5/50\n",
      "1200/1200 [==============================] - 2s 2ms/step - loss: 0.6622 - acc: 0.7733 - val_loss: 0.4926 - val_acc: 0.8633\n",
      "Epoch 6/50\n",
      "1200/1200 [==============================] - 2s 1ms/step - loss: 0.6667 - acc: 0.7950 - val_loss: 0.4330 - val_acc: 0.8733\n",
      "Epoch 7/50\n",
      "1200/1200 [==============================] - 2s 2ms/step - loss: 0.5744 - acc: 0.8142 - val_loss: 0.4919 - val_acc: 0.8600\n",
      "Epoch 8/50\n",
      "1200/1200 [==============================] - 2s 2ms/step - loss: 0.5043 - acc: 0.8325 - val_loss: 0.4129 - val_acc: 0.8767\n",
      "Epoch 9/50\n",
      "1200/1200 [==============================] - 2s 2ms/step - loss: 0.4638 - acc: 0.8475 - val_loss: 0.3494 - val_acc: 0.8967\n",
      "Epoch 10/50\n",
      "1200/1200 [==============================] - 2s 2ms/step - loss: 0.4192 - acc: 0.8617 - val_loss: 0.3002 - val_acc: 0.9033\n",
      "Epoch 11/50\n",
      "1200/1200 [==============================] - 2s 2ms/step - loss: 0.3742 - acc: 0.8808 - val_loss: 0.5094 - val_acc: 0.8500\n",
      "Epoch 12/50\n",
      "1200/1200 [==============================] - 2s 1ms/step - loss: 0.3277 - acc: 0.9017 - val_loss: 0.2784 - val_acc: 0.9067\n",
      "Epoch 13/50\n",
      "1200/1200 [==============================] - 2s 1ms/step - loss: 0.3274 - acc: 0.8950 - val_loss: 0.2401 - val_acc: 0.9200\n",
      "Epoch 14/50\n",
      "1200/1200 [==============================] - 2s 2ms/step - loss: 0.3204 - acc: 0.9033 - val_loss: 0.2572 - val_acc: 0.9233\n",
      "Epoch 15/50\n",
      "1200/1200 [==============================] - 2s 2ms/step - loss: 0.3020 - acc: 0.9092 - val_loss: 0.2340 - val_acc: 0.9333\n",
      "Epoch 16/50\n",
      "1200/1200 [==============================] - 2s 1ms/step - loss: 0.2680 - acc: 0.9150 - val_loss: 0.2118 - val_acc: 0.9367\n",
      "Epoch 17/50\n",
      "1200/1200 [==============================] - 2s 1ms/step - loss: 0.2586 - acc: 0.9133 - val_loss: 0.2331 - val_acc: 0.9400\n",
      "Epoch 18/50\n",
      "1200/1200 [==============================] - 2s 2ms/step - loss: 0.2157 - acc: 0.9333 - val_loss: 0.2488 - val_acc: 0.9133\n",
      "Epoch 19/50\n",
      "1200/1200 [==============================] - 2s 2ms/step - loss: 0.2329 - acc: 0.9225 - val_loss: 0.2298 - val_acc: 0.9200\n",
      "Epoch 20/50\n",
      "1200/1200 [==============================] - 2s 2ms/step - loss: 0.2142 - acc: 0.9275 - val_loss: 0.2617 - val_acc: 0.9267\n",
      "Epoch 21/50\n",
      "1200/1200 [==============================] - 2s 1ms/step - loss: 0.2124 - acc: 0.9325 - val_loss: 0.3359 - val_acc: 0.9033\n",
      "Epoch 22/50\n",
      "1200/1200 [==============================] - 2s 1ms/step - loss: 0.1892 - acc: 0.9392 - val_loss: 0.1816 - val_acc: 0.9500\n",
      "Epoch 23/50\n",
      "1200/1200 [==============================] - 2s 2ms/step - loss: 0.1761 - acc: 0.9442 - val_loss: 0.2474 - val_acc: 0.9233\n",
      "Epoch 24/50\n",
      "1200/1200 [==============================] - 2s 2ms/step - loss: 0.1602 - acc: 0.9517 - val_loss: 0.1971 - val_acc: 0.9433\n",
      "Epoch 25/50\n",
      "1200/1200 [==============================] - 2s 2ms/step - loss: 0.1604 - acc: 0.9442 - val_loss: 0.2064 - val_acc: 0.9400\n",
      "Epoch 26/50\n",
      "1200/1200 [==============================] - 2s 2ms/step - loss: 0.1397 - acc: 0.9517 - val_loss: 0.1745 - val_acc: 0.9433\n",
      "Epoch 27/50\n",
      "1200/1200 [==============================] - 2s 2ms/step - loss: 0.1306 - acc: 0.9625 - val_loss: 0.1755 - val_acc: 0.9433\n",
      "Epoch 28/50\n",
      "1200/1200 [==============================] - 2s 2ms/step - loss: 0.1215 - acc: 0.9592 - val_loss: 0.1639 - val_acc: 0.9533\n",
      "Epoch 29/50\n",
      "1200/1200 [==============================] - 2s 2ms/step - loss: 0.1214 - acc: 0.9625 - val_loss: 0.1543 - val_acc: 0.9533\n",
      "Epoch 30/50\n",
      "1200/1200 [==============================] - 2s 2ms/step - loss: 0.1169 - acc: 0.9608 - val_loss: 0.1705 - val_acc: 0.9600\n",
      "Epoch 31/50\n",
      "1200/1200 [==============================] - 2s 2ms/step - loss: 0.0928 - acc: 0.9708 - val_loss: 0.1414 - val_acc: 0.9567\n",
      "Epoch 32/50\n",
      "1200/1200 [==============================] - 2s 2ms/step - loss: 0.1018 - acc: 0.9633 - val_loss: 0.1728 - val_acc: 0.9533\n",
      "Epoch 33/50\n",
      "1200/1200 [==============================] - 2s 2ms/step - loss: 0.0939 - acc: 0.9675 - val_loss: 0.1385 - val_acc: 0.9633\n",
      "Epoch 34/50\n",
      "1200/1200 [==============================] - 2s 2ms/step - loss: 0.0927 - acc: 0.9717 - val_loss: 0.1733 - val_acc: 0.9533\n",
      "Epoch 35/50\n",
      "1200/1200 [==============================] - 2s 2ms/step - loss: 0.0647 - acc: 0.9808 - val_loss: 0.1766 - val_acc: 0.9500\n",
      "Epoch 36/50\n",
      "1200/1200 [==============================] - 2s 2ms/step - loss: 0.0729 - acc: 0.9800 - val_loss: 0.1507 - val_acc: 0.9533\n",
      "Epoch 37/50\n",
      "1200/1200 [==============================] - 2s 2ms/step - loss: 0.0863 - acc: 0.9742 - val_loss: 0.1454 - val_acc: 0.9600\n",
      "Epoch 38/50\n",
      "1200/1200 [==============================] - 2s 2ms/step - loss: 0.0836 - acc: 0.9708 - val_loss: 0.1544 - val_acc: 0.9533\n",
      "Epoch 39/50\n",
      "1200/1200 [==============================] - 2s 2ms/step - loss: 0.0648 - acc: 0.9800 - val_loss: 0.1803 - val_acc: 0.9600\n",
      "Epoch 40/50\n",
      "1200/1200 [==============================] - 2s 2ms/step - loss: 0.0519 - acc: 0.9825 - val_loss: 0.1318 - val_acc: 0.9700\n",
      "Epoch 41/50\n",
      "1200/1200 [==============================] - 2s 2ms/step - loss: 0.0730 - acc: 0.9717 - val_loss: 0.1806 - val_acc: 0.9533\n",
      "Epoch 42/50\n",
      "1200/1200 [==============================] - 2s 1ms/step - loss: 0.0429 - acc: 0.9850 - val_loss: 0.1671 - val_acc: 0.9567\n",
      "Epoch 43/50\n",
      "1200/1200 [==============================] - 2s 2ms/step - loss: 0.0625 - acc: 0.9792 - val_loss: 0.1890 - val_acc: 0.9500\n",
      "Epoch 44/50\n",
      "1200/1200 [==============================] - 2s 2ms/step - loss: 0.0525 - acc: 0.9817 - val_loss: 0.1633 - val_acc: 0.9533\n",
      "Epoch 45/50\n",
      "1200/1200 [==============================] - 2s 1ms/step - loss: 0.0295 - acc: 0.9908 - val_loss: 0.2016 - val_acc: 0.9400\n",
      "Epoch 46/50\n",
      "1200/1200 [==============================] - 2s 2ms/step - loss: 0.0452 - acc: 0.9867 - val_loss: 0.1786 - val_acc: 0.9600\n",
      "Epoch 47/50\n",
      "1200/1200 [==============================] - 2s 2ms/step - loss: 0.0401 - acc: 0.9883 - val_loss: 0.2008 - val_acc: 0.9467\n",
      "Epoch 48/50\n",
      "1200/1200 [==============================] - 2s 2ms/step - loss: 0.0277 - acc: 0.9892 - val_loss: 0.2576 - val_acc: 0.9333\n",
      "Epoch 49/50\n",
      "1200/1200 [==============================] - 2s 2ms/step - loss: 0.0396 - acc: 0.9858 - val_loss: 0.1994 - val_acc: 0.9533\n",
      "Epoch 50/50\n",
      "1200/1200 [==============================] - 2s 2ms/step - loss: 0.0286 - acc: 0.9925 - val_loss: 0.1562 - val_acc: 0.9600\n"
     ]
    }
   ],
   "source": [
    "model = Sequential()\n",
    "model.add(Embedding(len(word_index) + 1, 100, weights=[embedding_matrix], input_length=100,trainable=False))\n",
    "model.add(LSTM(128, dropout=0.2, recurrent_dropout=0.2)) \n",
    "model.add(Dense(5, activation='sigmoid'))\n",
    "\n",
    "# try using different optimizers and different optimizer configs\n",
    "\n",
    "model.compile(optimizer='rmsprop', loss='categorical_crossentropy', metrics=['acc'])\n",
    "history = model.fit(x_train, y_train,\n",
    "                    epochs=50,\n",
    "                    batch_size=32,\n",
    "                    validation_split=0.2)"
   ]
  },
  {
   "cell_type": "code",
   "execution_count": 127,
   "metadata": {},
   "outputs": [
    {
     "name": "stdout",
     "output_type": "stream",
     "text": [
      "725/725 [==============================] - 0s 436us/step\n",
      "Test score: 0.34005130554067675\n",
      "Test accuracy: 0.931034505367279\n"
     ]
    }
   ],
   "source": [
    "score, acc = model.evaluate(x_test, y_test)\n",
    "print('Test score:', score)\n",
    "print('Test accuracy:', acc)"
   ]
  },
  {
   "cell_type": "code",
   "execution_count": 128,
   "metadata": {},
   "outputs": [
    {
     "data": {
      "text/html": [
       "<div>\n",
       "<style scoped>\n",
       "    .dataframe tbody tr th:only-of-type {\n",
       "        vertical-align: middle;\n",
       "    }\n",
       "\n",
       "    .dataframe tbody tr th {\n",
       "        vertical-align: top;\n",
       "    }\n",
       "\n",
       "    .dataframe thead th {\n",
       "        text-align: right;\n",
       "    }\n",
       "</style>\n",
       "<table border=\"1\" class=\"dataframe\">\n",
       "  <thead>\n",
       "    <tr style=\"text-align: right;\">\n",
       "      <th></th>\n",
       "      <th>model</th>\n",
       "      <th>test_score</th>\n",
       "      <th>test_acc</th>\n",
       "    </tr>\n",
       "  </thead>\n",
       "  <tbody>\n",
       "    <tr>\n",
       "      <td>0</td>\n",
       "      <td>dense</td>\n",
       "      <td>0.865680</td>\n",
       "      <td>0.784828</td>\n",
       "    </tr>\n",
       "    <tr>\n",
       "      <td>1</td>\n",
       "      <td>conv</td>\n",
       "      <td>7.916679</td>\n",
       "      <td>0.246897</td>\n",
       "    </tr>\n",
       "    <tr>\n",
       "      <td>2</td>\n",
       "      <td>lstm_1</td>\n",
       "      <td>1.283892</td>\n",
       "      <td>0.438621</td>\n",
       "    </tr>\n",
       "    <tr>\n",
       "      <td>3</td>\n",
       "      <td>lstm_stack</td>\n",
       "      <td>1.507422</td>\n",
       "      <td>0.357241</td>\n",
       "    </tr>\n",
       "    <tr>\n",
       "      <td>4</td>\n",
       "      <td>lstm_bidirectional</td>\n",
       "      <td>1.175930</td>\n",
       "      <td>0.358621</td>\n",
       "    </tr>\n",
       "    <tr>\n",
       "      <td>5</td>\n",
       "      <td>lstm_drop</td>\n",
       "      <td>2.136887</td>\n",
       "      <td>0.544828</td>\n",
       "    </tr>\n",
       "    <tr>\n",
       "      <td>6</td>\n",
       "      <td>lstm_Glove</td>\n",
       "      <td>0.340051</td>\n",
       "      <td>0.931035</td>\n",
       "    </tr>\n",
       "  </tbody>\n",
       "</table>\n",
       "</div>"
      ],
      "text/plain": [
       "                model  test_score  test_acc\n",
       "0               dense    0.865680  0.784828\n",
       "1                conv    7.916679  0.246897\n",
       "2              lstm_1    1.283892  0.438621\n",
       "3          lstm_stack    1.507422  0.357241\n",
       "4  lstm_bidirectional    1.175930  0.358621\n",
       "5           lstm_drop    2.136887  0.544828\n",
       "6          lstm_Glove    0.340051  0.931035"
      ]
     },
     "execution_count": 128,
     "metadata": {},
     "output_type": "execute_result"
    }
   ],
   "source": [
    "result=result.append({'model':'lstm_Glove','test_score':score,'test_acc':acc},ignore_index=True)\n",
    "result"
   ]
  },
  {
   "cell_type": "code",
   "execution_count": 129,
   "metadata": {},
   "outputs": [],
   "source": [
    "#After using Glove, the accuracy dramatically increased to 0.93"
   ]
  },
  {
   "cell_type": "code",
   "execution_count": null,
   "metadata": {},
   "outputs": [],
   "source": []
  }
 ],
 "metadata": {
  "colab": {
   "authorship_tag": "ABX9TyPt/UwRdMuRlA1Q6rqKri/Y",
   "name": "BBC News Category Classification Mini-Hackathon.ipynb",
   "provenance": []
  },
  "kernelspec": {
   "display_name": "Python 3",
   "language": "python",
   "name": "python3"
  },
  "language_info": {
   "codemirror_mode": {
    "name": "ipython",
    "version": 3
   },
   "file_extension": ".py",
   "mimetype": "text/x-python",
   "name": "python",
   "nbconvert_exporter": "python",
   "pygments_lexer": "ipython3",
   "version": "3.7.4"
  }
 },
 "nbformat": 4,
 "nbformat_minor": 1
}
