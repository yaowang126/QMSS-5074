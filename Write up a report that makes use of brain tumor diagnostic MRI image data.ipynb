{
  "nbformat": 4,
  "nbformat_minor": 0,
  "metadata": {
    "colab": {
      "name": "欢迎使用 Colaboratory",
      "provenance": [],
      "collapsed_sections": []
    },
    "kernelspec": {
      "display_name": "Python 3",
      "name": "python3"
    }
  },
  "cells": [
    {
      "cell_type": "markdown",
      "metadata": {
        "colab_type": "text",
        "id": "5fCEDCU_qrC0"
      },
      "source": [
        "<p><img alt=\"Colaboratory logo\" height=\"45px\" src=\"/img/colab_favicon.ico\" align=\"left\" hspace=\"10px\" vspace=\"0px\"></p>\n",
        "\n",
        "<h1>什么是 Colaboratory？</h1>\n",
        "\n",
        "借助 Colaboratory（简称 Colab），您可在浏览器中编写和执行 Python 代码，并且： \n",
        "- 无需任何配置\n",
        "- 免费使用 GPU\n",
        "- 轻松共享\n",
        "\n",
        "无论您是一名<strong>学生</strong>、<strong>数据科学家</strong>还是 <strong>AI 研究员</strong>，Colab 都能够帮助您更轻松地完成工作。您可以观看 <a href=\"https://www.youtube.com/watch?v=inN8seMm7UI\">Colab 简介</a>了解详情，或查看下面的入门指南！"
      ]
    },
    {
      "cell_type": "markdown",
      "metadata": {
        "colab_type": "text",
        "id": "GJBs_flRovLc"
      },
      "source": [
        "## <strong>使用入门</strong>\n",
        "\n",
        "您正在阅读的文档并非静态网页，而是一个允许您编写和执行代码的交互式环境，称为 <strong>Colab 笔记本</strong>。\n",
        "\n",
        "例如，以下<strong>代码单元格</strong>包含一个简短的 Python 脚本，该脚本会计算值、将其存储在变量中并输出结果："
      ]
    },
    {
      "cell_type": "code",
      "metadata": {
        "colab_type": "code",
        "id": "gJr_9dXGpJ05",
        "outputId": "9f556d03-ec67-4950-a485-cfdba9ddd14d",
        "colab": {
          "base_uri": "https://localhost:8080/",
          "height": 34
        }
      },
      "source": [
        "seconds_in_a_day = 24 * 60 * 60\n",
        "seconds_in_a_day"
      ],
      "execution_count": 0,
      "outputs": [
        {
          "output_type": "execute_result",
          "data": {
            "text/plain": [
              "86400"
            ]
          },
          "metadata": {
            "tags": []
          },
          "execution_count": 0
        }
      ]
    },
    {
      "cell_type": "markdown",
      "metadata": {
        "colab_type": "text",
        "id": "2fhs6GZ4qFMx"
      },
      "source": [
        "要执行上述单元格中的代码，请点击选择它，然后按代码左侧的“播放”按钮，或使用键盘快捷键“Command/Ctrl+Enter”。要修改代码，只需点击单元格，然后开始修改。\n",
        "\n",
        "您在某个单元格中定义的变量之后可用在其他单元格中："
      ]
    },
    {
      "cell_type": "code",
      "metadata": {
        "colab_type": "code",
        "id": "-gE-Ez1qtyIA",
        "outputId": "94cb2224-0edf-457b-90b5-0ac3488d8a97",
        "colab": {
          "base_uri": "https://localhost:8080/",
          "height": 34
        }
      },
      "source": [
        "seconds_in_a_week = 7 * seconds_in_a_day\n",
        "seconds_in_a_week"
      ],
      "execution_count": 0,
      "outputs": [
        {
          "output_type": "execute_result",
          "data": {
            "text/plain": [
              "604800"
            ]
          },
          "metadata": {
            "tags": []
          },
          "execution_count": 0
        }
      ]
    },
    {
      "cell_type": "markdown",
      "metadata": {
        "colab_type": "text",
        "id": "lSrWNr3MuFUS"
      },
      "source": [
        "对于 Colab 笔记本，您可以将<strong>可执行代码</strong>、<strong>富文本</strong>以及<strong>图像</strong>、<strong>HTML</strong>、<strong>LaTeX</strong> 等内容合入 1 个文档中。当您创建自己的 Colab 笔记本时，系统会将这些笔记本存储在您的 Google 云端硬盘帐号名下。您可以轻松地将 Colab 笔记本共享给同事或好友，允许他们评论甚至修改笔记本。要了解详情，请参阅 <a href=\"/notebooks/basic_features_overview.ipynb\">Colab 概览</a>。要创建新的 Colab 笔记本，您可以使用上方的“文件”菜单，也可以使用以下链接：<a href=\"http://colab.research.google.com#create=true\">创建新的 Colab 笔记本</a>。\n",
        "\n",
        "Colab 笔记本是由 Colab 托管的 Jupyter 笔记本。如需详细了解 Jupyter 项目，请访问 <a href=\"https://www.jupyter.org\">jupyter.org</a>。"
      ]
    },
    {
      "cell_type": "markdown",
      "metadata": {
        "colab_type": "text",
        "id": "UdRyKR44dcNI"
      },
      "source": [
        "## 数据科学\n",
        "\n",
        "借助 Colab，您可以充分利用常用 Python 库的强大功能来分析和可视化数据。下方的代码单元格使用 <strong>NumPy</strong> 生成一些随机数据，并使用 <strong>Matplotlib</strong> 可视化这些数据。要修改代码，只需点击单元格，然后开始修改。"
      ]
    },
    {
      "cell_type": "code",
      "metadata": {
        "colab_type": "code",
        "id": "C4HZx7Gndbrh",
        "outputId": "46abc637-6abd-41b2-9bba-80a7ae992e06",
        "colab": {
          "base_uri": "https://localhost:8080/",
          "height": 281
        }
      },
      "source": [
        "import numpy as np\n",
        "from matplotlib import pyplot as plt\n",
        "\n",
        "ys = 200 + np.random.randn(100)\n",
        "x = [x for x in range(len(ys))]\n",
        "\n",
        "plt.plot(x, ys, '-')\n",
        "plt.fill_between(x, ys, 195, where=(ys > 195), facecolor='g', alpha=0.6)\n",
        "\n",
        "plt.title(\"Sample Visualization\")\n",
        "plt.show()"
      ],
      "execution_count": 0,
      "outputs": [
        {
          "output_type": "display_data",
          "data": {
            "image/png": "[encoded data removed]",
            "text/plain": [
              "<Figure size 432x288 with 1 Axes>"
            ]
          },
          "metadata": {
            "tags": []
          }
        }
      ]
    },
    {
      "cell_type": "markdown",
      "metadata": {
        "colab_type": "text",
        "id": "4_kCnsPUqS6o"
      },
      "source": [
        "您可将自己的数据导入 Colab 笔记本中，支持的数据来源有：Google 云端硬盘帐号（包括电子表格）、GitHub 以及其他很多来源。要详细了解如何导入数据及将 Colab 用于数据科学领域，请访问下方<a href=\"#working-with-data\">处理数据</a>下的链接。"
      ]
    },
    {
      "cell_type": "markdown",
      "metadata": {
        "colab_type": "text",
        "id": "OwuxHmxllTwN"
      },
      "source": [
        "## 机器学习\n",
        "\n",
        "借助 Colab，您只需使用<a href=\"https://colab.research.google.com/github/tensorflow/docs/blob/master/site/en/tutorials/quickstart/beginner.ipynb\">几行代码</a>，即可导入图像数据集、用图像数据集训练图像分类器，以及评估模型。Colab 笔记本会在 Google 的云服务器中执行代码，也就是说，无论您所用机器的功能如何，您都可以利用 Google 硬件（包括 <a href=\"#using-accelerated-hardware\">GPU 和 TPU</a>）的强大性能。只需一个浏览器即可。"
      ]
    },
    {
      "cell_type": "markdown",
      "metadata": {
        "colab_type": "text",
        "id": "ufxBm1yRnruN"
      },
      "source": [
        "Colab 在机器学习社区内得到了广泛应用，应用示例包括：\n",
        "- TensorFlow 使用入门\n",
        "- 开发和训练神经网络\n",
        "- 使用 TPU 进行实验\n",
        "- 推广 AI 研究\n",
        "- 创建教程\n",
        "\n",
        "要查看演示机器学习应用的示例 Colab 笔记本，请查看下方的<a href=\"#machine-learning-examples\">机器学习示例</a>。"
      ]
    },
    {
      "cell_type": "markdown",
      "metadata": {
        "colab_type": "text",
        "id": "-Rh3-Vt9Nev9"
      },
      "source": [
        "## 更多资源\n",
        "\n",
        "### 在 Colab 中使用笔记本\n",
        "- [Colaboratory 概览](/notebooks/basic_features_overview.ipynb)\n",
        "- [Markdown 指南](/notebooks/markdown_guide.ipynb)\n",
        "- [导入库和安装依赖项](/notebooks/snippets/importing_libraries.ipynb)\n",
        "- [在 GitHub 中保存和加载笔记本](https://colab.research.google.com/github/googlecolab/colabtools/blob/master/notebooks/colab-github-demo.ipynb)\n",
        "- [互动表单](/notebooks/forms.ipynb)\n",
        "- [互动微件](/notebooks/widgets.ipynb)\n",
        "- <img src=\"/img/new.png\" height=\"20px\" align=\"left\" hspace=\"4px\" alt=\"New\"></img>\n",
        " [在 Colab 中使用 TensorFlow 2](/notebooks/tensorflow_version.ipynb)\n",
        "\n",
        "<a name=\"working-with-data\"></a>\n",
        "### 处理数据\n",
        "- [加载数据：云端硬盘、表格和 Google Cloud Storage](/notebooks/io.ipynb) \n",
        "- [图表：可视化数据](/notebooks/charts.ipynb)\n",
        "- [BigQuery 使用入门](/notebooks/bigquery.ipynb)\n",
        "\n",
        "### 机器学习速成课程\n",
        "以下是可以在 Google 的在线机器学习课程中找到的部分笔记本。请查看<a href=\"https://developers.google.com/machine-learning/crash-course/\">完整课程网站</a>了解详情。\n",
        "- [Pandas 简介](/notebooks/mlcc/intro_to_pandas.ipynb)\n",
        "- [Tensorflow 概念](/notebooks/mlcc/tensorflow_programming_concepts.ipynb)\n",
        "- [使用 TensorFlow 的起始步骤](/notebooks/mlcc/first_steps_with_tensor_flow.ipynb)\n",
        "- [神经网络简介](/notebooks/mlcc/intro_to_neural_nets.ipynb)\n",
        "- [稀疏数据和嵌入简介](/notebooks/mlcc/intro_to_sparse_data_and_embeddings.ipynb)\n",
        "\n",
        "<a name=\"using-accelerated-hardware\"></a>\n",
        "### 使用加速硬件\n",
        "- [将 TensorFlow 与 GPU 配合使用](/notebooks/gpu.ipynb)\n",
        "- [将 TensorFlow 与 TPU 配合使用](/notebooks/tpu.ipynb)"
      ]
    },
    {
      "cell_type": "markdown",
      "metadata": {
        "colab_type": "text",
        "id": "P-H6Lw1vyNNd"
      },
      "source": [
        "<a name=\"machine-learning-examples\"></a>\n",
        "\n",
        "## 机器学习示例\n",
        "\n",
        "要查看 Colaboratory 实现的互动机器学习分析的端到端示例，请查看 <a href=\"https://research.google.com/seedbank/\">Seedbank</a> 项目。\n",
        "\n",
        "一些精选示例：\n",
        "\n",
        "- <a href=\"https://research.google.com/seedbank/seed/neural_style_transfer_with_tfkeras\">神经风格迁移</a>：使用深度学习在图像之间迁移风格。\n",
        "- <a href=\"https://research.google.com/seedbank/seed/ez_nsynth\">EZ NSynth</a>：使用 WaveNet 自动编码器合成音频。\n",
        "- <a href=\"https://research.google.com/seedbank/seed/fashion_mnist_with_keras_and_tpus\">Fashion MNIST 与 Keras 和 TPU</a>：使用深度学习对时装图像进行分类。\n",
        "- <a href=\"https://research.google.com/seedbank/seed/deepdream\">DeepDream</a>：根据您自己的照片生成 DeepDream 图像。\n",
        "- <a href=\"https://research.google.com/seedbank/seed/convolutional_vae\">卷积 VAE</a>：创建手写数字生成模型。"
      ]
    },
    {
      "cell_type": "code",
      "metadata": {
        "id": "vDrJ0nND6OJS",
        "colab_type": "code",
        "colab": {}
      },
      "source": [
        ""
      ],
      "execution_count": 0,
      "outputs": []
    },
    {
      "cell_type": "code",
      "metadata": {
        "id": "tXO0sbiV6RFJ",
        "colab_type": "code",
        "colab": {}
      },
      "source": [
        "import sys\n",
        "import time\n",
        "import cv2\n",
        "import numpy as np\n",
        "from matplotlib import pyplot as plt\n",
        "import tensorflow as tf\n",
        "import os\n",
        "import zipfile\n",
        "\n",
        "from skimage.transform import resize\n",
        "from sklearn.model_selection import train_test_split\n",
        "\n",
        "from tensorflow.python.keras.utils import np_utils\n",
        "from tensorflow.python.keras.models import Sequential, Model\n",
        "from tensorflow.python.keras.layers import Dense, Dropout, Flatten, Activation, BatchNormalization\n",
        "from tensorflow.python.keras.layers.convolutional import Conv2D, MaxPooling2D \n",
        "from tensorflow.python.keras.preprocessing.image import ImageDataGenerator\n",
        "from tensorflow.python.keras.optimizers import Adam,SGD,Adagrad,Adadelta,RMSprop\n",
        "from tensorflow.keras.applications  import VGG19, ResNet50, InceptionV3"
      ],
      "execution_count": 0,
      "outputs": []
    },
    {
      "cell_type": "code",
      "metadata": {
        "id": "JqNnkp6e6mwj",
        "colab_type": "code",
        "colab": {
          "base_uri": "https://localhost:8080/",
          "height": 52
        },
        "outputId": "9bd8c004-bed8-401c-d714-adc4f7255dfb"
      },
      "source": [
        "!unzip brain_tumor_dataset.zip "
      ],
      "execution_count": 4,
      "outputs": [
        {
          "output_type": "stream",
          "text": [
            "Archive:  brain_tumor_dataset.zip\n",
            "replace brain_tumor_dataset/no/1 no.jpeg? [y]es, [n]o, [A]ll, [N]one, [r]ename: "
          ],
          "name": "stdout"
        }
      ]
    },
    {
      "cell_type": "code",
      "metadata": {
        "id": "FQua1fse6vDb",
        "colab_type": "code",
        "colab": {}
      },
      "source": [
        "base_path = 'brain_tumor_dataset'\n",
        "categories = ['yes', 'no']\n",
        "fnames = []\n",
        "for category in categories:\n",
        "    image_folder = os.path.join(base_path, category)\n",
        "    file_names = os.listdir(image_folder)\n",
        "    full_path = [os.path.join(image_folder, file_name) for file_name in file_names]\n",
        "    fnames.append(full_path)\n"
      ],
      "execution_count": 0,
      "outputs": []
    },
    {
      "cell_type": "code",
      "metadata": {
        "id": "ZL9SlHQl7WnB",
        "colab_type": "code",
        "colab": {
          "base_uri": "https://localhost:8080/",
          "height": 35
        },
        "outputId": "d25cc36b-2b9e-4843-d557-5b9fc35f566a"
      },
      "source": [
        "from keras.preprocessing import image\n",
        "from keras.preprocessing.image import load_img\n",
        "import numpy as np\n",
        "from PIL import Image\n",
        "def load_image(img_path):\n",
        "        img = Image.open(img_path).convert(\"RGB\").resize((224,224)) # import image, make sure it's RGB and resize to height and width you want.\n",
        "        img = (np.float32(img)-np.float32(img).min())/(np.float32(img).max()-np.float32(img).min()) # min max transformation\n",
        "        img=img.reshape((224,224,3)) # Create final shape as array with correct dimensions for Keras\n",
        "        return img\n",
        "preprocessed_image_data=list(map(load_image, fnames[0]+fnames[1])) \n",
        "X= np.array(preprocessed_image_data)"
      ],
      "execution_count": 9,
      "outputs": [
        {
          "output_type": "stream",
          "text": [
            "Using TensorFlow backend.\n"
          ],
          "name": "stderr"
        }
      ]
    },
    {
      "cell_type": "code",
      "metadata": {
        "id": "losJm-pl84RT",
        "colab_type": "code",
        "colab": {}
      },
      "source": [
        "# Create y\n",
        "from itertools import repeat\n",
        "\n",
        "yes=list(repeat(\"yes\", 155))\n",
        "no=list(repeat(\"no\", 98))\n",
        "y_labels = yes+no\n",
        "\n",
        "import pandas as pd\n",
        "y=pd.get_dummies(y_labels)"
      ],
      "execution_count": 0,
      "outputs": []
    },
    {
      "cell_type": "markdown",
      "metadata": {
        "id": "2CRUxTOnD3Bq",
        "colab_type": "text"
      },
      "source": [
        "Visualize brain tumor images that demonstrate when images have tumors and when they do not have tumors."
      ]
    },
    {
      "cell_type": "code",
      "metadata": {
        "id": "pCuDlJen9TR6",
        "colab_type": "code",
        "colab": {
          "base_uri": "https://localhost:8080/",
          "height": 987
        },
        "outputId": "18317dea-9535-4966-e2f6-d8ffef916f6c"
      },
      "source": [
        "fig,ax=plt.subplots(5,4)\n",
        "fig.set_size_inches(7,15)\n",
        "for i in range(5):\n",
        "    for j in range (4):\n",
        "        l= np.random.randint(0,len(y_labels))\n",
        "        ax[i,j].imshow(X[l])\n",
        "        ax[i,j].set_title('Tumor: '+y_labels[l])\n",
        "        \n",
        "plt.tight_layout()"
      ],
      "execution_count": 19,
      "outputs": [
        {
          "output_type": "display_data",
          "data": {
            "image/png": "[encoded data removed]",
            "text/plain": [
              "<Figure size 504x1080 with 20 Axes>"
            ]
          },
          "metadata": {
            "tags": []
          }
        }
      ]
    },
    {
      "cell_type": "markdown",
      "metadata": {
        "id": "0wZWZ8hpD4PK",
        "colab_type": "text"
      },
      "source": [
        "Discuss why building a predictive model using this data might be practically useful.  Who could benefit from a model like this? Explain.\n"
      ]
    },
    {
      "cell_type": "markdown",
      "metadata": {
        "id": "4_IJqbZlD7hI",
        "colab_type": "text"
      },
      "source": [
        "This kind of model can be used for cancer diagnose, doctors could benefit from it because they provide some experiential information that can help doctors give medications to a potential cancer patient."
      ]
    },
    {
      "cell_type": "markdown",
      "metadata": {
        "id": "mf_ralJ8FB_R",
        "colab_type": "text"
      },
      "source": [
        "Run at least three prediction models to try to predict brain tumor MRI images well.\n",
        "Use transfer learning for at least one of these models\n",
        "Discuss which models performed better and point out relevant hyper-parameter values for successful models."
      ]
    },
    {
      "cell_type": "code",
      "metadata": {
        "id": "DDRy1ehdHCe6",
        "colab_type": "code",
        "colab": {}
      },
      "source": [
        "# Train test split \n",
        "from sklearn.model_selection import train_test_split\n",
        "X_train,X_test,y_train,y_test=train_test_split(X,y,test_size=0.20,random_state=42)"
      ],
      "execution_count": 0,
      "outputs": []
    },
    {
      "cell_type": "code",
      "metadata": {
        "id": "jVkbD3N1ba4r",
        "colab_type": "code",
        "colab": {
          "base_uri": "https://localhost:8080/",
          "height": 35
        },
        "outputId": "c3c5377f-784d-45c1-cac4-67cc01a026af"
      },
      "source": [
        "print(X_train.shape)"
      ],
      "execution_count": 29,
      "outputs": [
        {
          "output_type": "stream",
          "text": [
            "(202, 224, 224, 3)\n"
          ],
          "name": "stdout"
        }
      ]
    },
    {
      "cell_type": "code",
      "metadata": {
        "id": "uUTe1TsuFBPZ",
        "colab_type": "code",
        "colab": {
          "base_uri": "https://localhost:8080/",
          "height": 399
        },
        "outputId": "378f5143-ae3a-4e0d-ed09-161cd6b344ce"
      },
      "source": [
        "#Use NN model\n",
        "from tensorflow.keras.models import Sequential\n",
        "from tensorflow.keras.layers import Dense, Activation, Dropout,BatchNormalization,Flatten\n",
        "from tensorflow.keras.optimizers import SGD\n",
        "from tensorflow.python.keras.callbacks import ReduceLROnPlateau\n",
        "from tensorflow.python.keras.callbacks import ModelCheckpoint\n",
        "\n",
        "\n",
        "with tf.device('/device:GPU:0'): #\"/GPU:0\": Short-hand notation for the first GPU of your machine that is visible to TensorFlow.\n",
        "      opt=SGD(lr=.001)\n",
        "\n",
        "      model = Sequential()\n",
        "      model.add(Dense(64,  input_shape=(224, 224, 3), activation='relu'))\n",
        "      model.add(Dense(64, activation='relu'))\n",
        "      model.add(Dense(64, activation='relu'))\n",
        "      model.add(Flatten())\n",
        "      model.add(Dense(2, activation='softmax')) \n",
        "\n",
        "  \n",
        "      mc = ModelCheckpoint('best_model_nn.h5', monitor='val_accuracy',mode='max', verbose=1, save_best_only=True) # evaluating val_acc maximization\n",
        "      red_lr= ReduceLROnPlateau(monitor='val_accuracy',patience=2,verbose=1,factor=0.5, min_lr=0.001) # dividing lr by 10 when val_accuracy fails to improve after 3 epochs                                                \n",
        "      # Compile model\n",
        "      model.compile(loss='categorical_crossentropy', optimizer=opt, metrics=['accuracy'])\n",
        "\n",
        "      # Fitting the NN to the Training set\n",
        "      model.fit(X_train, y_train, \n",
        "                    epochs = 5, verbose=1,validation_data=(X_test,y_test),callbacks=[mc,red_lr])"
      ],
      "execution_count": 112,
      "outputs": [
        {
          "output_type": "stream",
          "text": [
            "Epoch 1/5\n",
            "7/7 [==============================] - ETA: 0s - loss: 0.6198 - accuracy: 0.6238\n",
            "Epoch 00001: val_accuracy improved from -inf to 0.52941, saving model to best_model_nn.h5\n",
            "7/7 [==============================] - 21s 3s/step - loss: 0.6198 - accuracy: 0.6238 - val_loss: 0.8381 - val_accuracy: 0.5294 - lr: 0.0010\n",
            "Epoch 2/5\n",
            "7/7 [==============================] - ETA: 0s - loss: 0.5666 - accuracy: 0.6782\n",
            "Epoch 00002: val_accuracy did not improve from 0.52941\n",
            "7/7 [==============================] - 20s 3s/step - loss: 0.5666 - accuracy: 0.6782 - val_loss: 0.7859 - val_accuracy: 0.5294 - lr: 0.0010\n",
            "Epoch 3/5\n",
            "7/7 [==============================] - ETA: 0s - loss: 0.5702 - accuracy: 0.7525\n",
            "Epoch 00003: val_accuracy did not improve from 0.52941\n",
            "\n",
            "Epoch 00003: ReduceLROnPlateau reducing learning rate to 0.001.\n",
            "7/7 [==============================] - 20s 3s/step - loss: 0.5702 - accuracy: 0.7525 - val_loss: 0.7103 - val_accuracy: 0.5098 - lr: 0.0010\n",
            "Epoch 4/5\n",
            "7/7 [==============================] - ETA: 0s - loss: 0.5645 - accuracy: 0.6881\n",
            "Epoch 00004: val_accuracy improved from 0.52941 to 0.70588, saving model to best_model_nn.h5\n",
            "7/7 [==============================] - 20s 3s/step - loss: 0.5645 - accuracy: 0.6881 - val_loss: 0.6235 - val_accuracy: 0.7059 - lr: 0.0010\n",
            "Epoch 5/5\n",
            "7/7 [==============================] - ETA: 0s - loss: 0.4857 - accuracy: 0.7921\n",
            "Epoch 00005: val_accuracy did not improve from 0.70588\n",
            "7/7 [==============================] - 20s 3s/step - loss: 0.4857 - accuracy: 0.7921 - val_loss: 0.6146 - val_accuracy: 0.6667 - lr: 0.0010\n"
          ],
          "name": "stdout"
        }
      ]
    },
    {
      "cell_type": "code",
      "metadata": {
        "id": "Jkjhzi496l_V",
        "colab_type": "code",
        "colab": {
          "base_uri": "https://localhost:8080/",
          "height": 35
        },
        "outputId": "f982418a-8a2f-4479-a655-1ef15e663c21"
      },
      "source": [
        "model.history.epoch"
      ],
      "execution_count": 113,
      "outputs": [
        {
          "output_type": "execute_result",
          "data": {
            "text/plain": [
              "[0, 1, 2, 3, 4]"
            ]
          },
          "metadata": {
            "tags": []
          },
          "execution_count": 113
        }
      ]
    },
    {
      "cell_type": "code",
      "metadata": {
        "id": "r8jKWweeMfXD",
        "colab_type": "code",
        "colab": {
          "base_uri": "https://localhost:8080/",
          "height": 780
        },
        "outputId": "cbf9fcac-d037-48ce-dfea-a7986a971ce4"
      },
      "source": [
        "from tensorflow.keras.models import Sequential\n",
        "from tensorflow.keras.layers import Dense, Activation, Dropout,BatchNormalization,Flatten, Conv2D, MaxPooling2D\n",
        "from tensorflow.keras.optimizers import SGD\n",
        "from tensorflow.python.keras.callbacks import ReduceLROnPlateau\n",
        "from tensorflow.python.keras.callbacks import ModelCheckpoint\n",
        "with tf.device('/device:GPU:0'): #\"/GPU:0\": Short-hand notation for the first GPU of your machine that is visible to TensorFlow.\n",
        "\n",
        "    model2 = Sequential()\n",
        "      # input: images of size 192x192x3 pixels (the three stands for RGB channels)    \n",
        "    model2.add(Conv2D(kernel_size=3, filters=32, padding='same', activation='relu', input_shape=[224, 224, 3]))\n",
        "    model2.add(Conv2D(kernel_size=1, filters=32, padding='same', activation='relu'))\n",
        "    model2.add(MaxPooling2D(pool_size=2))\n",
        "    model2.add(Conv2D(kernel_size=3, filters=32, padding='same', activation='relu'))\n",
        "    model2.add(Conv2D(kernel_size=1, filters=32, padding='same', activation='relu'))\n",
        "    model2.add(MaxPooling2D(pool_size=2))\n",
        "    model2.add(Conv2D(kernel_size=3, filters=32, padding='same', activation='relu'))\n",
        "    model2.add(Conv2D(kernel_size=1, filters=32, padding='same', activation='relu'))\n",
        "    model2.add(MaxPooling2D(pool_size=2))\n",
        "    model2.add(Conv2D(kernel_size=3, filters=16, padding='same', activation='relu'))\n",
        "    model2.add(Conv2D(kernel_size=1, filters=8, padding='same', activation='relu'))\n",
        "    model2.add(Flatten())\n",
        "    model2.add(Dense(2, activation='softmax'))\n",
        "    mc = ModelCheckpoint('best_model_cnn.h5', monitor='val_accuracy',mode='max', verbose=1, save_best_only=True) # evaluating val_acc maximization\n",
        "    red_lr= ReduceLROnPlateau(monitor='val_accuracy',patience=2,verbose=1,factor=0.5, min_lr=0.001)\n",
        "    \n",
        "    model2.compile(\n",
        "      optimizer=\"adam\", # to use callback set lr arg such as Adam(lr=0.001) instead\n",
        "      loss= 'categorical_crossentropy',\n",
        "      metrics=['accuracy'])\n",
        "    \n",
        "    # Fitting the CNN to the Training set\n",
        "    model2.fit(X_train, y_train, \n",
        "                      epochs = 10, verbose=1,validation_data=(X_test,y_test),callbacks=[mc,red_lr])"
      ],
      "execution_count": 100,
      "outputs": [
        {
          "output_type": "stream",
          "text": [
            "Epoch 1/10\n",
            "7/7 [==============================] - ETA: 0s - loss: 0.6749 - accuracy: 0.5743\n",
            "Epoch 00001: val_accuracy improved from -inf to 0.52941, saving model to best_model_cnn.h5\n",
            "7/7 [==============================] - 16s 2s/step - loss: 0.6749 - accuracy: 0.5743 - val_loss: 0.6984 - val_accuracy: 0.5294 - lr: 0.0010\n",
            "Epoch 2/10\n",
            "7/7 [==============================] - ETA: 0s - loss: 0.5766 - accuracy: 0.6337\n",
            "Epoch 00002: val_accuracy improved from 0.52941 to 0.62745, saving model to best_model_cnn.h5\n",
            "7/7 [==============================] - 16s 2s/step - loss: 0.5766 - accuracy: 0.6337 - val_loss: 0.6719 - val_accuracy: 0.6275 - lr: 0.0010\n",
            "Epoch 3/10\n",
            "7/7 [==============================] - ETA: 0s - loss: 0.4912 - accuracy: 0.7624\n",
            "Epoch 00003: val_accuracy improved from 0.62745 to 0.70588, saving model to best_model_cnn.h5\n",
            "7/7 [==============================] - 16s 2s/step - loss: 0.4912 - accuracy: 0.7624 - val_loss: 0.6944 - val_accuracy: 0.7059 - lr: 0.0010\n",
            "Epoch 4/10\n",
            "7/7 [==============================] - ETA: 0s - loss: 0.4900 - accuracy: 0.7822\n",
            "Epoch 00004: val_accuracy did not improve from 0.70588\n",
            "7/7 [==============================] - 16s 2s/step - loss: 0.4900 - accuracy: 0.7822 - val_loss: 0.6740 - val_accuracy: 0.7059 - lr: 0.0010\n",
            "Epoch 5/10\n",
            "7/7 [==============================] - ETA: 0s - loss: 0.4447 - accuracy: 0.8168\n",
            "Epoch 00005: val_accuracy did not improve from 0.70588\n",
            "\n",
            "Epoch 00005: ReduceLROnPlateau reducing learning rate to 0.001.\n",
            "7/7 [==============================] - 16s 2s/step - loss: 0.4447 - accuracy: 0.8168 - val_loss: 0.6813 - val_accuracy: 0.6863 - lr: 0.0010\n",
            "Epoch 6/10\n",
            "7/7 [==============================] - ETA: 0s - loss: 0.4814 - accuracy: 0.8218\n",
            "Epoch 00006: val_accuracy did not improve from 0.70588\n",
            "7/7 [==============================] - 16s 2s/step - loss: 0.4814 - accuracy: 0.8218 - val_loss: 0.6520 - val_accuracy: 0.7059 - lr: 0.0010\n",
            "Epoch 7/10\n",
            "7/7 [==============================] - ETA: 0s - loss: 0.4846 - accuracy: 0.8267\n",
            "Epoch 00007: val_accuracy improved from 0.70588 to 0.72549, saving model to best_model_cnn.h5\n",
            "7/7 [==============================] - 16s 2s/step - loss: 0.4846 - accuracy: 0.8267 - val_loss: 0.6029 - val_accuracy: 0.7255 - lr: 0.0010\n",
            "Epoch 8/10\n",
            "7/7 [==============================] - ETA: 0s - loss: 0.4061 - accuracy: 0.8168\n",
            "Epoch 00008: val_accuracy did not improve from 0.72549\n",
            "7/7 [==============================] - 16s 2s/step - loss: 0.4061 - accuracy: 0.8168 - val_loss: 0.7181 - val_accuracy: 0.7059 - lr: 0.0010\n",
            "Epoch 9/10\n",
            "7/7 [==============================] - ETA: 0s - loss: 0.3857 - accuracy: 0.8218\n",
            "Epoch 00009: val_accuracy did not improve from 0.72549\n",
            "\n",
            "Epoch 00009: ReduceLROnPlateau reducing learning rate to 0.001.\n",
            "7/7 [==============================] - 16s 2s/step - loss: 0.3857 - accuracy: 0.8218 - val_loss: 0.7351 - val_accuracy: 0.7255 - lr: 0.0010\n",
            "Epoch 10/10\n",
            "7/7 [==============================] - ETA: 0s - loss: 0.3325 - accuracy: 0.8713\n",
            "Epoch 00010: val_accuracy improved from 0.72549 to 0.74510, saving model to best_model_cnn.h5\n",
            "7/7 [==============================] - 16s 2s/step - loss: 0.3325 - accuracy: 0.8713 - val_loss: 0.6858 - val_accuracy: 0.7451 - lr: 0.0010\n"
          ],
          "name": "stdout"
        }
      ]
    },
    {
      "cell_type": "code",
      "metadata": {
        "id": "_kWMIer26JFN",
        "colab_type": "code",
        "colab": {
          "base_uri": "https://localhost:8080/",
          "height": 35
        },
        "outputId": "cb3d8338-a0c6-4faf-ea3f-9aa28e796786"
      },
      "source": [
        "model2.history.epoch"
      ],
      "execution_count": 102,
      "outputs": [
        {
          "output_type": "execute_result",
          "data": {
            "text/plain": [
              "[0, 1, 2, 3, 4, 5, 6, 7, 8, 9]"
            ]
          },
          "metadata": {
            "tags": []
          },
          "execution_count": 102
        }
      ]
    },
    {
      "cell_type": "code",
      "metadata": {
        "id": "6FJgiEgfe8N8",
        "colab_type": "code",
        "colab": {
          "base_uri": "https://localhost:8080/",
          "height": 260
        },
        "outputId": "9fa2334d-690a-40d2-c0b0-c41c145117de"
      },
      "source": [
        "from tensorflow.keras.applications import VGG16\n",
        "from tensorflow.keras.layers import GlobalAveragePooling2D\n",
        "# Create the base model from the pre-trained model VGG16\n",
        "base_model = VGG16(input_shape=(224,224,3), include_top=False, weights='imagenet')\n",
        "base_model.trainable = False\n",
        "model3 = Sequential([\n",
        "   base_model,\n",
        "   GlobalAveragePooling2D(),\n",
        "   Dense(2,activation=\"softmax\")\n",
        "])\n",
        "\n",
        "model3.summary()\n"
      ],
      "execution_count": 41,
      "outputs": [
        {
          "output_type": "stream",
          "text": [
            "Model: \"sequential_13\"\n",
            "_________________________________________________________________\n",
            "Layer (type)                 Output Shape              Param #   \n",
            "=================================================================\n",
            "vgg16 (Model)                (None, 7, 7, 512)         14714688  \n",
            "_________________________________________________________________\n",
            "global_average_pooling2d_1 ( (None, 512)               0         \n",
            "_________________________________________________________________\n",
            "dense_17 (Dense)             (None, 2)                 1026      \n",
            "=================================================================\n",
            "Total params: 14,715,714\n",
            "Trainable params: 1,026\n",
            "Non-trainable params: 14,714,688\n",
            "_________________________________________________________________\n"
          ],
          "name": "stdout"
        }
      ]
    },
    {
      "cell_type": "code",
      "metadata": {
        "id": "DP2mOJm3f82z",
        "colab_type": "code",
        "colab": {
          "base_uri": "https://localhost:8080/",
          "height": 416
        },
        "outputId": "5f450622-e71c-4f31-9493-a632e108dd2b"
      },
      "source": [
        "mc = ModelCheckpoint('best_model_vgg16.h5', monitor='val_accuracy',mode='max', verbose=1, save_best_only=True) # evaluating val_acc maximization\n",
        "red_lr= ReduceLROnPlateau(monitor='val_accuracy',patience=2,verbose=1,factor=0.5, min_lr=0.001)\n",
        "    \n",
        "model3.compile(\n",
        "      optimizer=\"adam\", # to use callback set lr arg such as Adam(lr=0.001) instead\n",
        "      loss= 'categorical_crossentropy',\n",
        "      metrics=['accuracy'])\n",
        "    \n",
        "# Fitting the CNN to the Training set\n",
        "model3.fit(X_train, y_train, \n",
        "                      epochs = 5, verbose=1,validation_data=(X_test,y_test),callbacks=[mc,red_lr])"
      ],
      "execution_count": 43,
      "outputs": [
        {
          "output_type": "stream",
          "text": [
            "Epoch 1/5\n",
            "7/7 [==============================] - ETA: 0s - loss: 0.6909 - accuracy: 0.6337 \n",
            "Epoch 00001: val_accuracy improved from -inf to 0.52941, saving model to best_model_vgg16.h5\n",
            "7/7 [==============================] - 109s 16s/step - loss: 0.6909 - accuracy: 0.6337 - val_loss: 0.6891 - val_accuracy: 0.5294 - lr: 0.0010\n",
            "Epoch 2/5\n",
            "7/7 [==============================] - ETA: 0s - loss: 0.6474 - accuracy: 0.6386 \n",
            "Epoch 00002: val_accuracy improved from 0.52941 to 0.54902, saving model to best_model_vgg16.h5\n",
            "7/7 [==============================] - 112s 16s/step - loss: 0.6474 - accuracy: 0.6386 - val_loss: 0.6497 - val_accuracy: 0.5490 - lr: 0.0010\n",
            "Epoch 3/5\n",
            "7/7 [==============================] - ETA: 0s - loss: 0.6302 - accuracy: 0.6238 \n",
            "Epoch 00003: val_accuracy did not improve from 0.54902\n",
            "7/7 [==============================] - 109s 16s/step - loss: 0.6302 - accuracy: 0.6238 - val_loss: 0.6525 - val_accuracy: 0.5294 - lr: 0.0010\n",
            "Epoch 4/5\n",
            "7/7 [==============================] - ETA: 0s - loss: 0.6086 - accuracy: 0.6337 \n",
            "Epoch 00004: val_accuracy did not improve from 0.54902\n",
            "\n",
            "Epoch 00004: ReduceLROnPlateau reducing learning rate to 0.001.\n",
            "7/7 [==============================] - 108s 15s/step - loss: 0.6086 - accuracy: 0.6337 - val_loss: 0.6818 - val_accuracy: 0.5294 - lr: 0.0010\n",
            "Epoch 5/5\n",
            "7/7 [==============================] - ETA: 0s - loss: 0.6219 - accuracy: 0.6337 \n",
            "Epoch 00005: val_accuracy did not improve from 0.54902\n",
            "7/7 [==============================] - 109s 16s/step - loss: 0.6219 - accuracy: 0.6337 - val_loss: 0.6724 - val_accuracy: 0.5294 - lr: 0.0010\n"
          ],
          "name": "stdout"
        },
        {
          "output_type": "execute_result",
          "data": {
            "text/plain": [
              "<tensorflow.python.keras.callbacks.History at 0x7faf81836cc0>"
            ]
          },
          "metadata": {
            "tags": []
          },
          "execution_count": 43
        }
      ]
    },
    {
      "cell_type": "code",
      "metadata": {
        "id": "ckZyfn__sBV6",
        "colab_type": "code",
        "colab": {
          "base_uri": "https://localhost:8080/",
          "height": 728
        },
        "outputId": "949022f3-79b5-41d1-d57e-041c3be6d255"
      },
      "source": [
        "# Load libraries for onnx model conversion (keras to onnx)\n",
        "! pip3 install keras2onnx\n",
        "! pip3 install onnxruntime"
      ],
      "execution_count": 45,
      "outputs": [
        {
          "output_type": "stream",
          "text": [
            "Collecting keras2onnx\n",
            "\u001b[?25l  Downloading https://files.pythonhosted.org/packages/0a/f5/ea1d0482b7fdb07889fd3d5b2d0954a5813db0a282888968cc00fde897ec/keras2onnx-1.6.1-py3-none-any.whl (220kB)\n",
            "\u001b[K     |████████████████████████████████| 225kB 1.4MB/s \n",
            "\u001b[?25hRequirement already satisfied: requests in /usr/local/lib/python3.6/dist-packages (from keras2onnx) (2.21.0)\n",
            "Collecting onnxconverter-common<1.7.0,>=1.6.0\n",
            "\u001b[?25l  Downloading https://files.pythonhosted.org/packages/5e/55/a6829783dd0fdeccaa30a0a2083170d6528de9af068a254e3ec0ab4b594b/onnxconverter_common-1.6.1-py2.py3-none-any.whl (45kB)\n",
            "\u001b[K     |████████████████████████████████| 51kB 4.1MB/s \n",
            "\u001b[?25hRequirement already satisfied: numpy in /usr/local/lib/python3.6/dist-packages (from keras2onnx) (1.18.2)\n",
            "Collecting fire\n",
            "\u001b[?25l  Downloading https://files.pythonhosted.org/packages/fa/42/6252075cbad90b9efb27b6586827779758c62fd73868a1cd0d23ebb5aac6/fire-0.3.0.tar.gz (81kB)\n",
            "\u001b[K     |████████████████████████████████| 81kB 4.0MB/s \n",
            "\u001b[?25hCollecting onnx\n",
            "\u001b[?25l  Downloading https://files.pythonhosted.org/packages/f5/f4/e126b60d109ad1e80020071484b935980b7cce1e4796073aab086a2d6902/onnx-1.6.0-cp36-cp36m-manylinux1_x86_64.whl (4.8MB)\n",
            "\u001b[K     |████████████████████████████████| 4.8MB 4.0MB/s \n",
            "\u001b[?25hRequirement already satisfied: protobuf in /usr/local/lib/python3.6/dist-packages (from keras2onnx) (3.10.0)\n",
            "Requirement already satisfied: idna<2.9,>=2.5 in /usr/local/lib/python3.6/dist-packages (from requests->keras2onnx) (2.8)\n",
            "Requirement already satisfied: certifi>=2017.4.17 in /usr/local/lib/python3.6/dist-packages (from requests->keras2onnx) (2019.11.28)\n",
            "Requirement already satisfied: chardet<3.1.0,>=3.0.2 in /usr/local/lib/python3.6/dist-packages (from requests->keras2onnx) (3.0.4)\n",
            "Requirement already satisfied: urllib3<1.25,>=1.21.1 in /usr/local/lib/python3.6/dist-packages (from requests->keras2onnx) (1.24.3)\n",
            "Requirement already satisfied: six in /usr/local/lib/python3.6/dist-packages (from onnxconverter-common<1.7.0,>=1.6.0->keras2onnx) (1.12.0)\n",
            "Requirement already satisfied: termcolor in /usr/local/lib/python3.6/dist-packages (from fire->keras2onnx) (1.1.0)\n",
            "Requirement already satisfied: typing-extensions>=3.6.2.1 in /usr/local/lib/python3.6/dist-packages (from onnx->keras2onnx) (3.6.6)\n",
            "Requirement already satisfied: setuptools in /usr/local/lib/python3.6/dist-packages (from protobuf->keras2onnx) (46.0.0)\n",
            "Building wheels for collected packages: fire\n",
            "  Building wheel for fire (setup.py) ... \u001b[?25l\u001b[?25hdone\n",
            "  Created wheel for fire: filename=fire-0.3.0-py2.py3-none-any.whl size=111108 sha256=90518350c78cdd43d986091a87d2c79893bb3f4ae250d5dd1fbae904873db2b3\n",
            "  Stored in directory: /root/.cache/pip/wheels/92/62/79/6a40acd827ec9d78d610be311820ecf8e41db024d8b1d12ace\n",
            "Successfully built fire\n",
            "Installing collected packages: onnx, onnxconverter-common, fire, keras2onnx\n",
            "Successfully installed fire-0.3.0 keras2onnx-1.6.1 onnx-1.6.0 onnxconverter-common-1.6.1\n",
            "Collecting onnxruntime\n",
            "\u001b[?25l  Downloading https://files.pythonhosted.org/packages/69/39/404df5ee608c548dacde43a17faf0248b183fa6163cf9c06aca6a511d760/onnxruntime-1.2.0-cp36-cp36m-manylinux1_x86_64.whl (3.7MB)\n",
            "\u001b[K     |████████████████████████████████| 3.7MB 45kB/s \n",
            "\u001b[?25hRequirement already satisfied: numpy>=1.18.0 in /usr/local/lib/python3.6/dist-packages (from onnxruntime) (1.18.2)\n",
            "Requirement already satisfied: onnx>=1.2.3 in /usr/local/lib/python3.6/dist-packages (from onnxruntime) (1.6.0)\n",
            "Requirement already satisfied: six in /usr/local/lib/python3.6/dist-packages (from onnx>=1.2.3->onnxruntime) (1.12.0)\n",
            "Requirement already satisfied: typing-extensions>=3.6.2.1 in /usr/local/lib/python3.6/dist-packages (from onnx>=1.2.3->onnxruntime) (3.6.6)\n",
            "Requirement already satisfied: protobuf in /usr/local/lib/python3.6/dist-packages (from onnx>=1.2.3->onnxruntime) (3.10.0)\n",
            "Requirement already satisfied: setuptools in /usr/local/lib/python3.6/dist-packages (from protobuf->onnx>=1.2.3->onnxruntime) (46.0.0)\n",
            "Installing collected packages: onnxruntime\n",
            "Successfully installed onnxruntime-1.2.0\n"
          ],
          "name": "stdout"
        }
      ]
    },
    {
      "cell_type": "code",
      "metadata": {
        "id": "fbsJZmvYsItD",
        "colab_type": "code",
        "colab": {}
      },
      "source": [
        "import os\n",
        "os.environ['TF_KERAS'] = '1' # Add this environmental variable whenever you use tensorflow's tf.keras to build your keras model\n",
        "import onnx\n",
        "\n",
        "import keras2onnx\n",
        "\n",
        "from keras2onnx import convert_keras\n",
        "onx = convert_keras(model2, 'my_model.onnx')\n",
        "with open(\"my_model.onnx\", \"wb\") as f:\n",
        "    f.write(onx.SerializeToString())"
      ],
      "execution_count": 0,
      "outputs": []
    },
    {
      "cell_type": "code",
      "metadata": {
        "id": "6DrcXwcksayK",
        "colab_type": "code",
        "colab": {
          "base_uri": "https://localhost:8080/",
          "height": 89
        },
        "outputId": "6c89bbde-b919-4d61-8256-04a3f54eadaa"
      },
      "source": [
        "def predict_classes(x): # adjusted from keras github code\n",
        "  proba=x\n",
        "  if proba.shape[-1] > 1:\n",
        "      return proba.argmax(axis=-1)\n",
        "  else:\n",
        "      return (proba > 0.5).astype(\"int32\")\n",
        "\n",
        "raw_predictions=model2.predict(X_test)\n",
        "print(predict_classes(raw_predictions))\n",
        "\n",
        "prediction_index=predict_classes(raw_predictions)\n",
        "\n",
        "#Now lets run some code to get keras to return the label rather than the index...\n",
        "\n",
        "# get labels from one hot encoded y_train data\n",
        "labels=pd.get_dummies(y_train).columns\n",
        "\n",
        "# Iterate through all predicted indices using map method\n",
        "\n",
        "predicted_labels=list(map(lambda x: labels[x], prediction_index))\n",
        "print(predicted_labels)"
      ],
      "execution_count": 105,
      "outputs": [
        {
          "output_type": "stream",
          "text": [
            "[1 1 1 0 1 1 0 0 1 1 0 0 0 1 1 0 1 1 1 1 1 1 1 1 1 1 1 0 1 1 0 1 1 0 0 1 1\n",
            " 0 1 1 0 1 1 1 1 1 0 1 0 0 0]\n",
            "['yes', 'yes', 'yes', 'no', 'yes', 'yes', 'no', 'no', 'yes', 'yes', 'no', 'no', 'no', 'yes', 'yes', 'no', 'yes', 'yes', 'yes', 'yes', 'yes', 'yes', 'yes', 'yes', 'yes', 'yes', 'yes', 'no', 'yes', 'yes', 'no', 'yes', 'yes', 'no', 'no', 'yes', 'yes', 'no', 'yes', 'yes', 'no', 'yes', 'yes', 'yes', 'yes', 'yes', 'no', 'yes', 'no', 'no', 'no']\n"
          ],
          "name": "stdout"
        }
      ]
    },
    {
      "cell_type": "code",
      "metadata": {
        "id": "9EdmSq_duD_l",
        "colab_type": "code",
        "colab": {}
      },
      "source": [
        "import numpy as np\n",
        "from sklearn.metrics import accuracy_score\n",
        "from sklearn.metrics import f1_score\n",
        "from sklearn.metrics import precision_score\n",
        "from sklearn.metrics import recall_score\n",
        "from sklearn.metrics import roc_auc_score\n",
        "from sklearn.metrics import mean_squared_error\n",
        "from sklearn.metrics import r2_score\n",
        "from sklearn.metrics import mean_absolute_error\n",
        "import pandas as pd\n",
        "from math import sqrt\n",
        "\n",
        "def model_eval_metrics(y_true, y_pred,classification=\"TRUE\"):\n",
        "     if classification==\"TRUE\":\n",
        "        accuracy_eval = accuracy_score(y_true, y_pred)\n",
        "        f1_score_eval = f1_score(y_true, y_pred,average=\"macro\",zero_division=0)\n",
        "        precision_eval = precision_score(y_true, y_pred,average=\"macro\",zero_division=0)\n",
        "        recall_eval = recall_score(y_true, y_pred,average=\"macro\",zero_division=0)\n",
        "        mse_eval = 0\n",
        "        rmse_eval = 0\n",
        "        mae_eval = 0\n",
        "        r2_eval = 0\n",
        "        metricdata = {'accuracy': [accuracy_eval], 'f1_score': [f1_score_eval], 'precision': [precision_eval], 'recall': [recall_eval], 'mse': [mse_eval], 'rmse': [rmse_eval], 'mae': [mae_eval], 'r2': [r2_eval]}\n",
        "        finalmetricdata = pd.DataFrame.from_dict(metricdata)\n",
        "     else:\n",
        "        accuracy_eval = 0\n",
        "        f1_score_eval = 0\n",
        "        precision_eval = 0\n",
        "        recall_eval = 0\n",
        "        mse_eval = mean_squared_error(y_true, y_pred)\n",
        "        rmse_eval = sqrt(mean_squared_error(y_true, y_pred))\n",
        "        mae_eval = mean_absolute_error(y_true, y_pred)\n",
        "        r2_eval = r2_score(y_true, y_pred)\n",
        "        metricdata = {'accuracy': [accuracy_eval], 'f1_score': [f1_score_eval], 'precision': [precision_eval], 'recall': [recall_eval], 'mse': [mse_eval], 'rmse': [rmse_eval], 'mae': [mae_eval], 'r2': [r2_eval]}\n",
        "        finalmetricdata = pd.DataFrame.from_dict(metricdata)\n",
        "     return finalmetricdata"
      ],
      "execution_count": 0,
      "outputs": []
    },
    {
      "cell_type": "code",
      "metadata": {
        "id": "s63WeUdTuFFT",
        "colab_type": "code",
        "colab": {
          "base_uri": "https://localhost:8080/",
          "height": 79
        },
        "outputId": "35b646d4-c661-4850-c8eb-81c0bea9f582"
      },
      "source": [
        "y_test_labels=y_test.idxmax(axis=1) #extract labels from one hot encoded y_test object\n",
        "\n",
        "model_eval_metrics( y_test_labels,predicted_labels,classification=\"TRUE\")\n"
      ],
      "execution_count": 107,
      "outputs": [
        {
          "output_type": "execute_result",
          "data": {
            "text/html": [
              "<div>\n",
              "<style scoped>\n",
              "    .dataframe tbody tr th:only-of-type {\n",
              "        vertical-align: middle;\n",
              "    }\n",
              "\n",
              "    .dataframe tbody tr th {\n",
              "        vertical-align: top;\n",
              "    }\n",
              "\n",
              "    .dataframe thead th {\n",
              "        text-align: right;\n",
              "    }\n",
              "</style>\n",
              "<table border=\"1\" class=\"dataframe\">\n",
              "  <thead>\n",
              "    <tr style=\"text-align: right;\">\n",
              "      <th></th>\n",
              "      <th>accuracy</th>\n",
              "      <th>f1_score</th>\n",
              "      <th>precision</th>\n",
              "      <th>recall</th>\n",
              "      <th>mse</th>\n",
              "      <th>rmse</th>\n",
              "      <th>mae</th>\n",
              "      <th>r2</th>\n",
              "    </tr>\n",
              "  </thead>\n",
              "  <tbody>\n",
              "    <tr>\n",
              "      <th>0</th>\n",
              "      <td>0.745098</td>\n",
              "      <td>0.734906</td>\n",
              "      <td>0.764706</td>\n",
              "      <td>0.736111</td>\n",
              "      <td>0</td>\n",
              "      <td>0</td>\n",
              "      <td>0</td>\n",
              "      <td>0</td>\n",
              "    </tr>\n",
              "  </tbody>\n",
              "</table>\n",
              "</div>"
            ],
            "text/plain": [
              "   accuracy  f1_score  precision    recall  mse  rmse  mae  r2\n",
              "0  0.745098  0.734906   0.764706  0.736111    0     0    0   0"
            ]
          },
          "metadata": {
            "tags": []
          },
          "execution_count": 107
        }
      ]
    },
    {
      "cell_type": "code",
      "metadata": {
        "id": "pmJtAiHjuHHb",
        "colab_type": "code",
        "colab": {
          "base_uri": "https://localhost:8080/",
          "height": 79
        },
        "outputId": "8bc9b3c0-06f4-4c10-990d-b1710d8d3775"
      },
      "source": [
        "modelevalobject=model_eval_metrics( y_test_labels,predicted_labels,classification=\"TRUE\")\n",
        "\n",
        "\n",
        "modelevalobject# add metrics to submittable object"
      ],
      "execution_count": 108,
      "outputs": [
        {
          "output_type": "execute_result",
          "data": {
            "text/html": [
              "<div>\n",
              "<style scoped>\n",
              "    .dataframe tbody tr th:only-of-type {\n",
              "        vertical-align: middle;\n",
              "    }\n",
              "\n",
              "    .dataframe tbody tr th {\n",
              "        vertical-align: top;\n",
              "    }\n",
              "\n",
              "    .dataframe thead th {\n",
              "        text-align: right;\n",
              "    }\n",
              "</style>\n",
              "<table border=\"1\" class=\"dataframe\">\n",
              "  <thead>\n",
              "    <tr style=\"text-align: right;\">\n",
              "      <th></th>\n",
              "      <th>accuracy</th>\n",
              "      <th>f1_score</th>\n",
              "      <th>precision</th>\n",
              "      <th>recall</th>\n",
              "      <th>mse</th>\n",
              "      <th>rmse</th>\n",
              "      <th>mae</th>\n",
              "      <th>r2</th>\n",
              "    </tr>\n",
              "  </thead>\n",
              "  <tbody>\n",
              "    <tr>\n",
              "      <th>0</th>\n",
              "      <td>0.745098</td>\n",
              "      <td>0.734906</td>\n",
              "      <td>0.764706</td>\n",
              "      <td>0.736111</td>\n",
              "      <td>0</td>\n",
              "      <td>0</td>\n",
              "      <td>0</td>\n",
              "      <td>0</td>\n",
              "    </tr>\n",
              "  </tbody>\n",
              "</table>\n",
              "</div>"
            ],
            "text/plain": [
              "   accuracy  f1_score  precision    recall  mse  rmse  mae  r2\n",
              "0  0.745098  0.734906   0.764706  0.736111    0     0    0   0"
            ]
          },
          "metadata": {
            "tags": []
          },
          "execution_count": 108
        }
      ]
    },
    {
      "cell_type": "code",
      "metadata": {
        "id": "AWZE62ZhuNja",
        "colab_type": "code",
        "colab": {
          "base_uri": "https://localhost:8080/",
          "height": 176
        },
        "outputId": "1779e56e-e3dc-438c-a0de-3957ba668653"
      },
      "source": [
        "! pip3 install https://github.com/mikedparrott/aimodelshare/blob/master/aimodelshare-0.0.5.tar.gz?raw=true"
      ],
      "execution_count": 85,
      "outputs": [
        {
          "output_type": "stream",
          "text": [
            "Collecting https://github.com/mikedparrott/aimodelshare/blob/master/aimodelshare-0.0.5.tar.gz?raw=true\n",
            "  Using cached https://github.com/mikedparrott/aimodelshare/blob/master/aimodelshare-0.0.5.tar.gz?raw=true\n",
            "Requirement already satisfied (use --upgrade to upgrade): aimodelshare==0.0.5 from https://github.com/mikedparrott/aimodelshare/blob/master/aimodelshare-0.0.5.tar.gz?raw=true in /usr/local/lib/python3.6/dist-packages\n",
            "Building wheels for collected packages: aimodelshare\n",
            "  Building wheel for aimodelshare (setup.py) ... \u001b[?25l\u001b[?25hdone\n",
            "  Created wheel for aimodelshare: filename=aimodelshare-0.0.5-cp36-none-any.whl size=5305 sha256=e154b22b455565ef605d39173cf9c93c54e8f9d793d08a552a07ecd34c416343\n",
            "  Stored in directory: /root/.cache/pip/wheels/ab/28/ae/b9ecb7a3a5542d3f2fed56649fdd6dec1c16f900ef70b93875\n",
            "Successfully built aimodelshare\n"
          ],
          "name": "stdout"
        }
      ]
    },
    {
      "cell_type": "code",
      "metadata": {
        "id": "X_lqjlpeuRgT",
        "colab_type": "code",
        "colab": {}
      },
      "source": [
        "apiurl=\"https://a53yv0xqce.execute-api.us-east-1.amazonaws.com/prod/m\"\n",
        "username = \"yaowang126\"\n",
        "password = \"abc01076521\"\n",
        "\n",
        "model_filepath=\"my_model.onnx\"   \n",
        "\n",
        "# New! Assign model object to model argument parameter to submit model architecture to leaderboard.\n",
        "model=model2\n",
        "\n",
        "# Set aws keys for this project (these keys give you access to collaborate on a single project)\n",
        "\n",
        "#Importing from object that stores keys so we do not print out keys for others to see.\n",
        "\n",
        "import pickle\n",
        "aws_key_password_region = pickle.load( open( \"braintumor_modelsubmission_keys.pkl\", \"rb\" ) )\n",
        "\n",
        "aws_key=aws_key_password_region[0]\n",
        "aws_password=aws_key_password_region[1]\n",
        "region=aws_key_password_region[2]"
      ],
      "execution_count": 0,
      "outputs": []
    },
    {
      "cell_type": "code",
      "metadata": {
        "id": "zGbnL4uBwbmr",
        "colab_type": "code",
        "colab": {
          "base_uri": "https://localhost:8080/",
          "height": 87
        },
        "outputId": "7f2b52cf-9325-439b-e72d-5a919a0393f4"
      },
      "source": [
        "import aimodelshare as ai\n",
        "\n",
        "ai.submit_model(model_filepath=model_filepath, model_eval_metrics=modelevalobject,modelobject=model,apiurl=apiurl, username=username, password=password, aws_key=aws_key,aws_password=aws_password, region=region, trainingdata=\"default\",preprocessor_filepath=\"default\",preprocessor=\"default\")"
      ],
      "execution_count": 114,
      "outputs": [
        {
          "output_type": "stream",
          "text": [
            "\n",
            "\"my_model.onnx\" has been loaded to version 42 of your prediction API.\n",
            "This version of the model will be used by your prediction api for all future predictions automatically.\n",
            "If you wish to use an older version of the model, please reference the getting started guide at aimodelshare.com.\n"
          ],
          "name": "stdout"
        }
      ]
    },
    {
      "cell_type": "code",
      "metadata": {
        "id": "3rx9coIowvw6",
        "colab_type": "code",
        "colab": {}
      },
      "source": [
        "# arguments required to get leaderboard below\n",
        "apiurl=\"https://a53yv0xqce.execute-api.us-east-1.amazonaws.com/prod/m\"\n",
        "username = \"yaowang126\"\n",
        "password = \"abc01076521\""
      ],
      "execution_count": 0,
      "outputs": []
    },
    {
      "cell_type": "code",
      "metadata": {
        "id": "9yrzvY6gw1xi",
        "colab_type": "code",
        "colab": {
          "base_uri": "https://localhost:8080/",
          "height": 1000
        },
        "outputId": "2c7e5c7c-59bc-457f-9673-b24f72f5d08e"
      },
      "source": [
        "import aimodelshare as ai\n",
        "\n",
        "leaderboard = ai.get_leaderboard(apiurl, username, password, aws_key, aws_password, region)"
      ],
      "execution_count": 115,
      "outputs": [
        {
          "output_type": "display_data",
          "data": {
            "text/html": [
              "<div>\n",
              "<style scoped>\n",
              "    .dataframe tbody tr th:only-of-type {\n",
              "        vertical-align: middle;\n",
              "    }\n",
              "\n",
              "    .dataframe tbody tr th {\n",
              "        vertical-align: top;\n",
              "    }\n",
              "\n",
              "    .dataframe thead th {\n",
              "        text-align: right;\n",
              "    }\n",
              "</style>\n",
              "<table border=\"1\" class=\"dataframe\">\n",
              "  <thead>\n",
              "    <tr style=\"text-align: right;\">\n",
              "      <th></th>\n",
              "      <th>accuracy</th>\n",
              "      <th>f1_score</th>\n",
              "      <th>precision</th>\n",
              "      <th>recall</th>\n",
              "      <th>mse</th>\n",
              "      <th>rmse</th>\n",
              "      <th>mae</th>\n",
              "      <th>r2</th>\n",
              "      <th>username</th>\n",
              "      <th>model_version</th>\n",
              "      <th>avg_ranking_classification</th>\n",
              "      <th>avg_ranking_regression</th>\n",
              "      <th>model_config</th>\n",
              "      <th>model_optim_config</th>\n",
              "      <th>model_epochs</th>\n",
              "    </tr>\n",
              "  </thead>\n",
              "  <tbody>\n",
              "    <tr>\n",
              "      <th>15</th>\n",
              "      <td>0.941176</td>\n",
              "      <td>0.940812</td>\n",
              "      <td>0.942547</td>\n",
              "      <td>0.939815</td>\n",
              "      <td>0</td>\n",
              "      <td>0</td>\n",
              "      <td>0</td>\n",
              "      <td>0</td>\n",
              "      <td>Taketo</td>\n",
              "      <td>17</td>\n",
              "      <td>1.000000</td>\n",
              "      <td>1.0</td>\n",
              "      <td>backend: tensorflow\\nclass_name: Sequential\\nc...</td>\n",
              "      <td>{'name': 'Adam', 'learning_rate': 0.001, 'deca...</td>\n",
              "      <td>5</td>\n",
              "    </tr>\n",
              "    <tr>\n",
              "      <th>14</th>\n",
              "      <td>0.901961</td>\n",
              "      <td>0.901354</td>\n",
              "      <td>0.902950</td>\n",
              "      <td>0.900463</td>\n",
              "      <td>0</td>\n",
              "      <td>0</td>\n",
              "      <td>0</td>\n",
              "      <td>0</td>\n",
              "      <td>Taketo</td>\n",
              "      <td>16</td>\n",
              "      <td>2.000000</td>\n",
              "      <td>1.0</td>\n",
              "      <td>backend: tensorflow\\nclass_name: Sequential\\nc...</td>\n",
              "      <td>{'name': 'Adam', 'learning_rate': 0.001, 'deca...</td>\n",
              "      <td>10</td>\n",
              "    </tr>\n",
              "    <tr>\n",
              "      <th>16</th>\n",
              "      <td>0.875000</td>\n",
              "      <td>0.868718</td>\n",
              "      <td>0.868718</td>\n",
              "      <td>0.868718</td>\n",
              "      <td>0</td>\n",
              "      <td>0</td>\n",
              "      <td>0</td>\n",
              "      <td>0</td>\n",
              "      <td>3scman</td>\n",
              "      <td>18</td>\n",
              "      <td>3.333333</td>\n",
              "      <td>1.0</td>\n",
              "      <td>backend: tensorflow\\nclass_name: Sequential\\nc...</td>\n",
              "      <td>{'name': 'Adam', 'learning_rate': 0.01, 'decay...</td>\n",
              "      <td>25</td>\n",
              "    </tr>\n",
              "    <tr>\n",
              "      <th>21</th>\n",
              "      <td>0.862745</td>\n",
              "      <td>0.862745</td>\n",
              "      <td>0.865741</td>\n",
              "      <td>0.865741</td>\n",
              "      <td>0</td>\n",
              "      <td>0</td>\n",
              "      <td>0</td>\n",
              "      <td>0</td>\n",
              "      <td>dhoward97</td>\n",
              "      <td>24</td>\n",
              "      <td>4.333333</td>\n",
              "      <td>1.0</td>\n",
              "      <td>backend: tensorflow\\nclass_name: Sequential\\nc...</td>\n",
              "      <td>{'name': 'Adam', 'learning_rate': 1.5625e-05, ...</td>\n",
              "      <td>25</td>\n",
              "    </tr>\n",
              "    <tr>\n",
              "      <th>23</th>\n",
              "      <td>0.862745</td>\n",
              "      <td>0.862534</td>\n",
              "      <td>0.862308</td>\n",
              "      <td>0.863426</td>\n",
              "      <td>0</td>\n",
              "      <td>0</td>\n",
              "      <td>0</td>\n",
              "      <td>0</td>\n",
              "      <td>seanmcalevey</td>\n",
              "      <td>26</td>\n",
              "      <td>5.000000</td>\n",
              "      <td>1.0</td>\n",
              "      <td>backend: tensorflow\\nclass_name: Sequential\\nc...</td>\n",
              "      <td>{'name': 'SGD', 'learning_rate': 0.001, 'decay...</td>\n",
              "      <td>50</td>\n",
              "    </tr>\n",
              "    <tr>\n",
              "      <th>17</th>\n",
              "      <td>0.823529</td>\n",
              "      <td>0.813187</td>\n",
              "      <td>0.875000</td>\n",
              "      <td>0.812500</td>\n",
              "      <td>0</td>\n",
              "      <td>0</td>\n",
              "      <td>0</td>\n",
              "      <td>0</td>\n",
              "      <td>AlisaAi</td>\n",
              "      <td>19</td>\n",
              "      <td>5.333333</td>\n",
              "      <td>1.0</td>\n",
              "      <td>backend: tensorflow\\nclass_name: Sequential\\nc...</td>\n",
              "      <td>{'name': 'Adam', 'learning_rate': 0.001, 'deca...</td>\n",
              "      <td>25</td>\n",
              "    </tr>\n",
              "    <tr>\n",
              "      <th>20</th>\n",
              "      <td>0.843137</td>\n",
              "      <td>0.841615</td>\n",
              "      <td>0.845611</td>\n",
              "      <td>0.840278</td>\n",
              "      <td>0</td>\n",
              "      <td>0</td>\n",
              "      <td>0</td>\n",
              "      <td>0</td>\n",
              "      <td>seanmcalevey</td>\n",
              "      <td>23</td>\n",
              "      <td>6.000000</td>\n",
              "      <td>1.0</td>\n",
              "      <td>backend: tensorflow\\nclass_name: Sequential\\nc...</td>\n",
              "      <td>{'name': 'SGD', 'learning_rate': 0.001, 'decay...</td>\n",
              "      <td>25</td>\n",
              "    </tr>\n",
              "    <tr>\n",
              "      <th>31</th>\n",
              "      <td>0.823529</td>\n",
              "      <td>0.791458</td>\n",
              "      <td>0.811776</td>\n",
              "      <td>0.779412</td>\n",
              "      <td>0</td>\n",
              "      <td>0</td>\n",
              "      <td>0</td>\n",
              "      <td>0</td>\n",
              "      <td>ccabelloe</td>\n",
              "      <td>40</td>\n",
              "      <td>8.000000</td>\n",
              "      <td>1.0</td>\n",
              "      <td>backend: tensorflow\\nclass_name: Sequential\\nc...</td>\n",
              "      <td>{'name': 'SGD', 'learning_rate': 0.001, 'decay...</td>\n",
              "      <td>25</td>\n",
              "    </tr>\n",
              "    <tr>\n",
              "      <th>32</th>\n",
              "      <td>0.823529</td>\n",
              "      <td>0.791458</td>\n",
              "      <td>0.811776</td>\n",
              "      <td>0.779412</td>\n",
              "      <td>0</td>\n",
              "      <td>0</td>\n",
              "      <td>0</td>\n",
              "      <td>0</td>\n",
              "      <td>ccabelloe</td>\n",
              "      <td>41</td>\n",
              "      <td>8.000000</td>\n",
              "      <td>1.0</td>\n",
              "      <td>backend: tensorflow\\nclass_name: Sequential\\nc...</td>\n",
              "      <td>{'name': 'SGD', 'learning_rate': 0.001, 'decay...</td>\n",
              "      <td>25</td>\n",
              "    </tr>\n",
              "    <tr>\n",
              "      <th>13</th>\n",
              "      <td>0.803922</td>\n",
              "      <td>0.802019</td>\n",
              "      <td>0.805643</td>\n",
              "      <td>0.800926</td>\n",
              "      <td>0</td>\n",
              "      <td>0</td>\n",
              "      <td>0</td>\n",
              "      <td>0</td>\n",
              "      <td>Taketo</td>\n",
              "      <td>15</td>\n",
              "      <td>8.666667</td>\n",
              "      <td>1.0</td>\n",
              "      <td>backend: tensorflow\\nclass_name: Sequential\\nc...</td>\n",
              "      <td>{'name': 'Adam', 'learning_rate': 0.001, 'deca...</td>\n",
              "      <td>5</td>\n",
              "    </tr>\n",
              "    <tr>\n",
              "      <th>30</th>\n",
              "      <td>0.803922</td>\n",
              "      <td>0.802019</td>\n",
              "      <td>0.805643</td>\n",
              "      <td>0.800926</td>\n",
              "      <td>0</td>\n",
              "      <td>0</td>\n",
              "      <td>0</td>\n",
              "      <td>0</td>\n",
              "      <td>XU</td>\n",
              "      <td>39</td>\n",
              "      <td>8.666667</td>\n",
              "      <td>1.0</td>\n",
              "      <td>backend: tensorflow\\nclass_name: Sequential\\nc...</td>\n",
              "      <td>{'name': 'Adam', 'learning_rate': 0.001, 'deca...</td>\n",
              "      <td>5</td>\n",
              "    </tr>\n",
              "    <tr>\n",
              "      <th>29</th>\n",
              "      <td>0.803922</td>\n",
              "      <td>0.802019</td>\n",
              "      <td>0.805643</td>\n",
              "      <td>0.800926</td>\n",
              "      <td>0</td>\n",
              "      <td>0</td>\n",
              "      <td>0</td>\n",
              "      <td>0</td>\n",
              "      <td>XU</td>\n",
              "      <td>38</td>\n",
              "      <td>8.666667</td>\n",
              "      <td>1.0</td>\n",
              "      <td>backend: tensorflow\\nclass_name: Sequential\\nc...</td>\n",
              "      <td>{'name': 'Adam', 'learning_rate': 0.001, 'deca...</td>\n",
              "      <td>5</td>\n",
              "    </tr>\n",
              "    <tr>\n",
              "      <th>6</th>\n",
              "      <td>0.784314</td>\n",
              "      <td>0.771673</td>\n",
              "      <td>0.827778</td>\n",
              "      <td>0.773148</td>\n",
              "      <td>0</td>\n",
              "      <td>0</td>\n",
              "      <td>0</td>\n",
              "      <td>0</td>\n",
              "      <td>username1</td>\n",
              "      <td>8</td>\n",
              "      <td>9.333333</td>\n",
              "      <td>1.0</td>\n",
              "      <td>backend: tensorflow\\nclass_name: Sequential\\nc...</td>\n",
              "      <td>{'name': 'Adam', 'learning_rate': 0.001, 'deca...</td>\n",
              "      <td>5</td>\n",
              "    </tr>\n",
              "    <tr>\n",
              "      <th>7</th>\n",
              "      <td>0.784314</td>\n",
              "      <td>0.771673</td>\n",
              "      <td>0.827778</td>\n",
              "      <td>0.773148</td>\n",
              "      <td>0</td>\n",
              "      <td>0</td>\n",
              "      <td>0</td>\n",
              "      <td>0</td>\n",
              "      <td>username1</td>\n",
              "      <td>9</td>\n",
              "      <td>9.333333</td>\n",
              "      <td>1.0</td>\n",
              "      <td>backend: tensorflow\\nclass_name: Sequential\\nc...</td>\n",
              "      <td>{'name': 'Adam', 'learning_rate': 0.001, 'deca...</td>\n",
              "      <td>5</td>\n",
              "    </tr>\n",
              "    <tr>\n",
              "      <th>8</th>\n",
              "      <td>0.784314</td>\n",
              "      <td>0.771673</td>\n",
              "      <td>0.827778</td>\n",
              "      <td>0.773148</td>\n",
              "      <td>0</td>\n",
              "      <td>0</td>\n",
              "      <td>0</td>\n",
              "      <td>0</td>\n",
              "      <td>username1</td>\n",
              "      <td>10</td>\n",
              "      <td>9.333333</td>\n",
              "      <td>1.0</td>\n",
              "      <td>backend: tensorflow\\nclass_name: Sequential\\nc...</td>\n",
              "      <td>{'name': 'Adam', 'learning_rate': 0.001, 'deca...</td>\n",
              "      <td>5</td>\n",
              "    </tr>\n",
              "    <tr>\n",
              "      <th>3</th>\n",
              "      <td>0.784314</td>\n",
              "      <td>0.775690</td>\n",
              "      <td>0.808824</td>\n",
              "      <td>0.775463</td>\n",
              "      <td>0</td>\n",
              "      <td>0</td>\n",
              "      <td>0</td>\n",
              "      <td>0</td>\n",
              "      <td>username1</td>\n",
              "      <td>5</td>\n",
              "      <td>9.666667</td>\n",
              "      <td>1.0</td>\n",
              "      <td>backend: tensorflow\\nclass_name: Sequential\\nc...</td>\n",
              "      <td>{'name': 'Adam', 'learning_rate': 0.001, 'deca...</td>\n",
              "      <td>5</td>\n",
              "    </tr>\n",
              "    <tr>\n",
              "      <th>12</th>\n",
              "      <td>0.784314</td>\n",
              "      <td>0.778873</td>\n",
              "      <td>0.796053</td>\n",
              "      <td>0.777778</td>\n",
              "      <td>0</td>\n",
              "      <td>0</td>\n",
              "      <td>0</td>\n",
              "      <td>0</td>\n",
              "      <td>SUN-Wenjun</td>\n",
              "      <td>14</td>\n",
              "      <td>10.000000</td>\n",
              "      <td>1.0</td>\n",
              "      <td>backend: tensorflow\\nclass_name: Sequential\\nc...</td>\n",
              "      <td>{'name': 'SGD', 'learning_rate': 0.001, 'decay...</td>\n",
              "      <td>20</td>\n",
              "    </tr>\n",
              "    <tr>\n",
              "      <th>5</th>\n",
              "      <td>0.764706</td>\n",
              "      <td>0.757143</td>\n",
              "      <td>0.780303</td>\n",
              "      <td>0.756944</td>\n",
              "      <td>0</td>\n",
              "      <td>0</td>\n",
              "      <td>0</td>\n",
              "      <td>0</td>\n",
              "      <td>username1</td>\n",
              "      <td>7</td>\n",
              "      <td>12.333333</td>\n",
              "      <td>1.0</td>\n",
              "      <td>backend: tensorflow\\nclass_name: Sequential\\nc...</td>\n",
              "      <td>{'name': 'Adam', 'learning_rate': 0.001, 'deca...</td>\n",
              "      <td>5</td>\n",
              "    </tr>\n",
              "    <tr>\n",
              "      <th>18</th>\n",
              "      <td>0.764706</td>\n",
              "      <td>0.753226</td>\n",
              "      <td>0.794643</td>\n",
              "      <td>0.754630</td>\n",
              "      <td>0</td>\n",
              "      <td>0</td>\n",
              "      <td>0</td>\n",
              "      <td>0</td>\n",
              "      <td>sn2798</td>\n",
              "      <td>20</td>\n",
              "      <td>12.000000</td>\n",
              "      <td>1.0</td>\n",
              "      <td>backend: tensorflow\\nclass_name: Sequential\\nc...</td>\n",
              "      <td>{'name': 'Adam', 'learning_rate': 0.001, 'deca...</td>\n",
              "      <td>5</td>\n",
              "    </tr>\n",
              "    <tr>\n",
              "      <th>0</th>\n",
              "      <td>0.745098</td>\n",
              "      <td>0.730159</td>\n",
              "      <td>0.780556</td>\n",
              "      <td>0.733796</td>\n",
              "      <td>0</td>\n",
              "      <td>0</td>\n",
              "      <td>0</td>\n",
              "      <td>0</td>\n",
              "      <td>username1</td>\n",
              "      <td>2</td>\n",
              "      <td>13.666667</td>\n",
              "      <td>1.0</td>\n",
              "      <td>backend: tensorflow\\nclass_name: Sequential\\nc...</td>\n",
              "      <td>{'name': 'SGD', 'learning_rate': 0.001, 'decay...</td>\n",
              "      <td>5</td>\n",
              "    </tr>\n",
              "    <tr>\n",
              "      <th>11</th>\n",
              "      <td>0.745098</td>\n",
              "      <td>0.743520</td>\n",
              "      <td>0.744565</td>\n",
              "      <td>0.743056</td>\n",
              "      <td>0</td>\n",
              "      <td>0</td>\n",
              "      <td>0</td>\n",
              "      <td>0</td>\n",
              "      <td>SUN-Wenjun</td>\n",
              "      <td>13</td>\n",
              "      <td>14.666667</td>\n",
              "      <td>1.0</td>\n",
              "      <td>backend: tensorflow\\nclass_name: Sequential\\nc...</td>\n",
              "      <td>{'name': 'SGD', 'learning_rate': 0.001, 'decay...</td>\n",
              "      <td>20</td>\n",
              "    </tr>\n",
              "    <tr>\n",
              "      <th>33</th>\n",
              "      <td>0.745098</td>\n",
              "      <td>0.734906</td>\n",
              "      <td>0.764706</td>\n",
              "      <td>0.736111</td>\n",
              "      <td>0</td>\n",
              "      <td>0</td>\n",
              "      <td>0</td>\n",
              "      <td>0</td>\n",
              "      <td>yaowang126</td>\n",
              "      <td>42</td>\n",
              "      <td>14.666667</td>\n",
              "      <td>1.0</td>\n",
              "      <td>backend: tensorflow\\nclass_name: Sequential\\nc...</td>\n",
              "      <td>{'name': 'SGD', 'learning_rate': 0.001, 'decay...</td>\n",
              "      <td>5</td>\n",
              "    </tr>\n",
              "    <tr>\n",
              "      <th>26</th>\n",
              "      <td>0.725490</td>\n",
              "      <td>0.720219</td>\n",
              "      <td>0.764706</td>\n",
              "      <td>0.736111</td>\n",
              "      <td>0</td>\n",
              "      <td>0</td>\n",
              "      <td>0</td>\n",
              "      <td>0</td>\n",
              "      <td>ccabelloe</td>\n",
              "      <td>31</td>\n",
              "      <td>15.666667</td>\n",
              "      <td>1.0</td>\n",
              "      <td>backend: tensorflow\\nclass_name: Sequential\\nc...</td>\n",
              "      <td>{'name': 'SGD', 'learning_rate': 0.001, 'decay...</td>\n",
              "      <td>25</td>\n",
              "    </tr>\n",
              "    <tr>\n",
              "      <th>27</th>\n",
              "      <td>0.725490</td>\n",
              "      <td>0.720219</td>\n",
              "      <td>0.764706</td>\n",
              "      <td>0.736111</td>\n",
              "      <td>0</td>\n",
              "      <td>0</td>\n",
              "      <td>0</td>\n",
              "      <td>0</td>\n",
              "      <td>ccabelloe</td>\n",
              "      <td>32</td>\n",
              "      <td>15.666667</td>\n",
              "      <td>1.0</td>\n",
              "      <td>backend: tensorflow\\nclass_name: Sequential\\nc...</td>\n",
              "      <td>{'name': 'SGD', 'learning_rate': 0.001, 'decay...</td>\n",
              "      <td>5</td>\n",
              "    </tr>\n",
              "    <tr>\n",
              "      <th>28</th>\n",
              "      <td>0.725490</td>\n",
              "      <td>0.720219</td>\n",
              "      <td>0.764706</td>\n",
              "      <td>0.736111</td>\n",
              "      <td>0</td>\n",
              "      <td>0</td>\n",
              "      <td>0</td>\n",
              "      <td>0</td>\n",
              "      <td>ccabelloe</td>\n",
              "      <td>33</td>\n",
              "      <td>15.666667</td>\n",
              "      <td>1.0</td>\n",
              "      <td>backend: tensorflow\\nclass_name: Sequential\\nc...</td>\n",
              "      <td>{'name': 'SGD', 'learning_rate': 0.001, 'decay...</td>\n",
              "      <td>25</td>\n",
              "    </tr>\n",
              "    <tr>\n",
              "      <th>19</th>\n",
              "      <td>0.725490</td>\n",
              "      <td>0.706414</td>\n",
              "      <td>0.766409</td>\n",
              "      <td>0.712963</td>\n",
              "      <td>0</td>\n",
              "      <td>0</td>\n",
              "      <td>0</td>\n",
              "      <td>0</td>\n",
              "      <td>seanmcalevey</td>\n",
              "      <td>21</td>\n",
              "      <td>15.666667</td>\n",
              "      <td>1.0</td>\n",
              "      <td>backend: tensorflow\\nclass_name: Sequential\\nc...</td>\n",
              "      <td>{'name': 'SGD', 'learning_rate': 0.001, 'decay...</td>\n",
              "      <td>5</td>\n",
              "    </tr>\n",
              "    <tr>\n",
              "      <th>4</th>\n",
              "      <td>0.725490</td>\n",
              "      <td>0.720219</td>\n",
              "      <td>0.729839</td>\n",
              "      <td>0.719907</td>\n",
              "      <td>0</td>\n",
              "      <td>0</td>\n",
              "      <td>0</td>\n",
              "      <td>0</td>\n",
              "      <td>username1</td>\n",
              "      <td>6</td>\n",
              "      <td>16.333333</td>\n",
              "      <td>1.0</td>\n",
              "      <td>backend: tensorflow\\nclass_name: Sequential\\nc...</td>\n",
              "      <td>{'name': 'Adam', 'learning_rate': 0.001, 'deca...</td>\n",
              "      <td>5</td>\n",
              "    </tr>\n",
              "    <tr>\n",
              "      <th>10</th>\n",
              "      <td>0.705882</td>\n",
              "      <td>0.701754</td>\n",
              "      <td>0.707143</td>\n",
              "      <td>0.701389</td>\n",
              "      <td>0</td>\n",
              "      <td>0</td>\n",
              "      <td>0</td>\n",
              "      <td>0</td>\n",
              "      <td>SUN-Wenjun</td>\n",
              "      <td>12</td>\n",
              "      <td>17.666667</td>\n",
              "      <td>1.0</td>\n",
              "      <td>backend: tensorflow\\nclass_name: Sequential\\nc...</td>\n",
              "      <td>{'name': 'Adam', 'learning_rate': 0.001, 'deca...</td>\n",
              "      <td>5</td>\n",
              "    </tr>\n",
              "    <tr>\n",
              "      <th>1</th>\n",
              "      <td>0.686275</td>\n",
              "      <td>0.647059</td>\n",
              "      <td>0.767073</td>\n",
              "      <td>0.668981</td>\n",
              "      <td>0</td>\n",
              "      <td>0</td>\n",
              "      <td>0</td>\n",
              "      <td>0</td>\n",
              "      <td>username1</td>\n",
              "      <td>3</td>\n",
              "      <td>17.333333</td>\n",
              "      <td>1.0</td>\n",
              "      <td>backend: tensorflow\\nclass_name: Sequential\\nc...</td>\n",
              "      <td>{'name': 'Adam', 'learning_rate': 0.001, 'deca...</td>\n",
              "      <td>5</td>\n",
              "    </tr>\n",
              "    <tr>\n",
              "      <th>2</th>\n",
              "      <td>0.666667</td>\n",
              "      <td>0.666153</td>\n",
              "      <td>0.673981</td>\n",
              "      <td>0.671296</td>\n",
              "      <td>0</td>\n",
              "      <td>0</td>\n",
              "      <td>0</td>\n",
              "      <td>0</td>\n",
              "      <td>username1</td>\n",
              "      <td>4</td>\n",
              "      <td>19.000000</td>\n",
              "      <td>1.0</td>\n",
              "      <td>backend: tensorflow\\nclass_name: Sequential\\nc...</td>\n",
              "      <td>{'name': 'SGD', 'learning_rate': 0.001, 'decay...</td>\n",
              "      <td>5</td>\n",
              "    </tr>\n",
              "    <tr>\n",
              "      <th>9</th>\n",
              "      <td>0.666667</td>\n",
              "      <td>0.664603</td>\n",
              "      <td>0.665373</td>\n",
              "      <td>0.664352</td>\n",
              "      <td>0</td>\n",
              "      <td>0</td>\n",
              "      <td>0</td>\n",
              "      <td>0</td>\n",
              "      <td>username1</td>\n",
              "      <td>11</td>\n",
              "      <td>19.666667</td>\n",
              "      <td>1.0</td>\n",
              "      <td>backend: tensorflow\\nclass_name: Sequential\\nc...</td>\n",
              "      <td>{'name': 'Adam', 'learning_rate': 0.001, 'deca...</td>\n",
              "      <td>5</td>\n",
              "    </tr>\n",
              "    <tr>\n",
              "      <th>22</th>\n",
              "      <td>0.529412</td>\n",
              "      <td>0.346154</td>\n",
              "      <td>0.264706</td>\n",
              "      <td>0.500000</td>\n",
              "      <td>0</td>\n",
              "      <td>0</td>\n",
              "      <td>0</td>\n",
              "      <td>0</td>\n",
              "      <td>seanmcalevey</td>\n",
              "      <td>25</td>\n",
              "      <td>21.000000</td>\n",
              "      <td>1.0</td>\n",
              "      <td>backend: tensorflow\\nclass_name: Sequential\\nc...</td>\n",
              "      <td>{'name': 'SGD', 'learning_rate': 0.001, 'decay...</td>\n",
              "      <td>25</td>\n",
              "    </tr>\n",
              "    <tr>\n",
              "      <th>24</th>\n",
              "      <td>0.529412</td>\n",
              "      <td>0.346154</td>\n",
              "      <td>0.264706</td>\n",
              "      <td>0.500000</td>\n",
              "      <td>0</td>\n",
              "      <td>0</td>\n",
              "      <td>0</td>\n",
              "      <td>0</td>\n",
              "      <td>sn2798</td>\n",
              "      <td>27</td>\n",
              "      <td>21.000000</td>\n",
              "      <td>1.0</td>\n",
              "      <td>backend: tensorflow\\nclass_name: Sequential\\nc...</td>\n",
              "      <td>{'name': 'Adam', 'learning_rate': 0.001, 'deca...</td>\n",
              "      <td>5</td>\n",
              "    </tr>\n",
              "    <tr>\n",
              "      <th>25</th>\n",
              "      <td>0.529412</td>\n",
              "      <td>0.346154</td>\n",
              "      <td>0.264706</td>\n",
              "      <td>0.500000</td>\n",
              "      <td>0</td>\n",
              "      <td>0</td>\n",
              "      <td>0</td>\n",
              "      <td>0</td>\n",
              "      <td>sn2798</td>\n",
              "      <td>29</td>\n",
              "      <td>21.000000</td>\n",
              "      <td>1.0</td>\n",
              "      <td>backend: tensorflow\\nclass_name: Sequential\\nc...</td>\n",
              "      <td>{'name': 'Adam', 'learning_rate': 0.001, 'deca...</td>\n",
              "      <td>10</td>\n",
              "    </tr>\n",
              "  </tbody>\n",
              "</table>\n",
              "</div>"
            ],
            "text/plain": [
              "    accuracy  ...  model_epochs\n",
              "15  0.941176  ...             5\n",
              "14  0.901961  ...            10\n",
              "16  0.875000  ...            25\n",
              "21  0.862745  ...            25\n",
              "23  0.862745  ...            50\n",
              "17  0.823529  ...            25\n",
              "20  0.843137  ...            25\n",
              "31  0.823529  ...            25\n",
              "32  0.823529  ...            25\n",
              "13  0.803922  ...             5\n",
              "30  0.803922  ...             5\n",
              "29  0.803922  ...             5\n",
              "6   0.784314  ...             5\n",
              "7   0.784314  ...             5\n",
              "8   0.784314  ...             5\n",
              "3   0.784314  ...             5\n",
              "12  0.784314  ...            20\n",
              "5   0.764706  ...             5\n",
              "18  0.764706  ...             5\n",
              "0   0.745098  ...             5\n",
              "11  0.745098  ...            20\n",
              "33  0.745098  ...             5\n",
              "26  0.725490  ...            25\n",
              "27  0.725490  ...             5\n",
              "28  0.725490  ...            25\n",
              "19  0.725490  ...             5\n",
              "4   0.725490  ...             5\n",
              "10  0.705882  ...             5\n",
              "1   0.686275  ...             5\n",
              "2   0.666667  ...             5\n",
              "9   0.666667  ...             5\n",
              "22  0.529412  ...            25\n",
              "24  0.529412  ...             5\n",
              "25  0.529412  ...            10\n",
              "\n",
              "[34 rows x 15 columns]"
            ]
          },
          "metadata": {
            "tags": []
          }
        }
      ]
    },
    {
      "cell_type": "code",
      "metadata": {
        "id": "peQL1ChK7qkF",
        "colab_type": "code",
        "colab": {}
      },
      "source": [
        ""
      ],
      "execution_count": 0,
      "outputs": []
    },
    {
      "cell_type": "code",
      "metadata": {
        "id": "uEfx9UyD7qvy",
        "colab_type": "code",
        "colab": {}
      },
      "source": [
        ""
      ],
      "execution_count": 0,
      "outputs": []
    },
    {
      "cell_type": "markdown",
      "metadata": {
        "id": "CXYUPgaY25G-",
        "colab_type": "text"
      },
      "source": [
        "Import the best model from the leader board (whatever the best model is after your final submission)"
      ]
    },
    {
      "cell_type": "code",
      "metadata": {
        "id": "2jHhJ5CTw87T",
        "colab_type": "code",
        "colab": {
          "base_uri": "https://localhost:8080/",
          "height": 1000
        },
        "outputId": "1bb84ff4-8e37-40d3-d5d7-6e5076202097"
      },
      "source": [
        "# Import and print model details from leaderboard\n",
        "model_config= leaderboard.loc[0,'model_config'] # model details best model (i.e.-row #1)\n",
        "model_optim_config= leaderboard.loc[0,'model_optim_config'] # model details best model (i.e.-row #1)\n",
        "\n",
        "print(model_config)\n",
        "print(model_optim_config)"
      ],
      "execution_count": 66,
      "outputs": [
        {
          "output_type": "stream",
          "text": [
            "backend: tensorflow\n",
            "class_name: Sequential\n",
            "config:\n",
            "  layers:\n",
            "  - class_name: Dense\n",
            "    config:\n",
            "      activation: relu\n",
            "      activity_regularizer: null\n",
            "      batch_input_shape: !!python/tuple [null, 224, 224, 3]\n",
            "      bias_constraint: null\n",
            "      bias_initializer:\n",
            "        class_name: Zeros\n",
            "        config: {dtype: float32}\n",
            "      bias_regularizer: null\n",
            "      dtype: float32\n",
            "      kernel_constraint: null\n",
            "      kernel_initializer:\n",
            "        class_name: GlorotUniform\n",
            "        config: {dtype: float32, seed: null}\n",
            "      kernel_regularizer: null\n",
            "      name: dense\n",
            "      trainable: true\n",
            "      units: 64\n",
            "      use_bias: true\n",
            "  - class_name: Dense\n",
            "    config:\n",
            "      activation: relu\n",
            "      activity_regularizer: null\n",
            "      bias_constraint: null\n",
            "      bias_initializer:\n",
            "        class_name: Zeros\n",
            "        config: {dtype: float32}\n",
            "      bias_regularizer: null\n",
            "      dtype: float32\n",
            "      kernel_constraint: null\n",
            "      kernel_initializer:\n",
            "        class_name: GlorotUniform\n",
            "        config: {dtype: float32, seed: null}\n",
            "      kernel_regularizer: null\n",
            "      name: dense_1\n",
            "      trainable: true\n",
            "      units: 64\n",
            "      use_bias: true\n",
            "  - class_name: Dense\n",
            "    config:\n",
            "      activation: relu\n",
            "      activity_regularizer: null\n",
            "      bias_constraint: null\n",
            "      bias_initializer:\n",
            "        class_name: Zeros\n",
            "        config: {dtype: float32}\n",
            "      bias_regularizer: null\n",
            "      dtype: float32\n",
            "      kernel_constraint: null\n",
            "      kernel_initializer:\n",
            "        class_name: GlorotUniform\n",
            "        config: {dtype: float32, seed: null}\n",
            "      kernel_regularizer: null\n",
            "      name: dense_2\n",
            "      trainable: true\n",
            "      units: 64\n",
            "      use_bias: true\n",
            "  - class_name: Flatten\n",
            "    config: {data_format: channels_last, dtype: float32, name: flatten, trainable: true}\n",
            "  - class_name: Dense\n",
            "    config:\n",
            "      activation: softmax\n",
            "      activity_regularizer: null\n",
            "      bias_constraint: null\n",
            "      bias_initializer:\n",
            "        class_name: Zeros\n",
            "        config: {dtype: float32}\n",
            "      bias_regularizer: null\n",
            "      dtype: float32\n",
            "      kernel_constraint: null\n",
            "      kernel_initializer:\n",
            "        class_name: GlorotUniform\n",
            "        config: {dtype: float32, seed: null}\n",
            "      kernel_regularizer: null\n",
            "      name: dense_3\n",
            "      trainable: true\n",
            "      units: 2\n",
            "      use_bias: true\n",
            "  name: sequential\n",
            "keras_version: 2.2.4-tf\n",
            "\n",
            "{'name': 'SGD', 'learning_rate': 0.001, 'decay': 0.0, 'momentum': 0.0, 'nesterov': False}\n"
          ],
          "name": "stdout"
        }
      ]
    },
    {
      "cell_type": "code",
      "metadata": {
        "id": "lbDg8fbexHdj",
        "colab_type": "code",
        "colab": {
          "base_uri": "https://localhost:8080/",
          "height": 329
        },
        "outputId": "2fd95730-cf33-4390-f692-71f400e8b0b6"
      },
      "source": [
        "from tensorflow.keras.models import model_from_yaml\n",
        "model4 = model_from_yaml(model_config)\n",
        "model4.summary()"
      ],
      "execution_count": 68,
      "outputs": [
        {
          "output_type": "stream",
          "text": [
            "Model: \"sequential\"\n",
            "_________________________________________________________________\n",
            "Layer (type)                 Output Shape              Param #   \n",
            "=================================================================\n",
            "dense (Dense)                (None, 224, 224, 64)      256       \n",
            "_________________________________________________________________\n",
            "dense_1 (Dense)              (None, 224, 224, 64)      4160      \n",
            "_________________________________________________________________\n",
            "dense_2 (Dense)              (None, 224, 224, 64)      4160      \n",
            "_________________________________________________________________\n",
            "flatten (Flatten)            (None, 3211264)           0         \n",
            "_________________________________________________________________\n",
            "dense_3 (Dense)              (None, 2)                 6422530   \n",
            "=================================================================\n",
            "Total params: 6,431,106\n",
            "Trainable params: 6,431,106\n",
            "Non-trainable params: 0\n",
            "_________________________________________________________________\n"
          ],
          "name": "stdout"
        }
      ]
    },
    {
      "cell_type": "markdown",
      "metadata": {
        "id": "rgHDLULz5BjI",
        "colab_type": "text"
      },
      "source": [
        "The best model here is a NN model but mine is a CNN model, the optimazation method is the same as I used."
      ]
    },
    {
      "cell_type": "code",
      "metadata": {
        "id": "QDnFBgom2Yas",
        "colab_type": "code",
        "colab": {
          "base_uri": "https://localhost:8080/",
          "height": 815
        },
        "outputId": "c4a1170a-1f19-4627-c0db-5efd3e563cd9"
      },
      "source": [
        "model4.compile(\n",
        "      optimizer=\"adam\", # to use callback set lr arg such as Adam(lr=0.001) instead\n",
        "      loss= 'categorical_crossentropy',\n",
        "      metrics=['accuracy'])\n",
        "    \n",
        "    # Fitting the CNN to the Training set\n",
        "model4.fit(X_train, y_train, \n",
        "                     epochs = 10, verbose=1,validation_data=(X_test,y_test),callbacks=[mc,red_lr])"
      ],
      "execution_count": 101,
      "outputs": [
        {
          "output_type": "stream",
          "text": [
            "ERROR! Session/line number was not unique in database. History logging moved to new session 65\n",
            "Epoch 1/10\n",
            "7/7 [==============================] - ETA: 0s - loss: 7.1102 - accuracy: 0.5842\n",
            "Epoch 00001: val_accuracy did not improve from 0.74510\n",
            "7/7 [==============================] - 21s 3s/step - loss: 7.1102 - accuracy: 0.5842 - val_loss: 5.7534 - val_accuracy: 0.5686 - lr: 0.0010\n",
            "Epoch 2/10\n",
            "7/7 [==============================] - ETA: 0s - loss: 1.7867 - accuracy: 0.7327\n",
            "Epoch 00002: val_accuracy did not improve from 0.74510\n",
            "7/7 [==============================] - 20s 3s/step - loss: 1.7867 - accuracy: 0.7327 - val_loss: 1.7796 - val_accuracy: 0.6471 - lr: 0.0010\n",
            "Epoch 3/10\n",
            "7/7 [==============================] - ETA: 0s - loss: 0.5952 - accuracy: 0.7921\n",
            "Epoch 00003: val_accuracy did not improve from 0.74510\n",
            "7/7 [==============================] - 20s 3s/step - loss: 0.5952 - accuracy: 0.7921 - val_loss: 1.4673 - val_accuracy: 0.7059 - lr: 0.0010\n",
            "Epoch 4/10\n",
            "7/7 [==============================] - ETA: 0s - loss: 0.3217 - accuracy: 0.8317\n",
            "Epoch 00004: val_accuracy did not improve from 0.74510\n",
            "7/7 [==============================] - 20s 3s/step - loss: 0.3217 - accuracy: 0.8317 - val_loss: 1.2125 - val_accuracy: 0.7059 - lr: 0.0010\n",
            "Epoch 5/10\n",
            "7/7 [==============================] - ETA: 0s - loss: 0.2749 - accuracy: 0.8960\n",
            "Epoch 00005: val_accuracy did not improve from 0.74510\n",
            "7/7 [==============================] - 22s 3s/step - loss: 0.2749 - accuracy: 0.8960 - val_loss: 1.1707 - val_accuracy: 0.7255 - lr: 0.0010\n",
            "Epoch 6/10\n",
            "7/7 [==============================] - ETA: 0s - loss: 0.2211 - accuracy: 0.8960\n",
            "Epoch 00006: val_accuracy did not improve from 0.74510\n",
            "7/7 [==============================] - 21s 3s/step - loss: 0.2211 - accuracy: 0.8960 - val_loss: 1.2204 - val_accuracy: 0.7255 - lr: 0.0010\n",
            "Epoch 7/10\n",
            "7/7 [==============================] - ETA: 0s - loss: 0.1814 - accuracy: 0.9406\n",
            "Epoch 00007: val_accuracy did not improve from 0.74510\n",
            "\n",
            "Epoch 00007: ReduceLROnPlateau reducing learning rate to 0.001.\n",
            "7/7 [==============================] - 21s 3s/step - loss: 0.1814 - accuracy: 0.9406 - val_loss: 1.2807 - val_accuracy: 0.7059 - lr: 0.0010\n",
            "Epoch 8/10\n",
            "7/7 [==============================] - ETA: 0s - loss: 0.1533 - accuracy: 0.9505\n",
            "Epoch 00008: val_accuracy did not improve from 0.74510\n",
            "7/7 [==============================] - 21s 3s/step - loss: 0.1533 - accuracy: 0.9505 - val_loss: 1.2690 - val_accuracy: 0.7255 - lr: 0.0010\n",
            "Epoch 9/10\n",
            "7/7 [==============================] - ETA: 0s - loss: 0.1084 - accuracy: 0.9604\n",
            "Epoch 00009: val_accuracy did not improve from 0.74510\n",
            "\n",
            "Epoch 00009: ReduceLROnPlateau reducing learning rate to 0.001.\n",
            "7/7 [==============================] - 21s 3s/step - loss: 0.1084 - accuracy: 0.9604 - val_loss: 1.3705 - val_accuracy: 0.6863 - lr: 0.0010\n",
            "Epoch 10/10\n",
            "7/7 [==============================] - ETA: 0s - loss: 0.0730 - accuracy: 0.9950\n",
            "Epoch 00010: val_accuracy did not improve from 0.74510\n",
            "7/7 [==============================] - 21s 3s/step - loss: 0.0730 - accuracy: 0.9950 - val_loss: 1.5678 - val_accuracy: 0.7059 - lr: 0.0010\n"
          ],
          "name": "stdout"
        },
        {
          "output_type": "execute_result",
          "data": {
            "text/plain": [
              "<tensorflow.python.keras.callbacks.History at 0x7faf9c0f4940>"
            ]
          },
          "metadata": {
            "tags": []
          },
          "execution_count": 101
        }
      ]
    }
  ]
}